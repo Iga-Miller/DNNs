{
  "nbformat": 4,
  "nbformat_minor": 0,
  "metadata": {
    "colab": {
      "provenance": []
    },
    "kernelspec": {
      "name": "python3",
      "display_name": "Python 3"
    },
    "language_info": {
      "name": "python"
    },
    "widgets": {
      "application/vnd.jupyter.widget-state+json": {
        "0707ae89e05e46658beafd1b55d95089": {
          "model_module": "@jupyter-widgets/controls",
          "model_name": "HBoxModel",
          "model_module_version": "1.5.0",
          "state": {
            "_dom_classes": [],
            "_model_module": "@jupyter-widgets/controls",
            "_model_module_version": "1.5.0",
            "_model_name": "HBoxModel",
            "_view_count": null,
            "_view_module": "@jupyter-widgets/controls",
            "_view_module_version": "1.5.0",
            "_view_name": "HBoxView",
            "box_style": "",
            "children": [
              "IPY_MODEL_33fec76c829245ed827793d2222ad8bb",
              "IPY_MODEL_b716b824965d4ff89ce26180bda3e051",
              "IPY_MODEL_5d07bc8fe2154682abed28d5b5c8af70"
            ],
            "layout": "IPY_MODEL_8f9eb5f6db4243d0864fe38b86a767f2"
          }
        },
        "33fec76c829245ed827793d2222ad8bb": {
          "model_module": "@jupyter-widgets/controls",
          "model_name": "HTMLModel",
          "model_module_version": "1.5.0",
          "state": {
            "_dom_classes": [],
            "_model_module": "@jupyter-widgets/controls",
            "_model_module_version": "1.5.0",
            "_model_name": "HTMLModel",
            "_view_count": null,
            "_view_module": "@jupyter-widgets/controls",
            "_view_module_version": "1.5.0",
            "_view_name": "HTMLView",
            "description": "",
            "description_tooltip": null,
            "layout": "IPY_MODEL_5b2fa113271841399f5f07a0b10b459a",
            "placeholder": "​",
            "style": "IPY_MODEL_b319d185e37f4ab4b87adbbe762e2502",
            "value": "100%"
          }
        },
        "b716b824965d4ff89ce26180bda3e051": {
          "model_module": "@jupyter-widgets/controls",
          "model_name": "FloatProgressModel",
          "model_module_version": "1.5.0",
          "state": {
            "_dom_classes": [],
            "_model_module": "@jupyter-widgets/controls",
            "_model_module_version": "1.5.0",
            "_model_name": "FloatProgressModel",
            "_view_count": null,
            "_view_module": "@jupyter-widgets/controls",
            "_view_module_version": "1.5.0",
            "_view_name": "ProgressView",
            "bar_style": "success",
            "description": "",
            "description_tooltip": null,
            "layout": "IPY_MODEL_966b03625a3c41c4970e5e1cbaf044f3",
            "max": 10,
            "min": 0,
            "orientation": "horizontal",
            "style": "IPY_MODEL_f15d9a2044fd4d3eb3626ae1fb2d8bb5",
            "value": 10
          }
        },
        "5d07bc8fe2154682abed28d5b5c8af70": {
          "model_module": "@jupyter-widgets/controls",
          "model_name": "HTMLModel",
          "model_module_version": "1.5.0",
          "state": {
            "_dom_classes": [],
            "_model_module": "@jupyter-widgets/controls",
            "_model_module_version": "1.5.0",
            "_model_name": "HTMLModel",
            "_view_count": null,
            "_view_module": "@jupyter-widgets/controls",
            "_view_module_version": "1.5.0",
            "_view_name": "HTMLView",
            "description": "",
            "description_tooltip": null,
            "layout": "IPY_MODEL_7e83d79d9def4898b0f01e7d48e126cb",
            "placeholder": "​",
            "style": "IPY_MODEL_b4e8893f1e6748c5af797db6b2c2ae9d",
            "value": " 10/10 [02:12&lt;00:00, 13.19s/it]"
          }
        },
        "8f9eb5f6db4243d0864fe38b86a767f2": {
          "model_module": "@jupyter-widgets/base",
          "model_name": "LayoutModel",
          "model_module_version": "1.2.0",
          "state": {
            "_model_module": "@jupyter-widgets/base",
            "_model_module_version": "1.2.0",
            "_model_name": "LayoutModel",
            "_view_count": null,
            "_view_module": "@jupyter-widgets/base",
            "_view_module_version": "1.2.0",
            "_view_name": "LayoutView",
            "align_content": null,
            "align_items": null,
            "align_self": null,
            "border": null,
            "bottom": null,
            "display": null,
            "flex": null,
            "flex_flow": null,
            "grid_area": null,
            "grid_auto_columns": null,
            "grid_auto_flow": null,
            "grid_auto_rows": null,
            "grid_column": null,
            "grid_gap": null,
            "grid_row": null,
            "grid_template_areas": null,
            "grid_template_columns": null,
            "grid_template_rows": null,
            "height": null,
            "justify_content": null,
            "justify_items": null,
            "left": null,
            "margin": null,
            "max_height": null,
            "max_width": null,
            "min_height": null,
            "min_width": null,
            "object_fit": null,
            "object_position": null,
            "order": null,
            "overflow": null,
            "overflow_x": null,
            "overflow_y": null,
            "padding": null,
            "right": null,
            "top": null,
            "visibility": null,
            "width": null
          }
        },
        "5b2fa113271841399f5f07a0b10b459a": {
          "model_module": "@jupyter-widgets/base",
          "model_name": "LayoutModel",
          "model_module_version": "1.2.0",
          "state": {
            "_model_module": "@jupyter-widgets/base",
            "_model_module_version": "1.2.0",
            "_model_name": "LayoutModel",
            "_view_count": null,
            "_view_module": "@jupyter-widgets/base",
            "_view_module_version": "1.2.0",
            "_view_name": "LayoutView",
            "align_content": null,
            "align_items": null,
            "align_self": null,
            "border": null,
            "bottom": null,
            "display": null,
            "flex": null,
            "flex_flow": null,
            "grid_area": null,
            "grid_auto_columns": null,
            "grid_auto_flow": null,
            "grid_auto_rows": null,
            "grid_column": null,
            "grid_gap": null,
            "grid_row": null,
            "grid_template_areas": null,
            "grid_template_columns": null,
            "grid_template_rows": null,
            "height": null,
            "justify_content": null,
            "justify_items": null,
            "left": null,
            "margin": null,
            "max_height": null,
            "max_width": null,
            "min_height": null,
            "min_width": null,
            "object_fit": null,
            "object_position": null,
            "order": null,
            "overflow": null,
            "overflow_x": null,
            "overflow_y": null,
            "padding": null,
            "right": null,
            "top": null,
            "visibility": null,
            "width": null
          }
        },
        "b319d185e37f4ab4b87adbbe762e2502": {
          "model_module": "@jupyter-widgets/controls",
          "model_name": "DescriptionStyleModel",
          "model_module_version": "1.5.0",
          "state": {
            "_model_module": "@jupyter-widgets/controls",
            "_model_module_version": "1.5.0",
            "_model_name": "DescriptionStyleModel",
            "_view_count": null,
            "_view_module": "@jupyter-widgets/base",
            "_view_module_version": "1.2.0",
            "_view_name": "StyleView",
            "description_width": ""
          }
        },
        "966b03625a3c41c4970e5e1cbaf044f3": {
          "model_module": "@jupyter-widgets/base",
          "model_name": "LayoutModel",
          "model_module_version": "1.2.0",
          "state": {
            "_model_module": "@jupyter-widgets/base",
            "_model_module_version": "1.2.0",
            "_model_name": "LayoutModel",
            "_view_count": null,
            "_view_module": "@jupyter-widgets/base",
            "_view_module_version": "1.2.0",
            "_view_name": "LayoutView",
            "align_content": null,
            "align_items": null,
            "align_self": null,
            "border": null,
            "bottom": null,
            "display": null,
            "flex": null,
            "flex_flow": null,
            "grid_area": null,
            "grid_auto_columns": null,
            "grid_auto_flow": null,
            "grid_auto_rows": null,
            "grid_column": null,
            "grid_gap": null,
            "grid_row": null,
            "grid_template_areas": null,
            "grid_template_columns": null,
            "grid_template_rows": null,
            "height": null,
            "justify_content": null,
            "justify_items": null,
            "left": null,
            "margin": null,
            "max_height": null,
            "max_width": null,
            "min_height": null,
            "min_width": null,
            "object_fit": null,
            "object_position": null,
            "order": null,
            "overflow": null,
            "overflow_x": null,
            "overflow_y": null,
            "padding": null,
            "right": null,
            "top": null,
            "visibility": null,
            "width": null
          }
        },
        "f15d9a2044fd4d3eb3626ae1fb2d8bb5": {
          "model_module": "@jupyter-widgets/controls",
          "model_name": "ProgressStyleModel",
          "model_module_version": "1.5.0",
          "state": {
            "_model_module": "@jupyter-widgets/controls",
            "_model_module_version": "1.5.0",
            "_model_name": "ProgressStyleModel",
            "_view_count": null,
            "_view_module": "@jupyter-widgets/base",
            "_view_module_version": "1.2.0",
            "_view_name": "StyleView",
            "bar_color": null,
            "description_width": ""
          }
        },
        "7e83d79d9def4898b0f01e7d48e126cb": {
          "model_module": "@jupyter-widgets/base",
          "model_name": "LayoutModel",
          "model_module_version": "1.2.0",
          "state": {
            "_model_module": "@jupyter-widgets/base",
            "_model_module_version": "1.2.0",
            "_model_name": "LayoutModel",
            "_view_count": null,
            "_view_module": "@jupyter-widgets/base",
            "_view_module_version": "1.2.0",
            "_view_name": "LayoutView",
            "align_content": null,
            "align_items": null,
            "align_self": null,
            "border": null,
            "bottom": null,
            "display": null,
            "flex": null,
            "flex_flow": null,
            "grid_area": null,
            "grid_auto_columns": null,
            "grid_auto_flow": null,
            "grid_auto_rows": null,
            "grid_column": null,
            "grid_gap": null,
            "grid_row": null,
            "grid_template_areas": null,
            "grid_template_columns": null,
            "grid_template_rows": null,
            "height": null,
            "justify_content": null,
            "justify_items": null,
            "left": null,
            "margin": null,
            "max_height": null,
            "max_width": null,
            "min_height": null,
            "min_width": null,
            "object_fit": null,
            "object_position": null,
            "order": null,
            "overflow": null,
            "overflow_x": null,
            "overflow_y": null,
            "padding": null,
            "right": null,
            "top": null,
            "visibility": null,
            "width": null
          }
        },
        "b4e8893f1e6748c5af797db6b2c2ae9d": {
          "model_module": "@jupyter-widgets/controls",
          "model_name": "DescriptionStyleModel",
          "model_module_version": "1.5.0",
          "state": {
            "_model_module": "@jupyter-widgets/controls",
            "_model_module_version": "1.5.0",
            "_model_name": "DescriptionStyleModel",
            "_view_count": null,
            "_view_module": "@jupyter-widgets/base",
            "_view_module_version": "1.2.0",
            "_view_name": "StyleView",
            "description_width": ""
          }
        },
        "036a453352fb4f61bacce79801ae4e1d": {
          "model_module": "@jupyter-widgets/controls",
          "model_name": "HBoxModel",
          "model_module_version": "1.5.0",
          "state": {
            "_dom_classes": [],
            "_model_module": "@jupyter-widgets/controls",
            "_model_module_version": "1.5.0",
            "_model_name": "HBoxModel",
            "_view_count": null,
            "_view_module": "@jupyter-widgets/controls",
            "_view_module_version": "1.5.0",
            "_view_name": "HBoxView",
            "box_style": "",
            "children": [
              "IPY_MODEL_15cb0d23e0264702a888d38c6ac9365a",
              "IPY_MODEL_c0b21f04d309455c90176c0316e60ea1",
              "IPY_MODEL_d6e9f40ca10b4e37a98c4f42e87fbea4"
            ],
            "layout": "IPY_MODEL_7b3493f776fa4c3283084166bd88424b"
          }
        },
        "15cb0d23e0264702a888d38c6ac9365a": {
          "model_module": "@jupyter-widgets/controls",
          "model_name": "HTMLModel",
          "model_module_version": "1.5.0",
          "state": {
            "_dom_classes": [],
            "_model_module": "@jupyter-widgets/controls",
            "_model_module_version": "1.5.0",
            "_model_name": "HTMLModel",
            "_view_count": null,
            "_view_module": "@jupyter-widgets/controls",
            "_view_module_version": "1.5.0",
            "_view_name": "HTMLView",
            "description": "",
            "description_tooltip": null,
            "layout": "IPY_MODEL_aa96c4b861e442d39722384a5c6860ba",
            "placeholder": "​",
            "style": "IPY_MODEL_4bf005f830554da79cad9aecbe688e9a",
            "value": "100%"
          }
        },
        "c0b21f04d309455c90176c0316e60ea1": {
          "model_module": "@jupyter-widgets/controls",
          "model_name": "FloatProgressModel",
          "model_module_version": "1.5.0",
          "state": {
            "_dom_classes": [],
            "_model_module": "@jupyter-widgets/controls",
            "_model_module_version": "1.5.0",
            "_model_name": "FloatProgressModel",
            "_view_count": null,
            "_view_module": "@jupyter-widgets/controls",
            "_view_module_version": "1.5.0",
            "_view_name": "ProgressView",
            "bar_style": "success",
            "description": "",
            "description_tooltip": null,
            "layout": "IPY_MODEL_7c5d5e1bc92d4c72a3582a2d6245b7b1",
            "max": 5,
            "min": 0,
            "orientation": "horizontal",
            "style": "IPY_MODEL_a9c01b93cc604a8ebc20571bf33b4663",
            "value": 5
          }
        },
        "d6e9f40ca10b4e37a98c4f42e87fbea4": {
          "model_module": "@jupyter-widgets/controls",
          "model_name": "HTMLModel",
          "model_module_version": "1.5.0",
          "state": {
            "_dom_classes": [],
            "_model_module": "@jupyter-widgets/controls",
            "_model_module_version": "1.5.0",
            "_model_name": "HTMLModel",
            "_view_count": null,
            "_view_module": "@jupyter-widgets/controls",
            "_view_module_version": "1.5.0",
            "_view_name": "HTMLView",
            "description": "",
            "description_tooltip": null,
            "layout": "IPY_MODEL_91493d53f7e94718866965955d7febef",
            "placeholder": "​",
            "style": "IPY_MODEL_1d5d05fb4d674093a61b8af8309ab80f",
            "value": " 5/5 [07:13&lt;00:00, 85.89s/it]"
          }
        },
        "7b3493f776fa4c3283084166bd88424b": {
          "model_module": "@jupyter-widgets/base",
          "model_name": "LayoutModel",
          "model_module_version": "1.2.0",
          "state": {
            "_model_module": "@jupyter-widgets/base",
            "_model_module_version": "1.2.0",
            "_model_name": "LayoutModel",
            "_view_count": null,
            "_view_module": "@jupyter-widgets/base",
            "_view_module_version": "1.2.0",
            "_view_name": "LayoutView",
            "align_content": null,
            "align_items": null,
            "align_self": null,
            "border": null,
            "bottom": null,
            "display": null,
            "flex": null,
            "flex_flow": null,
            "grid_area": null,
            "grid_auto_columns": null,
            "grid_auto_flow": null,
            "grid_auto_rows": null,
            "grid_column": null,
            "grid_gap": null,
            "grid_row": null,
            "grid_template_areas": null,
            "grid_template_columns": null,
            "grid_template_rows": null,
            "height": null,
            "justify_content": null,
            "justify_items": null,
            "left": null,
            "margin": null,
            "max_height": null,
            "max_width": null,
            "min_height": null,
            "min_width": null,
            "object_fit": null,
            "object_position": null,
            "order": null,
            "overflow": null,
            "overflow_x": null,
            "overflow_y": null,
            "padding": null,
            "right": null,
            "top": null,
            "visibility": null,
            "width": null
          }
        },
        "aa96c4b861e442d39722384a5c6860ba": {
          "model_module": "@jupyter-widgets/base",
          "model_name": "LayoutModel",
          "model_module_version": "1.2.0",
          "state": {
            "_model_module": "@jupyter-widgets/base",
            "_model_module_version": "1.2.0",
            "_model_name": "LayoutModel",
            "_view_count": null,
            "_view_module": "@jupyter-widgets/base",
            "_view_module_version": "1.2.0",
            "_view_name": "LayoutView",
            "align_content": null,
            "align_items": null,
            "align_self": null,
            "border": null,
            "bottom": null,
            "display": null,
            "flex": null,
            "flex_flow": null,
            "grid_area": null,
            "grid_auto_columns": null,
            "grid_auto_flow": null,
            "grid_auto_rows": null,
            "grid_column": null,
            "grid_gap": null,
            "grid_row": null,
            "grid_template_areas": null,
            "grid_template_columns": null,
            "grid_template_rows": null,
            "height": null,
            "justify_content": null,
            "justify_items": null,
            "left": null,
            "margin": null,
            "max_height": null,
            "max_width": null,
            "min_height": null,
            "min_width": null,
            "object_fit": null,
            "object_position": null,
            "order": null,
            "overflow": null,
            "overflow_x": null,
            "overflow_y": null,
            "padding": null,
            "right": null,
            "top": null,
            "visibility": null,
            "width": null
          }
        },
        "4bf005f830554da79cad9aecbe688e9a": {
          "model_module": "@jupyter-widgets/controls",
          "model_name": "DescriptionStyleModel",
          "model_module_version": "1.5.0",
          "state": {
            "_model_module": "@jupyter-widgets/controls",
            "_model_module_version": "1.5.0",
            "_model_name": "DescriptionStyleModel",
            "_view_count": null,
            "_view_module": "@jupyter-widgets/base",
            "_view_module_version": "1.2.0",
            "_view_name": "StyleView",
            "description_width": ""
          }
        },
        "7c5d5e1bc92d4c72a3582a2d6245b7b1": {
          "model_module": "@jupyter-widgets/base",
          "model_name": "LayoutModel",
          "model_module_version": "1.2.0",
          "state": {
            "_model_module": "@jupyter-widgets/base",
            "_model_module_version": "1.2.0",
            "_model_name": "LayoutModel",
            "_view_count": null,
            "_view_module": "@jupyter-widgets/base",
            "_view_module_version": "1.2.0",
            "_view_name": "LayoutView",
            "align_content": null,
            "align_items": null,
            "align_self": null,
            "border": null,
            "bottom": null,
            "display": null,
            "flex": null,
            "flex_flow": null,
            "grid_area": null,
            "grid_auto_columns": null,
            "grid_auto_flow": null,
            "grid_auto_rows": null,
            "grid_column": null,
            "grid_gap": null,
            "grid_row": null,
            "grid_template_areas": null,
            "grid_template_columns": null,
            "grid_template_rows": null,
            "height": null,
            "justify_content": null,
            "justify_items": null,
            "left": null,
            "margin": null,
            "max_height": null,
            "max_width": null,
            "min_height": null,
            "min_width": null,
            "object_fit": null,
            "object_position": null,
            "order": null,
            "overflow": null,
            "overflow_x": null,
            "overflow_y": null,
            "padding": null,
            "right": null,
            "top": null,
            "visibility": null,
            "width": null
          }
        },
        "a9c01b93cc604a8ebc20571bf33b4663": {
          "model_module": "@jupyter-widgets/controls",
          "model_name": "ProgressStyleModel",
          "model_module_version": "1.5.0",
          "state": {
            "_model_module": "@jupyter-widgets/controls",
            "_model_module_version": "1.5.0",
            "_model_name": "ProgressStyleModel",
            "_view_count": null,
            "_view_module": "@jupyter-widgets/base",
            "_view_module_version": "1.2.0",
            "_view_name": "StyleView",
            "bar_color": null,
            "description_width": ""
          }
        },
        "91493d53f7e94718866965955d7febef": {
          "model_module": "@jupyter-widgets/base",
          "model_name": "LayoutModel",
          "model_module_version": "1.2.0",
          "state": {
            "_model_module": "@jupyter-widgets/base",
            "_model_module_version": "1.2.0",
            "_model_name": "LayoutModel",
            "_view_count": null,
            "_view_module": "@jupyter-widgets/base",
            "_view_module_version": "1.2.0",
            "_view_name": "LayoutView",
            "align_content": null,
            "align_items": null,
            "align_self": null,
            "border": null,
            "bottom": null,
            "display": null,
            "flex": null,
            "flex_flow": null,
            "grid_area": null,
            "grid_auto_columns": null,
            "grid_auto_flow": null,
            "grid_auto_rows": null,
            "grid_column": null,
            "grid_gap": null,
            "grid_row": null,
            "grid_template_areas": null,
            "grid_template_columns": null,
            "grid_template_rows": null,
            "height": null,
            "justify_content": null,
            "justify_items": null,
            "left": null,
            "margin": null,
            "max_height": null,
            "max_width": null,
            "min_height": null,
            "min_width": null,
            "object_fit": null,
            "object_position": null,
            "order": null,
            "overflow": null,
            "overflow_x": null,
            "overflow_y": null,
            "padding": null,
            "right": null,
            "top": null,
            "visibility": null,
            "width": null
          }
        },
        "1d5d05fb4d674093a61b8af8309ab80f": {
          "model_module": "@jupyter-widgets/controls",
          "model_name": "DescriptionStyleModel",
          "model_module_version": "1.5.0",
          "state": {
            "_model_module": "@jupyter-widgets/controls",
            "_model_module_version": "1.5.0",
            "_model_name": "DescriptionStyleModel",
            "_view_count": null,
            "_view_module": "@jupyter-widgets/base",
            "_view_module_version": "1.2.0",
            "_view_name": "StyleView",
            "description_width": ""
          }
        }
      }
    }
  },
  "cells": [
    {
      "cell_type": "markdown",
      "metadata": {
        "id": "MsITBHLCFCnJ"
      },
      "source": [
        "# Wstęp\n",
        "Zadanie 10 jest pierwszą częścią zajęć laboratoryjnych poświęconych sieciom rekurencyjnym i predykcji z wykorzystaniem danych multimodalnych. Efektem prac będzie sieć rekurencyjna do predykcji kursu kryptowaluty Bitcoin (BTC) w oparciu o dane z giełdy oraz o wyniki analizy emocji komunikatów z mediów społecznościowych, do których również należy utworzyć dedykowany model sieci rekurencyjnej. Plan realizacji etapów wygląda następująco:\n",
        "\n",
        "1.   EmoTweet - model sieci rekurencyjnej do analizy emocji (10 pkt., laboratorium 10)\n",
        "2. Agregacja informacji emotywnej i przygotowanie MultiBTC - multimodalnego model sieci rekurencyjnej do predykcji kursu BTC (10 pkt., laboratorium 11)\n",
        "3. Ewaluacja modelu MultiBTC (10 pkt., laboratorium 12)\n",
        "\n",
        "Łącznie można otrzymać 30 punktów.\n",
        "\n",
        "# Cel ćwiczenia\n",
        "\n",
        "Celem pierwszego etapu prac jest zapoznanie się z podstawową siecią rekurencyjną LSTM. Ze względu na fakt, że model ten będzie wykorzystany do analizy emocji tekstu, w ramach teorii do zadania zostanie omówiony podstawowy mechanizm konwersji słów w tekście do postaci wektorów dystrybucyjnych (tzw. word embeddings) na podstawie rozwiązania o nazwie `fastText`. Modele będą budowane na ogólnodostępnym zbiorze `TweetEval`, zawierającym podzbiory ręcznie anotowanych tweetów przy pomocy etykiet odnoszących się do następujących zjawisk: 1) emocje (emotion), 2) emotikony (emoji), 3) ironia (irony), 4) mowa nienawiści (hate speech), 5) mowa ofensywna (offensive language), 6) wydźwięk (sentiment), 7) nastawienie (stance). \n",
        "\n",
        "# Warunki zaliczenia\n",
        "\n",
        "Do zaliczenia pierwszego etapu należy utworzyć następujące modele dla min. 2 wybranych zjawisk:\n",
        "\n",
        "1.   Model bazowy (regresja logistyczna).\n",
        "2.   Model rekurencyjny oparty o sieć LSTM.\n",
        "\n",
        "Wytrenowane modele będą wykorzystane w 2 etapie, dlatego proszę je zachować.\n",
        "\n",
        "# Wektory dystrybucyjne\n",
        "\n",
        "W przetwarzaniu języka naturalnego, o wektorach dystrybucyjnych (inaczej osadzeniach lub zanurzeniach, ang. word embeddings) mówi się w kontekście reprezentacji słów w tekście, zazwyczaj w postaci wektora liczb rzeczywistych, który koduje znaczenie słowa. Hipoteza dystrybucyjna, u podstawy której leży większość metod reprezentacji, mówi o tym, że słowa, które często współwystępują, mają podobne znaczenie. Wektory dystrybucyjne można uzyskać za pomocą zestawu technik modelowania języka, w których słowa lub frazy są mapowane do wektorów liczb rzeczywistych. Z reguły polega to na matematycznym zanurzeniu z przestrzeni o wielu wymiarach opisujących słowo (konteksty) do ciągłej przestrzeni wektorowej o znacznie mniejszym wymiarze.\n",
        "\n",
        "Metody generowania tego odwzorowania obejmują sieci neuronowe, redukcję wymiarowości na macierzy współwystępowania słów, modele probabilistyczne lub jawną reprezentację w kontekście, w którym pojawiają się słowa. Wektory dystrybucyjne, używane jako podstawowa reprezentacja wejściowa tekstu, okazały się istotnie poprawiać jakość w wielu zadaniach NLP, takich jak np. rozpoznawanie nazw własnych, określanie części mowy, rozpoznawanie dziedziny tekstu, czy też rozpoznawanie wydźwięku i emocji w tekście. \n",
        "\n",
        "# fastText\n",
        "\n",
        "[fastText](https://fasttext.cc/) jest biblioteką do efektywnego uczenia modeli reprezentacji wektorowych słów oraz do budowania klasyfikatorów tekstu. Modele językowe można budować z wykorzystaniem dwóch popularnych technik: [Continuous Bag of Words](https://www.kdnuggets.com/2018/04/implementing-deep-learning-methods-feature-engineering-text-data-cbow.html) oraz [Skip-Gram](https://towardsdatascience.com/skip-gram-nlp-context-words-prediction-algorithm-5bbf34f84e0c). \n",
        "\n",
        "## Instalacja\n",
        "\n",
        "Pobranie repozytorium projektu:\n"
      ]
    },
    {
      "cell_type": "code",
      "metadata": {
        "colab": {
          "base_uri": "https://localhost:8080/"
        },
        "id": "0UkMDUx6bn6e",
        "outputId": "ca4547ff-e643-4540-affc-5fa81bace05e"
      },
      "source": [
        "!git clone https://github.com/facebookresearch/fastText.git"
      ],
      "execution_count": 1,
      "outputs": [
        {
          "output_type": "stream",
          "name": "stdout",
          "text": [
            "Cloning into 'fastText'...\n",
            "remote: Enumerating objects: 3938, done.\u001b[K\n",
            "remote: Counting objects: 100% (997/997), done.\u001b[K\n",
            "remote: Compressing objects: 100% (146/146), done.\u001b[K\n",
            "remote: Total 3938 (delta 902), reused 855 (delta 850), pack-reused 2941\u001b[K\n",
            "Receiving objects: 100% (3938/3938), 8.25 MiB | 28.24 MiB/s, done.\n",
            "Resolving deltas: 100% (2509/2509), done.\n"
          ]
        }
      ]
    },
    {
      "cell_type": "markdown",
      "metadata": {
        "id": "4JWc5Ie0cvYo"
      },
      "source": [
        "Instalacja biblioteki:"
      ]
    },
    {
      "cell_type": "code",
      "metadata": {
        "colab": {
          "base_uri": "https://localhost:8080/"
        },
        "id": "ku0F_kKMbteg",
        "outputId": "98a2a8fa-2bf3-4ce5-a67e-e4a385bbf765"
      },
      "source": [
        "!cd fastText && mkdir build && cd build && cmake ..  && make && make install"
      ],
      "execution_count": 2,
      "outputs": [
        {
          "output_type": "stream",
          "name": "stdout",
          "text": [
            "\u001b[0mCMake Deprecation Warning at CMakeLists.txt:9 (cmake_minimum_required):\n",
            "  Compatibility with CMake < 2.8.12 will be removed from a future version of\n",
            "  CMake.\n",
            "\n",
            "  Update the VERSION argument <min> value or use a ...<max> suffix to tell\n",
            "  CMake that the project does not need compatibility with older versions.\n",
            "\n",
            "\u001b[0m\n",
            "-- The C compiler identification is GNU 9.4.0\n",
            "-- The CXX compiler identification is GNU 9.4.0\n",
            "-- Detecting C compiler ABI info\n",
            "-- Detecting C compiler ABI info - done\n",
            "-- Check for working C compiler: /usr/bin/cc - skipped\n",
            "-- Detecting C compile features\n",
            "-- Detecting C compile features - done\n",
            "-- Detecting CXX compiler ABI info\n",
            "-- Detecting CXX compiler ABI info - done\n",
            "-- Check for working CXX compiler: /usr/bin/c++ - skipped\n",
            "-- Detecting CXX compile features\n",
            "-- Detecting CXX compile features - done\n",
            "-- Configuring done\n",
            "-- Generating done\n",
            "-- Build files have been written to: /content/fastText/build\n",
            "[  2%] \u001b[32mBuilding CXX object CMakeFiles/fasttext-shared.dir/src/args.cc.o\u001b[0m\n",
            "[  4%] \u001b[32mBuilding CXX object CMakeFiles/fasttext-shared.dir/src/autotune.cc.o\u001b[0m\n",
            "[  6%] \u001b[32mBuilding CXX object CMakeFiles/fasttext-shared.dir/src/densematrix.cc.o\u001b[0m\n",
            "[  8%] \u001b[32mBuilding CXX object CMakeFiles/fasttext-shared.dir/src/dictionary.cc.o\u001b[0m\n",
            "[ 10%] \u001b[32mBuilding CXX object CMakeFiles/fasttext-shared.dir/src/fasttext.cc.o\u001b[0m\n",
            "[ 12%] \u001b[32mBuilding CXX object CMakeFiles/fasttext-shared.dir/src/loss.cc.o\u001b[0m\n",
            "[ 14%] \u001b[32mBuilding CXX object CMakeFiles/fasttext-shared.dir/src/main.cc.o\u001b[0m\n",
            "[ 17%] \u001b[32mBuilding CXX object CMakeFiles/fasttext-shared.dir/src/matrix.cc.o\u001b[0m\n",
            "[ 19%] \u001b[32mBuilding CXX object CMakeFiles/fasttext-shared.dir/src/meter.cc.o\u001b[0m\n",
            "[ 21%] \u001b[32mBuilding CXX object CMakeFiles/fasttext-shared.dir/src/model.cc.o\u001b[0m\n",
            "[ 23%] \u001b[32mBuilding CXX object CMakeFiles/fasttext-shared.dir/src/productquantizer.cc.o\u001b[0m\n",
            "[ 25%] \u001b[32mBuilding CXX object CMakeFiles/fasttext-shared.dir/src/quantmatrix.cc.o\u001b[0m\n",
            "[ 27%] \u001b[32mBuilding CXX object CMakeFiles/fasttext-shared.dir/src/utils.cc.o\u001b[0m\n",
            "[ 29%] \u001b[32mBuilding CXX object CMakeFiles/fasttext-shared.dir/src/vector.cc.o\u001b[0m\n",
            "[ 31%] \u001b[32m\u001b[1mLinking CXX shared library libfasttext.so\u001b[0m\n",
            "[ 31%] Built target fasttext-shared\n",
            "[ 34%] \u001b[32mBuilding CXX object CMakeFiles/fasttext-static.dir/src/args.cc.o\u001b[0m\n",
            "[ 36%] \u001b[32mBuilding CXX object CMakeFiles/fasttext-static.dir/src/autotune.cc.o\u001b[0m\n",
            "[ 38%] \u001b[32mBuilding CXX object CMakeFiles/fasttext-static.dir/src/densematrix.cc.o\u001b[0m\n",
            "[ 40%] \u001b[32mBuilding CXX object CMakeFiles/fasttext-static.dir/src/dictionary.cc.o\u001b[0m\n",
            "[ 42%] \u001b[32mBuilding CXX object CMakeFiles/fasttext-static.dir/src/fasttext.cc.o\u001b[0m\n",
            "[ 44%] \u001b[32mBuilding CXX object CMakeFiles/fasttext-static.dir/src/loss.cc.o\u001b[0m\n",
            "[ 46%] \u001b[32mBuilding CXX object CMakeFiles/fasttext-static.dir/src/main.cc.o\u001b[0m\n",
            "[ 48%] \u001b[32mBuilding CXX object CMakeFiles/fasttext-static.dir/src/matrix.cc.o\u001b[0m\n",
            "[ 51%] \u001b[32mBuilding CXX object CMakeFiles/fasttext-static.dir/src/meter.cc.o\u001b[0m\n",
            "[ 53%] \u001b[32mBuilding CXX object CMakeFiles/fasttext-static.dir/src/model.cc.o\u001b[0m\n",
            "[ 55%] \u001b[32mBuilding CXX object CMakeFiles/fasttext-static.dir/src/productquantizer.cc.o\u001b[0m\n",
            "[ 57%] \u001b[32mBuilding CXX object CMakeFiles/fasttext-static.dir/src/quantmatrix.cc.o\u001b[0m\n",
            "[ 59%] \u001b[32mBuilding CXX object CMakeFiles/fasttext-static.dir/src/utils.cc.o\u001b[0m\n",
            "[ 61%] \u001b[32mBuilding CXX object CMakeFiles/fasttext-static.dir/src/vector.cc.o\u001b[0m\n",
            "[ 63%] \u001b[32m\u001b[1mLinking CXX static library libfasttext.a\u001b[0m\n",
            "[ 63%] Built target fasttext-static\n",
            "[ 65%] \u001b[32mBuilding CXX object CMakeFiles/fasttext-static_pic.dir/src/args.cc.o\u001b[0m\n",
            "[ 68%] \u001b[32mBuilding CXX object CMakeFiles/fasttext-static_pic.dir/src/autotune.cc.o\u001b[0m\n",
            "[ 70%] \u001b[32mBuilding CXX object CMakeFiles/fasttext-static_pic.dir/src/densematrix.cc.o\u001b[0m\n",
            "[ 72%] \u001b[32mBuilding CXX object CMakeFiles/fasttext-static_pic.dir/src/dictionary.cc.o\u001b[0m\n",
            "[ 74%] \u001b[32mBuilding CXX object CMakeFiles/fasttext-static_pic.dir/src/fasttext.cc.o\u001b[0m\n",
            "[ 76%] \u001b[32mBuilding CXX object CMakeFiles/fasttext-static_pic.dir/src/loss.cc.o\u001b[0m\n",
            "[ 78%] \u001b[32mBuilding CXX object CMakeFiles/fasttext-static_pic.dir/src/main.cc.o\u001b[0m\n",
            "[ 80%] \u001b[32mBuilding CXX object CMakeFiles/fasttext-static_pic.dir/src/matrix.cc.o\u001b[0m\n",
            "[ 82%] \u001b[32mBuilding CXX object CMakeFiles/fasttext-static_pic.dir/src/meter.cc.o\u001b[0m\n",
            "[ 85%] \u001b[32mBuilding CXX object CMakeFiles/fasttext-static_pic.dir/src/model.cc.o\u001b[0m\n",
            "[ 87%] \u001b[32mBuilding CXX object CMakeFiles/fasttext-static_pic.dir/src/productquantizer.cc.o\u001b[0m\n",
            "[ 89%] \u001b[32mBuilding CXX object CMakeFiles/fasttext-static_pic.dir/src/quantmatrix.cc.o\u001b[0m\n",
            "[ 91%] \u001b[32mBuilding CXX object CMakeFiles/fasttext-static_pic.dir/src/utils.cc.o\u001b[0m\n",
            "[ 93%] \u001b[32mBuilding CXX object CMakeFiles/fasttext-static_pic.dir/src/vector.cc.o\u001b[0m\n",
            "[ 95%] \u001b[32m\u001b[1mLinking CXX static library libfasttext_pic.a\u001b[0m\n",
            "[ 95%] Built target fasttext-static_pic\n",
            "[ 97%] \u001b[32mBuilding CXX object CMakeFiles/fasttext-bin.dir/src/main.cc.o\u001b[0m\n",
            "[100%] \u001b[32m\u001b[1mLinking CXX executable fasttext\u001b[0m\n",
            "[100%] Built target fasttext-bin\n",
            "[ 31%] Built target fasttext-shared\n",
            "[ 63%] Built target fasttext-static\n",
            "[ 95%] Built target fasttext-static_pic\n",
            "[100%] Built target fasttext-bin\n",
            "\u001b[36mInstall the project...\u001b[0m\n",
            "-- Install configuration: \"\"\n",
            "-- Installing: /usr/local/lib/pkgconfig/fasttext.pc\n",
            "-- Installing: /usr/local/lib/libfasttext.so.0\n",
            "-- Installing: /usr/local/lib/libfasttext.so\n",
            "-- Installing: /usr/local/lib/libfasttext.a\n",
            "-- Installing: /usr/local/lib/libfasttext_pic.a\n",
            "-- Installing: /usr/local/bin/fasttext\n",
            "-- Installing: /usr/local/include/fasttext/args.h\n",
            "-- Installing: /usr/local/include/fasttext/autotune.h\n",
            "-- Installing: /usr/local/include/fasttext/densematrix.h\n",
            "-- Installing: /usr/local/include/fasttext/dictionary.h\n",
            "-- Installing: /usr/local/include/fasttext/fasttext.h\n",
            "-- Installing: /usr/local/include/fasttext/loss.h\n",
            "-- Installing: /usr/local/include/fasttext/matrix.h\n",
            "-- Installing: /usr/local/include/fasttext/meter.h\n",
            "-- Installing: /usr/local/include/fasttext/model.h\n",
            "-- Installing: /usr/local/include/fasttext/productquantizer.h\n",
            "-- Installing: /usr/local/include/fasttext/quantmatrix.h\n",
            "-- Installing: /usr/local/include/fasttext/real.h\n",
            "-- Installing: /usr/local/include/fasttext/utils.h\n",
            "-- Installing: /usr/local/include/fasttext/vector.h\n"
          ]
        }
      ]
    },
    {
      "cell_type": "markdown",
      "metadata": {
        "id": "7ApV6Bzwc1_R"
      },
      "source": [
        "Instalacja API do Pythona:"
      ]
    },
    {
      "cell_type": "code",
      "metadata": {
        "colab": {
          "base_uri": "https://localhost:8080/"
        },
        "id": "xElxRxJycnDA",
        "outputId": "7c87a7be-3501-4fd7-a926-f3f963739815"
      },
      "source": [
        "!cd fastText && pip install ."
      ],
      "execution_count": 3,
      "outputs": [
        {
          "output_type": "stream",
          "name": "stdout",
          "text": [
            "Looking in indexes: https://pypi.org/simple, https://us-python.pkg.dev/colab-wheels/public/simple/\n",
            "Processing /content/fastText\n",
            "  Preparing metadata (setup.py) ... \u001b[?25l\u001b[?25hdone\n",
            "Collecting pybind11>=2.2 (from fasttext==0.9.2)\n",
            "  Using cached pybind11-2.10.4-py3-none-any.whl (222 kB)\n",
            "Requirement already satisfied: setuptools>=0.7.0 in /usr/local/lib/python3.10/dist-packages (from fasttext==0.9.2) (67.7.2)\n",
            "Requirement already satisfied: numpy in /usr/local/lib/python3.10/dist-packages (from fasttext==0.9.2) (1.22.4)\n",
            "Building wheels for collected packages: fasttext\n",
            "  Building wheel for fasttext (setup.py) ... \u001b[?25l\u001b[?25hdone\n",
            "  Created wheel for fasttext: filename=fasttext-0.9.2-cp310-cp310-linux_x86_64.whl size=4384288 sha256=580967f9850467401767d6e004b1e63e332ac40d1b1e3d5ad9baf86da0e5d002\n",
            "  Stored in directory: /tmp/pip-ephem-wheel-cache-foiwu33k/wheels/8b/05/af/3cfae069d904597d44b309c956601b611bdf8967bcbe968903\n",
            "Successfully built fasttext\n",
            "Installing collected packages: pybind11, fasttext\n",
            "Successfully installed fasttext-0.9.2 pybind11-2.10.4\n"
          ]
        }
      ]
    },
    {
      "cell_type": "markdown",
      "metadata": {
        "id": "7ceW8c2XdOf4"
      },
      "source": [
        "# Dane do etapu nr 1\n",
        "\n",
        "## Korpus \n",
        "Korpus (zbiór dokumentów) do realizacji etapu nr 1 pochodzi z repozytorium [TweetEval](https://github.com/cardiffnlp/tweeteval). Repozytorium zawiera 7 różnorodnych zbiorów danych, zawierających zanonimizowane wpisy z [Twittera](https://twitter.com), anotowane następującymi zjawiskami: 1) emocje (emotion), 2) emotikony (emoji), 3) ironia (irony), 4) mowa nienawiści (hate speech), 5) mowa ofensywna (offensive language), 6) wydźwięk (sentiment), 7) nastawienie (stance). "
      ]
    },
    {
      "cell_type": "code",
      "metadata": {
        "id": "ER8c8zNmgE40",
        "colab": {
          "base_uri": "https://localhost:8080/"
        },
        "outputId": "df2e256c-1004-4179-ad6b-d62918ad7257"
      },
      "source": [
        "from google.colab import drive\n",
        "import os\n",
        "\n",
        "drive.mount(\"/content/drive/\")"
      ],
      "execution_count": 4,
      "outputs": [
        {
          "output_type": "stream",
          "name": "stdout",
          "text": [
            "Mounted at /content/drive/\n"
          ]
        }
      ]
    },
    {
      "cell_type": "code",
      "metadata": {
        "colab": {
          "base_uri": "https://localhost:8080/"
        },
        "id": "qS6VxC26gUNt",
        "outputId": "e53f7616-1ceb-4ac9-b997-3968b6738fa1"
      },
      "source": [
        "!unzip drive/MyDrive/GSN_dane/tweeteval.zip -d tweeteval"
      ],
      "execution_count": 5,
      "outputs": [
        {
          "output_type": "stream",
          "name": "stdout",
          "text": [
            "Archive:  drive/MyDrive/GSN_dane/tweeteval.zip\n",
            "   creating: tweeteval/tweeteval/tweeteval/\n",
            "   creating: tweeteval/tweeteval/tweeteval/.git/\n",
            "   creating: tweeteval/tweeteval/tweeteval/.git/branches/\n",
            "  inflating: tweeteval/tweeteval/tweeteval/.git/config  \n",
            "  inflating: tweeteval/tweeteval/tweeteval/.git/description  \n",
            " extracting: tweeteval/tweeteval/tweeteval/.git/HEAD  \n",
            "   creating: tweeteval/tweeteval/tweeteval/.git/hooks/\n",
            "  inflating: tweeteval/tweeteval/tweeteval/.git/hooks/applypatch-msg.sample  \n",
            "  inflating: tweeteval/tweeteval/tweeteval/.git/hooks/commit-msg.sample  \n",
            "  inflating: tweeteval/tweeteval/tweeteval/.git/hooks/fsmonitor-watchman.sample  \n",
            "  inflating: tweeteval/tweeteval/tweeteval/.git/hooks/post-update.sample  \n",
            "  inflating: tweeteval/tweeteval/tweeteval/.git/hooks/pre-applypatch.sample  \n",
            "  inflating: tweeteval/tweeteval/tweeteval/.git/hooks/pre-commit.sample  \n",
            "  inflating: tweeteval/tweeteval/tweeteval/.git/hooks/pre-merge-commit.sample  \n",
            "  inflating: tweeteval/tweeteval/tweeteval/.git/hooks/prepare-commit-msg.sample  \n",
            "  inflating: tweeteval/tweeteval/tweeteval/.git/hooks/pre-push.sample  \n",
            "  inflating: tweeteval/tweeteval/tweeteval/.git/hooks/pre-rebase.sample  \n",
            "  inflating: tweeteval/tweeteval/tweeteval/.git/hooks/pre-receive.sample  \n",
            "  inflating: tweeteval/tweeteval/tweeteval/.git/hooks/update.sample  \n",
            "  inflating: tweeteval/tweeteval/tweeteval/.git/index  \n",
            "   creating: tweeteval/tweeteval/tweeteval/.git/info/\n",
            "  inflating: tweeteval/tweeteval/tweeteval/.git/info/exclude  \n",
            "   creating: tweeteval/tweeteval/tweeteval/.git/logs/\n",
            "  inflating: tweeteval/tweeteval/tweeteval/.git/logs/HEAD  \n",
            "   creating: tweeteval/tweeteval/tweeteval/.git/logs/refs/\n",
            "   creating: tweeteval/tweeteval/tweeteval/.git/logs/refs/heads/\n",
            "  inflating: tweeteval/tweeteval/tweeteval/.git/logs/refs/heads/main  \n",
            "   creating: tweeteval/tweeteval/tweeteval/.git/logs/refs/remotes/\n",
            "   creating: tweeteval/tweeteval/tweeteval/.git/logs/refs/remotes/origin/\n",
            "  inflating: tweeteval/tweeteval/tweeteval/.git/logs/refs/remotes/origin/HEAD  \n",
            "   creating: tweeteval/tweeteval/tweeteval/.git/objects/\n",
            "   creating: tweeteval/tweeteval/tweeteval/.git/objects/info/\n",
            "   creating: tweeteval/tweeteval/tweeteval/.git/objects/pack/\n",
            "  inflating: tweeteval/tweeteval/tweeteval/.git/objects/pack/pack-6cf8f47bf9478a5b95fab02573871e9dcd5d0882.idx  \n",
            "  inflating: tweeteval/tweeteval/tweeteval/.git/objects/pack/pack-6cf8f47bf9478a5b95fab02573871e9dcd5d0882.pack  \n",
            "  inflating: tweeteval/tweeteval/tweeteval/.git/packed-refs  \n",
            "   creating: tweeteval/tweeteval/tweeteval/.git/refs/\n",
            "   creating: tweeteval/tweeteval/tweeteval/.git/refs/heads/\n",
            " extracting: tweeteval/tweeteval/tweeteval/.git/refs/heads/main  \n",
            "   creating: tweeteval/tweeteval/tweeteval/.git/refs/remotes/\n",
            "   creating: tweeteval/tweeteval/tweeteval/.git/refs/remotes/origin/\n",
            " extracting: tweeteval/tweeteval/tweeteval/.git/refs/remotes/origin/HEAD  \n",
            "   creating: tweeteval/tweeteval/tweeteval/.git/refs/tags/\n",
            "   creating: tweeteval/tweeteval/tweeteval/datasets/\n",
            "   creating: tweeteval/tweeteval/tweeteval/datasets/emoji/\n",
            "  inflating: tweeteval/tweeteval/tweeteval/datasets/emoji/mapping.txt  \n",
            "  inflating: tweeteval/tweeteval/tweeteval/datasets/emoji/test_labels.txt  \n",
            "  inflating: tweeteval/tweeteval/tweeteval/datasets/emoji/test_text.txt  \n",
            "  inflating: tweeteval/tweeteval/tweeteval/datasets/emoji/train_labels.txt  \n",
            "  inflating: tweeteval/tweeteval/tweeteval/datasets/emoji/train_text.txt  \n",
            "  inflating: tweeteval/tweeteval/tweeteval/datasets/emoji/val_labels.txt  \n",
            "  inflating: tweeteval/tweeteval/tweeteval/datasets/emoji/val_text.txt  \n",
            "   creating: tweeteval/tweeteval/tweeteval/datasets/emotion/\n",
            " extracting: tweeteval/tweeteval/tweeteval/datasets/emotion/mapping.txt  \n",
            "  inflating: tweeteval/tweeteval/tweeteval/datasets/emotion/test_labels.txt  \n",
            "  inflating: tweeteval/tweeteval/tweeteval/datasets/emotion/test_text.txt  \n",
            "  inflating: tweeteval/tweeteval/tweeteval/datasets/emotion/train_labels.txt  \n",
            "  inflating: tweeteval/tweeteval/tweeteval/datasets/emotion/train_text.txt  \n",
            "  inflating: tweeteval/tweeteval/tweeteval/datasets/emotion/val_labels.txt  \n",
            "  inflating: tweeteval/tweeteval/tweeteval/datasets/emotion/val_text.txt  \n",
            "   creating: tweeteval/tweeteval/tweeteval/datasets/hate/\n",
            "  inflating: tweeteval/tweeteval/tweeteval/datasets/hate/mapping.txt  \n",
            "  inflating: tweeteval/tweeteval/tweeteval/datasets/hate/test_labels.txt  \n",
            "  inflating: tweeteval/tweeteval/tweeteval/datasets/hate/test_text.txt  \n",
            "  inflating: tweeteval/tweeteval/tweeteval/datasets/hate/train_labels.txt  \n",
            "  inflating: tweeteval/tweeteval/tweeteval/datasets/hate/train_text.txt  \n",
            "  inflating: tweeteval/tweeteval/tweeteval/datasets/hate/val_labels.txt  \n",
            "  inflating: tweeteval/tweeteval/tweeteval/datasets/hate/val_text.txt  \n",
            "   creating: tweeteval/tweeteval/tweeteval/datasets/irony/\n",
            "  inflating: tweeteval/tweeteval/tweeteval/datasets/irony/mapping.txt  \n",
            "  inflating: tweeteval/tweeteval/tweeteval/datasets/irony/test_labels.txt  \n",
            "  inflating: tweeteval/tweeteval/tweeteval/datasets/irony/test_text.txt  \n",
            "  inflating: tweeteval/tweeteval/tweeteval/datasets/irony/train_labels.txt  \n",
            "  inflating: tweeteval/tweeteval/tweeteval/datasets/irony/train_text.txt  \n",
            "  inflating: tweeteval/tweeteval/tweeteval/datasets/irony/val_labels.txt  \n",
            "  inflating: tweeteval/tweeteval/tweeteval/datasets/irony/val_text.txt  \n",
            "   creating: tweeteval/tweeteval/tweeteval/datasets/offensive/\n",
            "  inflating: tweeteval/tweeteval/tweeteval/datasets/offensive/mapping.txt  \n",
            "  inflating: tweeteval/tweeteval/tweeteval/datasets/offensive/test_labels.txt  \n",
            "  inflating: tweeteval/tweeteval/tweeteval/datasets/offensive/test_text.txt  \n",
            "  inflating: tweeteval/tweeteval/tweeteval/datasets/offensive/train_labels.txt  \n",
            "  inflating: tweeteval/tweeteval/tweeteval/datasets/offensive/train_text.txt  \n",
            "  inflating: tweeteval/tweeteval/tweeteval/datasets/offensive/val_labels.txt  \n",
            "  inflating: tweeteval/tweeteval/tweeteval/datasets/offensive/val_text.txt  \n",
            "  inflating: tweeteval/tweeteval/tweeteval/datasets/README.txt  \n",
            "   creating: tweeteval/tweeteval/tweeteval/datasets/sentiment/\n",
            "  inflating: tweeteval/tweeteval/tweeteval/datasets/sentiment/mapping.txt  \n",
            "  inflating: tweeteval/tweeteval/tweeteval/datasets/sentiment/test_labels.txt  \n",
            "  inflating: tweeteval/tweeteval/tweeteval/datasets/sentiment/test_text.txt  \n",
            "  inflating: tweeteval/tweeteval/tweeteval/datasets/sentiment/train_labels.txt  \n",
            "  inflating: tweeteval/tweeteval/tweeteval/datasets/sentiment/train_text.txt  \n",
            "  inflating: tweeteval/tweeteval/tweeteval/datasets/sentiment/val_labels.txt  \n",
            "  inflating: tweeteval/tweeteval/tweeteval/datasets/sentiment/val_text.txt  \n",
            "   creating: tweeteval/tweeteval/tweeteval/datasets/stance/\n",
            "   creating: tweeteval/tweeteval/tweeteval/datasets/stance/abortion/\n",
            "  inflating: tweeteval/tweeteval/tweeteval/datasets/stance/abortion/test_labels.txt  \n",
            "  inflating: tweeteval/tweeteval/tweeteval/datasets/stance/abortion/test_text.txt  \n",
            "  inflating: tweeteval/tweeteval/tweeteval/datasets/stance/abortion/train_labels.txt  \n",
            "  inflating: tweeteval/tweeteval/tweeteval/datasets/stance/abortion/train_text.txt  \n",
            "  inflating: tweeteval/tweeteval/tweeteval/datasets/stance/abortion/val_labels.txt  \n",
            "  inflating: tweeteval/tweeteval/tweeteval/datasets/stance/abortion/val_text.txt  \n",
            "   creating: tweeteval/tweeteval/tweeteval/datasets/stance/atheism/\n",
            "  inflating: tweeteval/tweeteval/tweeteval/datasets/stance/atheism/test_labels.txt  \n",
            "  inflating: tweeteval/tweeteval/tweeteval/datasets/stance/atheism/test_text.txt  \n",
            "  inflating: tweeteval/tweeteval/tweeteval/datasets/stance/atheism/train_labels.txt  \n",
            "  inflating: tweeteval/tweeteval/tweeteval/datasets/stance/atheism/train_text.txt  \n",
            "  inflating: tweeteval/tweeteval/tweeteval/datasets/stance/atheism/val_labels.txt  \n",
            "  inflating: tweeteval/tweeteval/tweeteval/datasets/stance/atheism/val_text.txt  \n",
            "   creating: tweeteval/tweeteval/tweeteval/datasets/stance/climate/\n",
            "  inflating: tweeteval/tweeteval/tweeteval/datasets/stance/climate/test_labels.txt  \n",
            "  inflating: tweeteval/tweeteval/tweeteval/datasets/stance/climate/test_text.txt  \n",
            "  inflating: tweeteval/tweeteval/tweeteval/datasets/stance/climate/train_labels.txt  \n",
            "  inflating: tweeteval/tweeteval/tweeteval/datasets/stance/climate/train_text.txt  \n",
            "  inflating: tweeteval/tweeteval/tweeteval/datasets/stance/climate/val_labels.txt  \n",
            "  inflating: tweeteval/tweeteval/tweeteval/datasets/stance/climate/val_text.txt  \n",
            "   creating: tweeteval/tweeteval/tweeteval/datasets/stance/feminist/\n",
            "  inflating: tweeteval/tweeteval/tweeteval/datasets/stance/feminist/test_labels.txt  \n",
            "  inflating: tweeteval/tweeteval/tweeteval/datasets/stance/feminist/test_text.txt  \n",
            "  inflating: tweeteval/tweeteval/tweeteval/datasets/stance/feminist/train_labels.txt  \n",
            "  inflating: tweeteval/tweeteval/tweeteval/datasets/stance/feminist/train_text.txt  \n",
            "  inflating: tweeteval/tweeteval/tweeteval/datasets/stance/feminist/val_labels.txt  \n",
            "  inflating: tweeteval/tweeteval/tweeteval/datasets/stance/feminist/val_text.txt  \n",
            "   creating: tweeteval/tweeteval/tweeteval/datasets/stance/hillary/\n",
            "  inflating: tweeteval/tweeteval/tweeteval/datasets/stance/hillary/test_labels.txt  \n",
            "  inflating: tweeteval/tweeteval/tweeteval/datasets/stance/hillary/test_text.txt  \n",
            "  inflating: tweeteval/tweeteval/tweeteval/datasets/stance/hillary/train_labels.txt  \n",
            "  inflating: tweeteval/tweeteval/tweeteval/datasets/stance/hillary/train_text.txt  \n",
            "  inflating: tweeteval/tweeteval/tweeteval/datasets/stance/hillary/val_labels.txt  \n",
            "  inflating: tweeteval/tweeteval/tweeteval/datasets/stance/hillary/val_text.txt  \n",
            " extracting: tweeteval/tweeteval/tweeteval/datasets/stance/mapping.txt  \n",
            "  inflating: tweeteval/tweeteval/tweeteval/evaluation_script.py  \n",
            "   creating: tweeteval/tweeteval/tweeteval/predictions/\n",
            "  inflating: tweeteval/tweeteval/tweeteval/predictions/.DS_Store  \n",
            "  inflating: tweeteval/tweeteval/tweeteval/predictions/emoji.txt  \n",
            "  inflating: tweeteval/tweeteval/tweeteval/predictions/emotion.txt  \n",
            "  inflating: tweeteval/tweeteval/tweeteval/predictions/hate.txt  \n",
            "  inflating: tweeteval/tweeteval/tweeteval/predictions/irony.txt  \n",
            "  inflating: tweeteval/tweeteval/tweeteval/predictions/offensive.txt  \n",
            "  inflating: tweeteval/tweeteval/tweeteval/predictions/sentiment.txt  \n",
            "   creating: tweeteval/tweeteval/tweeteval/predictions/stance/\n",
            "  inflating: tweeteval/tweeteval/tweeteval/predictions/stance/.DS_Store  \n",
            "  inflating: tweeteval/tweeteval/tweeteval/predictions/stance/abortion.txt  \n",
            "  inflating: tweeteval/tweeteval/tweeteval/predictions/stance/atheism.txt  \n",
            "  inflating: tweeteval/tweeteval/tweeteval/predictions/stance/climate.txt  \n",
            "  inflating: tweeteval/tweeteval/tweeteval/predictions/stance/feminist.txt  \n",
            "  inflating: tweeteval/tweeteval/tweeteval/predictions/stance/hillary.txt  \n",
            "  inflating: tweeteval/tweeteval/tweeteval/README.md  \n",
            "  inflating: tweeteval/tweeteval/tweeteval/TweetEval_Tutorial.ipynb  \n"
          ]
        }
      ]
    },
    {
      "cell_type": "markdown",
      "metadata": {
        "id": "Kb6c5nuvgiaF"
      },
      "source": [
        "## Zawartość korpusu\n",
        "\n",
        "W katalogu głównym (tweeteval) znajdują się następujące elementy:\n",
        "*   `datasets` - katalog ze zbiorami danych\n",
        "   * `emotion` - tweety anotowane emocjami \n",
        "     * `mapping.txt` - identyfikatory etykiet oraz ich opis\n",
        "     * `train_text.txt` - wpisy z Twittera (część ucząca)\n",
        "     * `train_labels.txt` - etykiety wpisów z Twittera (część ucząca)\n",
        "     * `test_*.txt, valid_*.txt` - j.w. (część testowa i walidacyjna)\n",
        "   * `emoji` - tweety anotowane emotikonami\n",
        "   * `...` - katalogi zawierające tweety anotowane pozostałymi zjawiskami\n",
        "*   `predictions` - katalog z przykładowymi predykcjami\n",
        "   * `emotion.txt` - etykiety modelu predykcyjnego dla części testowej danych `emotion`\n",
        "   * `emoji.txt` - j.w. dla cz. testowej danych `emoji`\n",
        "   * `...` - j.w. dla pozostałych danych\n",
        "*   `evaluation_script.py` - skrypt do ewaluacji \n",
        "\n",
        "## Model języka\n",
        "\n",
        "Na potrzeby zadania został przygotowany model Skip-Gram reprezentacji wektorowej słów, zbudowany na wielkim korpusie tweetów dotyczących kursu BTC. Wersja binarna tego modelu dostępna jest w 2 wariantach:\n",
        "* wektory 100-elementowe (1.7GB, fasttext_tweetmodel_btc_sg_100_en.bin)\n",
        "* wektory 20-elementowe (350MB, fasttext_tweetmodel_btc_sg_20_en.bin)\n",
        "\n",
        "Na potrzeby prezentacji przykładowego rozwiązania zostanie wykorzystany mniejszy model. Do realizacji ostatecznego rozwiązania należy wykorzystać większy model. \n",
        "\n"
      ]
    },
    {
      "cell_type": "markdown",
      "metadata": {
        "id": "stk-sYt9o6sD"
      },
      "source": [
        "# Model bazowy rozpoznawania emocji\n",
        "\n",
        "Model bazowy, zbudowany z wykorzystaniem narzędzia fastText (oparty o regresję logistyczną), będzie punktem wyjścia do porównania się z modelami opartymi o sieci LSTM, których skonstruowanie i ewaluacja na wybranych zadaniach będzie celem etapu nr 1. \n",
        "\n",
        "Pobranie mniejszego modelu reprezentacji języka tweetów:\n"
      ]
    },
    {
      "cell_type": "code",
      "metadata": {
        "id": "ChAehfcHggvF"
      },
      "source": [
        "# należy wgrać plik z katalogu \"dane\" o nazwie fasttext_tweetmodel_btc_sg_20_en.bin"
      ],
      "execution_count": null,
      "outputs": []
    },
    {
      "cell_type": "markdown",
      "metadata": {
        "id": "NkacglPdr96Y"
      },
      "source": [
        "Wydobycie słownika wektorów z binarnego modelu języka:"
      ]
    },
    {
      "cell_type": "code",
      "metadata": {
        "id": "CHyqkncyrZru"
      },
      "source": [
        "!python fastText/python/doc/examples/bin_to_vec.py drive/MyDrive/GSN_dane/fasttext_tweetmodel_btc_sg_20_en.bin > fasttext_tweetmodel_btc_sg_20_en.vec"
      ],
      "execution_count": 6,
      "outputs": []
    },
    {
      "cell_type": "markdown",
      "metadata": {
        "id": "_E_5UDKYyzwp"
      },
      "source": [
        "Dodanie prefiksu `__label__` do etykiet zbioru `emotion`:"
      ]
    },
    {
      "cell_type": "code",
      "metadata": {
        "id": "OjUQvyKIsKV8"
      },
      "source": [
        "!sed 's/^/__label__/g' tweeteval/tweeteval/tweeteval/datasets/emotion/train_labels.txt > train_labels_emo.txt\n",
        "!sed 's/^/__label__/g' tweeteval/tweeteval/tweeteval/datasets/emotion/test_labels.txt > test_labels_emo.txt\n",
        "!sed 's/^/__label__/g' tweeteval/tweeteval/tweeteval/datasets/emotion/val_labels.txt > val_labels_emo.txt"
      ],
      "execution_count": 28,
      "outputs": []
    },
    {
      "cell_type": "markdown",
      "metadata": {
        "id": "IlHv_VJ5zIHw"
      },
      "source": [
        "Przygotowanie zbioru uczącego, testowego i walidacyjnego w formacie `fastText`:"
      ]
    },
    {
      "cell_type": "code",
      "metadata": {
        "id": "nNdjvsT8siZ1"
      },
      "source": [
        "!paste -d \" \" tweeteval/tweeteval/tweeteval/datasets/emotion/train_text.txt train_labels_emo.txt > train_emo.txt\n",
        "!paste -d \" \" tweeteval/tweeteval/tweeteval/datasets/emotion/test_text.txt test_labels_emo.txt > test_emo.txt\n",
        "!paste -d \" \" tweeteval/tweeteval/tweeteval/datasets/emotion/val_text.txt val_labels_emo.txt > val_emo.txt"
      ],
      "execution_count": 30,
      "outputs": []
    },
    {
      "cell_type": "markdown",
      "metadata": {
        "id": "ro5A5HAEzGNJ"
      },
      "source": [
        "Trenowanie modelu z wykorzystaniem wejścia `train_emo.txt`, z określeniem wyjściowej nazwy modelu `emo_model`, dla wektorów słów o wymiarze `20`, z wykorzystaniem pretrenowanych wektorów z pliku `fasttext_tweetmodel_btc_sg_20_en.vec` i z uruchomieniem dostrajania hiperparametrów na zbiorze walidacyjnym `val_emo.txt`:"
      ]
    },
    {
      "cell_type": "code",
      "metadata": {
        "colab": {
          "base_uri": "https://localhost:8080/"
        },
        "id": "GChCYj1ptoEj",
        "outputId": "ed7884b9-6282-46a3-fda8-519495ac8d31"
      },
      "source": [
        "!fasttext supervised -input train_emo.txt -output emo_model -dim 20 -pretrainedVectors fasttext_tweetmodel_btc_sg_20_en.vec -autotune-validation val_emo.txt "
      ],
      "execution_count": 31,
      "outputs": [
        {
          "output_type": "stream",
          "name": "stdout",
          "text": [
            "Warning : dim is manually set to a specific value. It will not be automatically optimized.\n",
            "Progress: 100.0% Trials:   14 Best score:  0.695187 ETA:   0h 0m 0s\n",
            "Training again with best arguments\n",
            "Read 0M words\n",
            "Number of words:  12887\n",
            "Number of labels: 4\n",
            "Progress: 100.0% words/sec/thread:   73382 lr:  0.000000 avg.loss:  0.309875 ETA:   0h 0m 0s\n"
          ]
        }
      ]
    },
    {
      "cell_type": "markdown",
      "metadata": {
        "id": "pkp4BDnvzxrN"
      },
      "source": [
        "Podstawowa ewaluacja modelu z wykorzystaniem `fastText`, wynikiem jest precyzja (P - precision) i kompletność (R - recall) w wariancie [weighted](https://scikit-learn.org/stable/modules/generated/sklearn.metrics.precision_recall_fscore_support.html)."
      ]
    },
    {
      "cell_type": "code",
      "metadata": {
        "colab": {
          "base_uri": "https://localhost:8080/"
        },
        "id": "90GbSCCgvmCj",
        "outputId": "53083bf3-dfab-4317-addd-2b687da44653"
      },
      "source": [
        "!fasttext test emo_model.bin test_emo.txt"
      ],
      "execution_count": 32,
      "outputs": [
        {
          "output_type": "stream",
          "name": "stdout",
          "text": [
            "N\t1421\n",
            "P@1\t0.678\n",
            "R@1\t0.678\n"
          ]
        }
      ]
    },
    {
      "cell_type": "markdown",
      "metadata": {
        "id": "OoqaR5To0UWq"
      },
      "source": [
        "Rozszerzona ewaluacja modelu z wykorzystaniem `fastText`, wynikiem jest precyzja (P - precision), kompletność (R - recall) oraz F1-score dla każdej etykiety w wariancie [weighted](https://scikit-learn.org/stable/modules/generated/sklearn.metrics.precision_recall_fscore_support.html)."
      ]
    },
    {
      "cell_type": "code",
      "metadata": {
        "colab": {
          "base_uri": "https://localhost:8080/"
        },
        "id": "e3xFd-RDwv_w",
        "outputId": "09f805f4-5ad3-4918-f145-e4e71cd1bc47"
      },
      "source": [
        "!fasttext test-label emo_model.bin test_emo.txt"
      ],
      "execution_count": 33,
      "outputs": [
        {
          "output_type": "stream",
          "name": "stdout",
          "text": [
            "F1-Score : 0.752492  Precision : 0.701238  Recall : 0.811828   __label__0\n",
            "F1-Score : 0.658824  Precision : 0.657963  Recall : 0.659686   __label__3\n",
            "F1-Score : 0.660661  Precision : 0.714286  Recall : 0.614525   __label__1\n",
            "F1-Score : 0.367150  Precision : 0.452381  Recall : 0.308943   __label__2\n",
            "N\t1421\n",
            "P@1\t0.678\n",
            "R@1\t0.678\n"
          ]
        }
      ]
    },
    {
      "cell_type": "markdown",
      "metadata": {
        "id": "Y__FOjZO0jrw"
      },
      "source": [
        "Przygotowanie danych do ewaluacji z wykorzystaniem skryptu dołączonego do zbioru TweetEval:"
      ]
    },
    {
      "cell_type": "code",
      "metadata": {
        "id": "dZyri0pVw43n"
      },
      "source": [
        "!mkdir predictions2"
      ],
      "execution_count": 34,
      "outputs": []
    },
    {
      "cell_type": "code",
      "metadata": {
        "id": "1gMgdnILxScS"
      },
      "source": [
        "!fasttext predict emo_model.bin tweeteval/tweeteval/tweeteval/datasets/emotion/test_text.txt | sed 's/__label__//g' > predictions2/emotion.txt"
      ],
      "execution_count": 36,
      "outputs": []
    },
    {
      "cell_type": "markdown",
      "metadata": {
        "id": "xRwh9aIx0s3I"
      },
      "source": [
        "Uruchomienie ewaluacji. Oprócz wyników P, R, F1 [weighted]((https://scikit-learn.org/stable/modules/generated/sklearn.metrics.precision_recall_fscore_support.html)) dla każdej etykiety, otrzymujemy również wyniki w wariancie [macro]((https://scikit-learn.org/stable/modules/generated/sklearn.metrics.precision_recall_fscore_support.html)). **Ostateczną miarą (TweetEval Score) jest miara F1-score w wariancie macro i tę miarę proszę traktować jako kluczową przy porównywaniu rozwiązań.**"
      ]
    },
    {
      "cell_type": "code",
      "metadata": {
        "colab": {
          "base_uri": "https://localhost:8080/"
        },
        "id": "RpAjMNr2xn-e",
        "outputId": "4afa4122-8757-4eb8-9ade-d325237da0e5"
      },
      "source": [
        "!python tweeteval/tweeteval/tweeteval/evaluation_script.py --tweeteval_path tweeteval/tweeteval/tweeteval/datasets --predictions_path predictions2 --task emotion"
      ],
      "execution_count": 39,
      "outputs": [
        {
          "output_type": "stream",
          "name": "stdout",
          "text": [
            "0 {'precision': 0.7012383900928792, 'recall': 0.8118279569892473, 'f1-score': 0.7524916943521596, 'support': 558}\n",
            "1 {'precision': 0.7142857142857143, 'recall': 0.6145251396648045, 'f1-score': 0.6606606606606606, 'support': 358}\n",
            "2 {'precision': 0.4523809523809524, 'recall': 0.3089430894308943, 'f1-score': 0.36714975845410625, 'support': 123}\n",
            "3 {'precision': 0.6579634464751958, 'recall': 0.6596858638743456, 'f1-score': 0.6588235294117647, 'support': 382}\n",
            "accuracy 0.6776917663617171\n",
            "macro avg {'precision': 0.6314671258086855, 'recall': 0.5987455124898229, 'f1-score': 0.6097814107196727, 'support': 1421}\n",
            "weighted avg {'precision': 0.6713513026618537, 'recall': 0.6776917663617171, 'f1-score': 0.67082117557366, 'support': 1421}\n",
            "------------------------------\n",
            "TweetEval Score (emotion): 0.6097814107196727\n"
          ]
        }
      ]
    },
    {
      "cell_type": "markdown",
      "metadata": {
        "id": "FV9_Gnrz2T0m"
      },
      "source": [
        "# Budowa modeli EmoTweet\n",
        "\n",
        "W tej sekcji Państwa zadaniem będzie przygotowanie modeli sieci LSTM oraz modeli bazowych opartych o regresję logistyczną (fastText) dla wybranych 2 zjawisk ze zbioru TweetEval. Dla sieci LSTM kolejne jednostki sieci rekurencyjnej na wejściu dostają reprezentację wektorową kolejnych wyrazów w tekście. Wyjście z ostatniej jednostki podlega klasyfikacji. W celu usprawnienia zadania, przedstawiona zostanie metoda reprezentacji wektorowej tekstu z wykorzystaniem Pythonowego API do narzędzia fastText. Do ewaluacji modeli należy wykorzystać uprzednio zaprezentowany skrypt `tweeteval/evaluation_script.py`.\n",
        "\n",
        "## Wektoryzacja tekstu\n"
      ]
    },
    {
      "cell_type": "code",
      "metadata": {
        "id": "pmdakZza43X8"
      },
      "source": [
        "# inicjalizacja biblioteki\n",
        "import fasttext"
      ],
      "execution_count": 2,
      "outputs": []
    },
    {
      "cell_type": "code",
      "metadata": {
        "id": "DpJZYWyd6EK-"
      },
      "source": [
        "# ładowanie modelu\n",
        "MODEL_PATH = \"drive/MyDrive/GSN_dane/fasttext_tweetmodel_btc_sg_20_en.bin\"\n",
        "model = fasttext.load_model(MODEL_PATH)"
      ],
      "execution_count": 11,
      "outputs": []
    },
    {
      "cell_type": "code",
      "metadata": {
        "colab": {
          "base_uri": "https://localhost:8080/",
          "height": 423
        },
        "id": "yRs60cO96zk5",
        "outputId": "af61dcb1-127f-4983-f4d1-767ce7cd7616"
      },
      "source": [
        "# wczytanie danych treningowych\n",
        "import pandas as pd\n",
        "TRAIN_PATH = 'tweeteval/tweeteval/tweeteval/datasets/emotion/train_text.txt'\n",
        "train_texts = pd.read_csv(TRAIN_PATH, sep='\\t', header=None)\n",
        "train_texts"
      ],
      "execution_count": 3,
      "outputs": [
        {
          "output_type": "execute_result",
          "data": {
            "text/plain": [
              "                                                      0\n",
              "0     “Worry is a down payment on a problem you may ...\n",
              "1     My roommate: it's okay that we can't spell bec...\n",
              "2     No but that's so cute. Atsu was probably shy a...\n",
              "3     Rooneys fucking untouchable isn't he? Been fuc...\n",
              "4     it's pretty depressing when u hit pan on ur fa...\n",
              "...                                                 ...\n",
              "3252  I get discouraged because I try for 5 fucking ...\n",
              "3253  The @user are in contention and hosting @user ...\n",
              "3254  @user @user @user @user @user as a fellow UP g...\n",
              "3255  You have a #problem? Yes! Can you do #somethin...\n",
              "3256  @user @user i will fight this guy! Don't insul...\n",
              "\n",
              "[3257 rows x 1 columns]"
            ],
            "text/html": [
              "\n",
              "  <div id=\"df-df1b0107-4e65-432e-b908-e963a6791231\">\n",
              "    <div class=\"colab-df-container\">\n",
              "      <div>\n",
              "<style scoped>\n",
              "    .dataframe tbody tr th:only-of-type {\n",
              "        vertical-align: middle;\n",
              "    }\n",
              "\n",
              "    .dataframe tbody tr th {\n",
              "        vertical-align: top;\n",
              "    }\n",
              "\n",
              "    .dataframe thead th {\n",
              "        text-align: right;\n",
              "    }\n",
              "</style>\n",
              "<table border=\"1\" class=\"dataframe\">\n",
              "  <thead>\n",
              "    <tr style=\"text-align: right;\">\n",
              "      <th></th>\n",
              "      <th>0</th>\n",
              "    </tr>\n",
              "  </thead>\n",
              "  <tbody>\n",
              "    <tr>\n",
              "      <th>0</th>\n",
              "      <td>“Worry is a down payment on a problem you may ...</td>\n",
              "    </tr>\n",
              "    <tr>\n",
              "      <th>1</th>\n",
              "      <td>My roommate: it's okay that we can't spell bec...</td>\n",
              "    </tr>\n",
              "    <tr>\n",
              "      <th>2</th>\n",
              "      <td>No but that's so cute. Atsu was probably shy a...</td>\n",
              "    </tr>\n",
              "    <tr>\n",
              "      <th>3</th>\n",
              "      <td>Rooneys fucking untouchable isn't he? Been fuc...</td>\n",
              "    </tr>\n",
              "    <tr>\n",
              "      <th>4</th>\n",
              "      <td>it's pretty depressing when u hit pan on ur fa...</td>\n",
              "    </tr>\n",
              "    <tr>\n",
              "      <th>...</th>\n",
              "      <td>...</td>\n",
              "    </tr>\n",
              "    <tr>\n",
              "      <th>3252</th>\n",
              "      <td>I get discouraged because I try for 5 fucking ...</td>\n",
              "    </tr>\n",
              "    <tr>\n",
              "      <th>3253</th>\n",
              "      <td>The @user are in contention and hosting @user ...</td>\n",
              "    </tr>\n",
              "    <tr>\n",
              "      <th>3254</th>\n",
              "      <td>@user @user @user @user @user as a fellow UP g...</td>\n",
              "    </tr>\n",
              "    <tr>\n",
              "      <th>3255</th>\n",
              "      <td>You have a #problem? Yes! Can you do #somethin...</td>\n",
              "    </tr>\n",
              "    <tr>\n",
              "      <th>3256</th>\n",
              "      <td>@user @user i will fight this guy! Don't insul...</td>\n",
              "    </tr>\n",
              "  </tbody>\n",
              "</table>\n",
              "<p>3257 rows × 1 columns</p>\n",
              "</div>\n",
              "      <button class=\"colab-df-convert\" onclick=\"convertToInteractive('df-df1b0107-4e65-432e-b908-e963a6791231')\"\n",
              "              title=\"Convert this dataframe to an interactive table.\"\n",
              "              style=\"display:none;\">\n",
              "        \n",
              "  <svg xmlns=\"http://www.w3.org/2000/svg\" height=\"24px\"viewBox=\"0 0 24 24\"\n",
              "       width=\"24px\">\n",
              "    <path d=\"M0 0h24v24H0V0z\" fill=\"none\"/>\n",
              "    <path d=\"M18.56 5.44l.94 2.06.94-2.06 2.06-.94-2.06-.94-.94-2.06-.94 2.06-2.06.94zm-11 1L8.5 8.5l.94-2.06 2.06-.94-2.06-.94L8.5 2.5l-.94 2.06-2.06.94zm10 10l.94 2.06.94-2.06 2.06-.94-2.06-.94-.94-2.06-.94 2.06-2.06.94z\"/><path d=\"M17.41 7.96l-1.37-1.37c-.4-.4-.92-.59-1.43-.59-.52 0-1.04.2-1.43.59L10.3 9.45l-7.72 7.72c-.78.78-.78 2.05 0 2.83L4 21.41c.39.39.9.59 1.41.59.51 0 1.02-.2 1.41-.59l7.78-7.78 2.81-2.81c.8-.78.8-2.07 0-2.86zM5.41 20L4 18.59l7.72-7.72 1.47 1.35L5.41 20z\"/>\n",
              "  </svg>\n",
              "      </button>\n",
              "      \n",
              "  <style>\n",
              "    .colab-df-container {\n",
              "      display:flex;\n",
              "      flex-wrap:wrap;\n",
              "      gap: 12px;\n",
              "    }\n",
              "\n",
              "    .colab-df-convert {\n",
              "      background-color: #E8F0FE;\n",
              "      border: none;\n",
              "      border-radius: 50%;\n",
              "      cursor: pointer;\n",
              "      display: none;\n",
              "      fill: #1967D2;\n",
              "      height: 32px;\n",
              "      padding: 0 0 0 0;\n",
              "      width: 32px;\n",
              "    }\n",
              "\n",
              "    .colab-df-convert:hover {\n",
              "      background-color: #E2EBFA;\n",
              "      box-shadow: 0px 1px 2px rgba(60, 64, 67, 0.3), 0px 1px 3px 1px rgba(60, 64, 67, 0.15);\n",
              "      fill: #174EA6;\n",
              "    }\n",
              "\n",
              "    [theme=dark] .colab-df-convert {\n",
              "      background-color: #3B4455;\n",
              "      fill: #D2E3FC;\n",
              "    }\n",
              "\n",
              "    [theme=dark] .colab-df-convert:hover {\n",
              "      background-color: #434B5C;\n",
              "      box-shadow: 0px 1px 3px 1px rgba(0, 0, 0, 0.15);\n",
              "      filter: drop-shadow(0px 1px 2px rgba(0, 0, 0, 0.3));\n",
              "      fill: #FFFFFF;\n",
              "    }\n",
              "  </style>\n",
              "\n",
              "      <script>\n",
              "        const buttonEl =\n",
              "          document.querySelector('#df-df1b0107-4e65-432e-b908-e963a6791231 button.colab-df-convert');\n",
              "        buttonEl.style.display =\n",
              "          google.colab.kernel.accessAllowed ? 'block' : 'none';\n",
              "\n",
              "        async function convertToInteractive(key) {\n",
              "          const element = document.querySelector('#df-df1b0107-4e65-432e-b908-e963a6791231');\n",
              "          const dataTable =\n",
              "            await google.colab.kernel.invokeFunction('convertToInteractive',\n",
              "                                                     [key], {});\n",
              "          if (!dataTable) return;\n",
              "\n",
              "          const docLinkHtml = 'Like what you see? Visit the ' +\n",
              "            '<a target=\"_blank\" href=https://colab.research.google.com/notebooks/data_table.ipynb>data table notebook</a>'\n",
              "            + ' to learn more about interactive tables.';\n",
              "          element.innerHTML = '';\n",
              "          dataTable['output_type'] = 'display_data';\n",
              "          await google.colab.output.renderOutput(dataTable, element);\n",
              "          const docLink = document.createElement('div');\n",
              "          docLink.innerHTML = docLinkHtml;\n",
              "          element.appendChild(docLink);\n",
              "        }\n",
              "      </script>\n",
              "    </div>\n",
              "  </div>\n",
              "  "
            ]
          },
          "metadata": {},
          "execution_count": 3
        }
      ]
    },
    {
      "cell_type": "code",
      "metadata": {
        "colab": {
          "base_uri": "https://localhost:8080/"
        },
        "id": "Fk-7nV9x8C-Y",
        "outputId": "cc6b3acc-8d5d-4226-a9f3-e53e9a68c2c3"
      },
      "source": [
        "# wektoryzacja pierwszego tekstu\n",
        "first_text = train_texts[0][0]\n",
        "for word in fasttext.tokenize(first_text):\n",
        "  print(word, model.get_word_id(word), model.get_word_vector(word))"
      ],
      "execution_count": 45,
      "outputs": [
        {
          "output_type": "stream",
          "name": "stdout",
          "text": [
            "“Worry -1 [-0.04189867  0.15429688  0.96717507  1.3809655   0.49123076 -0.5447607\n",
            " -0.11276884  0.20356484 -1.0640966  -1.6616327   0.03930127 -0.7224096\n",
            "  0.21334486 -0.5872285   0.2898182   0.81751084 -1.6077403   1.8038087\n",
            "  0.4850348   1.0643197 ]\n",
            "is 6 [ 0.24099417  0.13544752  0.7251924   0.32544732  0.27421224  0.31903243\n",
            "  0.7501186   0.22853182 -0.91543657  0.08587569  0.13866538 -0.38624704\n",
            " -0.30637258  0.13666666 -0.43992838 -0.12443608 -1.0383893  -0.06567164\n",
            "  0.17007533 -0.16708991]\n",
            "a 7 [-0.00810981 -0.03934941  0.81658655  0.56301105  0.43812367  0.29547286\n",
            "  0.4691784   0.07483605 -0.58705056  0.28240088 -0.6339584  -0.16187707\n",
            " -0.23376046 -0.1245347   0.03071329 -0.07603034 -0.9066614  -0.07007706\n",
            "  0.4522892  -0.15033531]\n",
            "down 174 [ 0.9175071  -1.0815151   0.07119758  0.34226617  0.9607946   0.5973182\n",
            "  0.91058624 -0.32068744 -0.72137564  1.2241784  -0.1882128  -0.23591968\n",
            " -0.02596712 -0.10194965 -0.09553405  0.36303622  0.22354192  0.4901933\n",
            "  0.5405883   0.5965071 ]\n",
            "payment 556 [ 0.6073219  -0.00891357  0.7414747   1.3249576   0.07864746  1.4985372\n",
            "  0.4708811   1.4519942   0.13019626 -0.07420245 -0.83968335 -0.05105841\n",
            " -0.28754452  0.36899182  0.7846754  -0.891886   -0.6211444   0.49265763\n",
            " -0.11467575 -0.0749438 ]\n",
            "on 14 [-0.09723835  0.3496086   0.6910995   0.28277752  0.8975253  -0.01230987\n",
            "  0.67500156  0.02879165 -0.786506    0.602648   -0.39817798  0.543332\n",
            " -0.46127442 -0.23781577  0.0184579  -0.28403515 -0.3935916   0.3259461\n",
            "  0.0507571  -0.03765008]\n",
            "a 7 [-0.00810981 -0.03934941  0.81658655  0.56301105  0.43812367  0.29547286\n",
            "  0.4691784   0.07483605 -0.58705056  0.28240088 -0.6339584  -0.16187707\n",
            " -0.23376046 -0.1245347   0.03071329 -0.07603034 -0.9066614  -0.07007706\n",
            "  0.4522892  -0.15033531]\n",
            "problem 1224 [ 0.9236216   0.13799877  0.9784595   1.5032955   0.31760898  0.13017276\n",
            "  0.5282482   0.4380176  -0.556051    0.11004172 -0.53169626 -0.7698464\n",
            " -0.21855882  0.10204052  0.089779    0.04558972 -0.4503975  -0.40340552\n",
            "  0.1640271   0.30253166]\n",
            "you 18 [ 0.36285082  0.23824042  0.92288643  0.33069703  0.61494684  0.62680995\n",
            "  0.8206055   0.49254185 -0.44717252 -0.47944754 -0.852041   -0.63990945\n",
            "  0.02505241 -0.43478322 -0.06202105  0.16197506 -0.36003593  0.2883114\n",
            "  0.73949414  0.5215194 ]\n",
            "may 309 [-0.20453136 -0.15716666  0.2648741   0.91359925  0.8807271   0.45750532\n",
            "  0.78538996  0.15402626 -0.9378929   0.49042216 -0.3321735  -0.6558436\n",
            "  0.08917101 -0.42916426 -0.4275598   0.3072008  -0.45899373 -0.02519113\n",
            "  0.34117666  0.12960152]\n",
            "never 299 [ 0.4569879  -0.43546084  0.8783896   0.8701302   0.47704792  0.46891853\n",
            "  0.77218413  0.28471166 -0.35907164 -0.17841178 -0.6685155  -1.0739613\n",
            "  0.17042854 -0.6416858  -0.0809866   0.52535385 -0.38173252  0.22777203\n",
            "  0.5776487   0.47688836]\n",
            "have'. -1 [-0.14791821  0.27410123  0.6040076   1.4533241   0.27587754  0.37697735\n",
            "  0.8350882   0.08774029 -0.9036173  -0.12468915 -0.8917518  -0.99509364\n",
            " -0.1603566  -0.50394845 -0.6500326   0.21711075 -0.20765467  0.57654476\n",
            "  0.976134   -0.09989043]\n",
            " Joyce -1 [ 0.3620899  -0.21890068  0.6421599   0.4646088  -0.23233397  0.01426617\n",
            "  0.75234526  0.06882509 -0.7289002   0.84054786 -0.8729406  -0.38942376\n",
            " -0.813916    0.52664775 -0.22176157  0.6487463  -0.97409683  1.1249645\n",
            " -0.6657481  -0.39433447]\n",
            "Meyer. 512882 [ 0.21895045  0.3844226   1.1516806   0.94822884  0.27445677  0.14578705\n",
            " -0.22505678 -0.32554576  0.16166015 -0.0054998  -1.2656554  -0.60765606\n",
            " -0.70257545  1.0171603  -0.3287179   0.5872529  -0.9836187   1.2412837\n",
            "  0.30786654 -0.36381623]\n",
            "#motivation 4480 [ 0.3188765   1.6882232  -0.5868895   0.6897793   0.95900065  0.80034953\n",
            " -1.3323131   1.2530718   0.0942677   0.2178247  -2.2693706  -0.7811642\n",
            "  0.01969428 -0.19465806 -1.6017233   1.0578989  -1.521254    1.5721912\n",
            "  0.43281424  1.6291353 ]\n",
            "#leadership 11070 [ 0.804105    1.703703   -0.27683935  1.0883378   1.2486427   0.71987647\n",
            " -1.2214324   0.31226104  0.28527248  0.43703973 -1.8948476  -0.66148883\n",
            "  0.5252311   0.3964793  -0.8544514   1.5619631  -1.4804806   0.9278764\n",
            " -0.8143877   1.1089797 ]\n",
            "#worry 238619 [ 1.659063   -0.08081658 -0.51301146  1.7041371   0.99064165  0.66747195\n",
            " -0.7270127   0.53979534  0.6186053  -0.26956725 -1.8310189  -1.1024348\n",
            " -0.0060048  -1.2603769  -1.9151248   0.394539   -0.64696866  1.3250468\n",
            "  0.07283593  0.45277843]\n"
          ]
        }
      ]
    },
    {
      "cell_type": "markdown",
      "metadata": {
        "id": "NWb5iv7T9ML9"
      },
      "source": [
        "Proszę zwrócić uwagę, że fastText jest w stanie przyporządkować reprezentację wektorową nawet dla takich słów, których model języka nie widział w trakcie uczenia (pierwszy token wejściowego tekstu). "
      ]
    },
    {
      "cell_type": "markdown",
      "metadata": {
        "id": "eYtFNcbU9qSR"
      },
      "source": [
        "## Model klasyfikacji tekstu LSTM (2 pkt.)"
      ]
    },
    {
      "cell_type": "code",
      "metadata": {
        "id": "SOP5PoY7907f"
      },
      "source": [
        "MODEL_PATH = \"drive/MyDrive/GSN_dane/fasttext_tweetmodel_btc_sg_100_en.bin\"\n",
        "fast_text_model = fasttext.load_model(MODEL_PATH)"
      ],
      "execution_count": 3,
      "outputs": []
    },
    {
      "cell_type": "code",
      "source": [
        "!python fastText/python/doc/examples/bin_to_vec.py drive/MyDrive/GSN_dane/fasttext_tweetmodel_btc_sg_100_en.bin > fasttext_tweetmodel_btc_sg_100_en.vec"
      ],
      "metadata": {
        "id": "PxyPyG0Idd79"
      },
      "execution_count": 4,
      "outputs": []
    },
    {
      "cell_type": "code",
      "source": [
        "!sed 's/^/__label__/g' tweeteval/tweeteval/tweeteval/datasets/emotion/train_labels.txt > train_labels_emo.txt\n",
        "!sed 's/^/__label__/g' tweeteval/tweeteval/tweeteval/datasets/emotion/test_labels.txt > test_labels_emo.txt\n",
        "!sed 's/^/__label__/g' tweeteval/tweeteval/tweeteval/datasets/emotion/val_labels.txt > val_labels_emo.txt\n",
        "\n",
        "!sed 's/^/__label__/g' tweeteval/tweeteval/tweeteval/datasets/hate/train_labels.txt > train_labels_hate.txt\n",
        "!sed 's/^/__label__/g' tweeteval/tweeteval/tweeteval/datasets/hate/test_labels.txt > test_labels_hate.txt\n",
        "!sed 's/^/__label__/g' tweeteval/tweeteval/tweeteval/datasets/hate/val_labels.txt > val_labels_hate.txt"
      ],
      "metadata": {
        "id": "u4zRNagafMr5"
      },
      "execution_count": 5,
      "outputs": []
    },
    {
      "cell_type": "code",
      "source": [
        "!paste -d \" \" tweeteval/tweeteval/tweeteval/datasets/emotion/train_text.txt train_labels_emo.txt > train_emo.txt\n",
        "!paste -d \" \" tweeteval/tweeteval/tweeteval/datasets/emotion/test_text.txt test_labels_emo.txt > test_emo.txt\n",
        "!paste -d \" \" tweeteval/tweeteval/tweeteval/datasets/emotion/val_text.txt val_labels_emo.txt > val_emo.txt\n",
        "\n",
        "!paste -d \" \" tweeteval/tweeteval/tweeteval/datasets/hate/train_text.txt train_labels_hate.txt > train_hate.txt\n",
        "!paste -d \" \" tweeteval/tweeteval/tweeteval/datasets/hate/test_text.txt test_labels_hate.txt > test_hate.txt\n",
        "!paste -d \" \" tweeteval/tweeteval/tweeteval/datasets/hate/val_text.txt val_labels_hate.txt > val_hate.txt"
      ],
      "metadata": {
        "id": "nWepCL3igD9a"
      },
      "execution_count": 6,
      "outputs": []
    },
    {
      "cell_type": "markdown",
      "metadata": {
        "id": "n9E-pBUY90LF"
      },
      "source": [
        "## Trenowanie modeli LSTM dla ZJAWISKO_1 i ZJAWISKO_2 (2 pkt.)\n",
        "Należy wybrać 2 z 7 dostępnych podzbiorów z [TweetEval](https://github.com/cardiffnlp/tweeteval) anotowanych następującymi zjawiskami: 1) emocje (emotion), 2) emotikony (emoji), 3) ironia (irony), 4) mowa nienawiści (hate speech), 5) mowa ofensywna (offensive language), 6) wydźwięk (sentiment), 7) nastawienie (stance)."
      ]
    },
    {
      "cell_type": "code",
      "source": [
        "import torch\n",
        "import torch.nn as nn\n",
        "from torch.nn.utils.rnn import pack_padded_sequence\n",
        "from tqdm.notebook import tqdm\n",
        "import numpy as np\n",
        "import torch\n",
        "from torch.autograd import Variable\n",
        "from typing import Tuple"
      ],
      "metadata": {
        "id": "wUup37GOlaPY"
      },
      "execution_count": 7,
      "outputs": []
    },
    {
      "cell_type": "code",
      "source": [
        "def tokenize(text):\n",
        "    words = fasttext.tokenize(text)\n",
        "    return np.asarray([fast_text_model.get_word_vector(x) for x in words])\n",
        "\n",
        "test_word = fast_text_model.get_word_vector('test')\n",
        "token_length = len(test_word)\n",
        "\n",
        "def get_values(df, column):\n",
        "    lengths = torch.from_numpy(df[column].str.len().to_numpy())\n",
        "    seq_tensors = Variable(torch.zeros((len(lengths), lengths.max(), token_length))).float()\n",
        "\n",
        "    vectorized_seqs = df.apply(lambda x: tokenize(x[column]), axis=1).to_numpy()\n",
        "\n",
        "    for i in range(len(vectorized_seqs)):\n",
        "        seq = vectorized_seqs[i]\n",
        "        seq_tensors[i, :len(seq)] = torch.from_numpy(seq)\n",
        "\n",
        "    seq_lengths, perm_idx = lengths.sort(0, descending=True)\n",
        "    seq_tensors = seq_tensors[perm_idx]\n",
        "    \n",
        "    return seq_tensors, seq_lengths"
      ],
      "metadata": {
        "id": "BwpK0trXlcq_"
      },
      "execution_count": 8,
      "outputs": []
    },
    {
      "cell_type": "code",
      "source": [
        "import pandas as pd\n",
        "\n",
        "emotion_train_path = 'tweeteval/tweeteval/tweeteval/datasets/emotion/train_text.txt'\n",
        "X_emotion = pd.read_csv(emotion_train_path, sep='\\t', header=None)\n",
        "X_emotion, lengths_emotion = get_values(X_emotion, 0)\n",
        "\n",
        "emotion_labels_path = 'tweeteval/tweeteval/tweeteval/datasets/emotion/train_labels.txt'\n",
        "y_emotion = pd.read_csv(emotion_labels_path, sep='\\t', header=None)\n",
        "y_emotion = torch.from_numpy(y_emotion[0].to_numpy())\n",
        "\n",
        "hate_train_path = 'tweeteval/tweeteval/tweeteval/datasets/hate/train_text.txt'\n",
        "X_hate = pd.read_csv(hate_train_path, sep='\\t', header=None)\n",
        "X_hate, lengths_hate = get_values(X_hate, 0)\n",
        "\n",
        "hate_labels_path = 'tweeteval/tweeteval/tweeteval/datasets/hate/train_labels.txt'\n",
        "y_hate = pd.read_csv(hate_labels_path, sep='\\t', header=None)\n",
        "y_hate = torch.from_numpy(y_hate[0].to_numpy())"
      ],
      "metadata": {
        "id": "1uXQ-Is_lX4l"
      },
      "execution_count": 9,
      "outputs": []
    },
    {
      "cell_type": "code",
      "metadata": {
        "id": "1Syr87r2-tSO"
      },
      "source": [
        "class LSTMModel(nn.Module):\n",
        "    def __init__(self, input_size, hidden_size, output_size):\n",
        "        super().__init__()\n",
        "        self.hidden_size = hidden_size\n",
        "        self.lstm = nn.LSTM(input_size, hidden_size, batch_first=True)\n",
        "        self.fc = nn.Linear(hidden_size, output_size)\n",
        "        self.ReLu = nn.ReLU()\n",
        "\n",
        "    def forward(self, x):\n",
        "        output, (hidden_state, _) = self.lstm(x)\n",
        "        output = self.fc(hidden_state[-1])\n",
        "        output = self.ReLu(output)\n",
        "        return output\n",
        "\n",
        "    def train_step(self, x, lengths):\n",
        "        packed_input = pack_padded_sequence(x, lengths, batch_first=True)\n",
        "        output = self.forward(packed_input)\n",
        "        return output\n",
        "\n",
        "\n",
        "\n",
        "def fit(X, y, lengths,model, optimizer: torch.optim.Optimizer, criterion, epochs: int\n",
        "):\n",
        "    for epoch in tqdm(range(epochs)):\n",
        "        model.train()\n",
        "        optimizer.zero_grad()\n",
        "        outputs = model.train_step(X, lengths)\n",
        "        loss = criterion(outputs, y)\n",
        "        loss.backward()\n",
        "        optimizer.step()\n",
        "\n",
        "\n",
        "        print(f\"Epoch {epoch+1}/{epochs}, Loss: {loss.item()}\")"
      ],
      "execution_count": 10,
      "outputs": []
    },
    {
      "cell_type": "code",
      "source": [
        "model_emotion = LSTMModel(len(test_word), 20, y_emotion.max() + 1)\n",
        "\n",
        "loss = nn.CrossEntropyLoss()\n",
        "optimizer = torch.optim.Adam(model_emotion.parameters(), lr=0.01)\n",
        "fit(X_emotion, y_emotion, lengths_emotion, model_emotion, optimizer, loss, 10)"
      ],
      "metadata": {
        "colab": {
          "base_uri": "https://localhost:8080/",
          "height": 223,
          "referenced_widgets": [
            "0707ae89e05e46658beafd1b55d95089",
            "33fec76c829245ed827793d2222ad8bb",
            "b716b824965d4ff89ce26180bda3e051",
            "5d07bc8fe2154682abed28d5b5c8af70",
            "8f9eb5f6db4243d0864fe38b86a767f2",
            "5b2fa113271841399f5f07a0b10b459a",
            "b319d185e37f4ab4b87adbbe762e2502",
            "966b03625a3c41c4970e5e1cbaf044f3",
            "f15d9a2044fd4d3eb3626ae1fb2d8bb5",
            "7e83d79d9def4898b0f01e7d48e126cb",
            "b4e8893f1e6748c5af797db6b2c2ae9d"
          ]
        },
        "id": "qFGCl6sk3ksg",
        "outputId": "a80d9e3f-279f-478c-a150-1f08efb189ca"
      },
      "execution_count": 17,
      "outputs": [
        {
          "output_type": "display_data",
          "data": {
            "text/plain": [
              "  0%|          | 0/10 [00:00<?, ?it/s]"
            ],
            "application/vnd.jupyter.widget-view+json": {
              "version_major": 2,
              "version_minor": 0,
              "model_id": "0707ae89e05e46658beafd1b55d95089"
            }
          },
          "metadata": {}
        },
        {
          "output_type": "stream",
          "name": "stdout",
          "text": [
            "Epoch 1/10, Loss: 1.4075205326080322\n",
            "Epoch 2/10, Loss: 1.3847535848617554\n",
            "Epoch 3/10, Loss: 1.3650060892105103\n",
            "Epoch 4/10, Loss: 1.346288800239563\n",
            "Epoch 5/10, Loss: 1.3276602029800415\n",
            "Epoch 6/10, Loss: 1.3161383867263794\n",
            "Epoch 7/10, Loss: 1.305797815322876\n",
            "Epoch 8/10, Loss: 1.2970695495605469\n",
            "Epoch 9/10, Loss: 1.294065237045288\n",
            "Epoch 10/10, Loss: 1.2906346321105957\n"
          ]
        }
      ]
    },
    {
      "cell_type": "code",
      "source": [
        "model_hate = LSTMModel(token_length, 20, y_hate.max() + 1)\n",
        "y_hate = y_hate[:8993]\n",
        "loss = nn.CrossEntropyLoss()\n",
        "optimizer = torch.optim.Adam(model_hate.parameters(), lr=0.01)\n",
        "fit(X_hate, y_hate, lengths_hate, model_hate, optimizer, loss, 5)"
      ],
      "metadata": {
        "colab": {
          "base_uri": "https://localhost:8080/",
          "height": 136,
          "referenced_widgets": [
            "036a453352fb4f61bacce79801ae4e1d",
            "15cb0d23e0264702a888d38c6ac9365a",
            "c0b21f04d309455c90176c0316e60ea1",
            "d6e9f40ca10b4e37a98c4f42e87fbea4",
            "7b3493f776fa4c3283084166bd88424b",
            "aa96c4b861e442d39722384a5c6860ba",
            "4bf005f830554da79cad9aecbe688e9a",
            "7c5d5e1bc92d4c72a3582a2d6245b7b1",
            "a9c01b93cc604a8ebc20571bf33b4663",
            "91493d53f7e94718866965955d7febef",
            "1d5d05fb4d674093a61b8af8309ab80f"
          ]
        },
        "id": "OIUmEqsssope",
        "outputId": "f6045c05-3c4a-445d-f78a-dc5286247911"
      },
      "execution_count": 11,
      "outputs": [
        {
          "output_type": "display_data",
          "data": {
            "text/plain": [
              "  0%|          | 0/5 [00:00<?, ?it/s]"
            ],
            "application/vnd.jupyter.widget-view+json": {
              "version_major": 2,
              "version_minor": 0,
              "model_id": "036a453352fb4f61bacce79801ae4e1d"
            }
          },
          "metadata": {}
        },
        {
          "output_type": "stream",
          "name": "stdout",
          "text": [
            "Epoch 1/5, Loss: 0.6816843748092651\n",
            "Epoch 2/5, Loss: 0.6804516315460205\n",
            "Epoch 3/5, Loss: 0.6807477474212646\n",
            "Epoch 4/5, Loss: 0.6808732151985168\n",
            "Epoch 5/5, Loss: 0.6805976629257202\n"
          ]
        }
      ]
    },
    {
      "cell_type": "markdown",
      "metadata": {
        "id": "bvy1SbHQ-lFs"
      },
      "source": [
        "## Trenowanie modeli LR (fastText) dla ZJAWISKO_1 i ZJAWISKO_2 (2 pkt.)"
      ]
    },
    {
      "cell_type": "code",
      "metadata": {
        "id": "0V4g2jmv-weV",
        "colab": {
          "base_uri": "https://localhost:8080/"
        },
        "outputId": "204c032b-ea23-478f-d12d-f85bbce48437"
      },
      "source": [
        "!fasttext supervised -input train_emo.txt -output emo_model -dim 100 -pretrainedVectors fasttext_tweetmodel_btc_sg_100_en.vec -autotune-validation val_emo.txt"
      ],
      "execution_count": 17,
      "outputs": [
        {
          "output_type": "stream",
          "name": "stdout",
          "text": [
            "Warning : dim is manually set to a specific value. It will not be automatically optimized.\n",
            "Progress: 100.0% Trials:    5 Best score:  0.697861 ETA:   0h 0m 0s\n",
            "Training again with best arguments\n",
            "Read 0M words\n",
            "Number of words:  12887\n",
            "Number of labels: 4\n",
            "Progress: 100.0% words/sec/thread:   23332 lr:  0.000000 avg.loss:  0.447785 ETA:   0h 0m 0s\n"
          ]
        }
      ]
    },
    {
      "cell_type": "code",
      "source": [
        "!fasttext supervised -input train_hate.txt -output hate_model -dim 100 -pretrainedVectors fasttext_tweetmodel_btc_sg_100_en.vec -autotune-validation val_hate.txt"
      ],
      "metadata": {
        "colab": {
          "base_uri": "https://localhost:8080/"
        },
        "id": "OSGfd0vF8GIu",
        "outputId": "2f72b32b-3947-4a02-c1b2-b34978e1e5e8"
      },
      "execution_count": 22,
      "outputs": [
        {
          "output_type": "stream",
          "name": "stdout",
          "text": [
            "Warning : dim is manually set to a specific value. It will not be automatically optimized.\n",
            "Progress: 100.0% Trials:    5 Best score:  0.720000 ETA:   0h 0m 0s\n",
            "Training again with best arguments\n",
            "Read 0M words\n",
            "Number of words:  32730\n",
            "Number of labels: 2\n",
            "Progress: 100.0% words/sec/thread:   18544 lr:  0.000000 avg.loss:  0.408331 ETA:   0h 0m 0s\n"
          ]
        }
      ]
    },
    {
      "cell_type": "markdown",
      "metadata": {
        "id": "8neBnDzU-4o9"
      },
      "source": [
        "## Ewaluacja modeli na danych testowych dla zjawiska ZJAWISKO_1 (2 pkt.)"
      ]
    },
    {
      "cell_type": "code",
      "metadata": {
        "id": "7wkbdG93_FxE"
      },
      "source": [
        "!mkdir predictions_emo"
      ],
      "execution_count": 23,
      "outputs": []
    },
    {
      "cell_type": "code",
      "source": [
        "!fasttext predict emo_model.bin tweeteval/tweeteval/tweeteval/datasets/emotion/test_text.txt | sed 's/__label__//g' > predictions_emo/emotion.txt"
      ],
      "metadata": {
        "id": "-IJlOXcYAFOr"
      },
      "execution_count": 28,
      "outputs": []
    },
    {
      "cell_type": "code",
      "source": [
        "!python tweeteval/tweeteval/tweeteval/evaluation_script.py --tweeteval_path tweeteval/tweeteval/tweeteval/datasets --predictions_path predictions_emo --task emotion"
      ],
      "metadata": {
        "colab": {
          "base_uri": "https://localhost:8080/"
        },
        "id": "6ThZqUA2AhhY",
        "outputId": "40931f37-bc0a-42bb-a578-71a6488824e4"
      },
      "execution_count": 29,
      "outputs": [
        {
          "output_type": "stream",
          "name": "stdout",
          "text": [
            "0 {'precision': 0.7099236641221374, 'recall': 0.8333333333333334, 'f1-score': 0.766694146743611, 'support': 558}\n",
            "1 {'precision': 0.7284768211920529, 'recall': 0.6145251396648045, 'f1-score': 0.6666666666666667, 'support': 358}\n",
            "2 {'precision': 0.4939759036144578, 'recall': 0.3333333333333333, 'f1-score': 0.39805825242718446, 'support': 123}\n",
            "3 {'precision': 0.6745406824146981, 'recall': 0.6727748691099477, 'f1-score': 0.673656618610747, 'support': 382}\n",
            "accuracy 0.6917663617171006\n",
            "macro avg {'precision': 0.6517292678358365, 'recall': 0.6134916688603547, 'f1-score': 0.6262689211120523, 'support': 1421}\n",
            "weighted avg {'precision': 0.6863938658648139, 'recall': 0.6917663617171006, 'f1-score': 0.6845742392029913, 'support': 1421}\n",
            "------------------------------\n",
            "TweetEval Score (emotion): 0.6262689211120523\n"
          ]
        }
      ]
    },
    {
      "cell_type": "code",
      "source": [
        "emotion_test_path = 'tweeteval/tweeteval/tweeteval/datasets/emotion/test_text.txt'\n",
        "X_emotion = pd.read_csv(emotion_test_path, sep='\\t', header=None)\n",
        "X_emotion, lengths_emotion = get_values(X_emotion, 0)\n",
        "\n",
        "emotion_labels_path = 'tweeteval/tweeteval/tweeteval/datasets/emotion/test_labels.txt'\n",
        "y_emotion = pd.read_csv(emotion_labels_path, sep='\\t', header=None)\n",
        "y_emotion = torch.from_numpy(y_emotion[0].to_numpy())"
      ],
      "metadata": {
        "id": "RNM18pD1C9Ej"
      },
      "execution_count": 18,
      "outputs": []
    },
    {
      "cell_type": "code",
      "source": [
        "from sklearn.metrics import f1_score\n",
        "def evaluate(X, y, lengths, model):\n",
        "    model.eval()\n",
        "    with torch.no_grad():\n",
        "        outputs = model.train_step(X, lengths)\n",
        "        _, predicted_labels = torch.max(outputs, 1)\n",
        "\n",
        "        accuracy = (predicted_labels == y).sum().item() / len(y) * 100\n",
        "\n",
        "        f1 = f1_score(y, predicted_labels, average='macro')\n",
        "\n",
        "        print(f\"Accuracy: {accuracy:.2f}%\")\n",
        "        print(f\"F1 Score: {f1:.4f}\")"
      ],
      "metadata": {
        "id": "lJ1kPYJHB4hh"
      },
      "execution_count": 12,
      "outputs": []
    },
    {
      "cell_type": "code",
      "source": [
        "evaluate(X_emotion, y_emotion, lengths_emotion, model_emotion)"
      ],
      "metadata": {
        "colab": {
          "base_uri": "https://localhost:8080/"
        },
        "id": "bvCMyj8HB_KX",
        "outputId": "25348d14-b879-40b5-82d3-5bf3adc38f36"
      },
      "execution_count": 22,
      "outputs": [
        {
          "output_type": "stream",
          "name": "stdout",
          "text": [
            "Accuracy: 39.27%\n",
            "F1 Score: 0.1410\n"
          ]
        }
      ]
    },
    {
      "cell_type": "markdown",
      "metadata": {
        "id": "qIHyGqMM_HaE"
      },
      "source": [
        "## Ewaluacja modeli na danych testowych dla zjawiska ZJAWISKO_2 (2 pkt.)"
      ]
    },
    {
      "cell_type": "code",
      "metadata": {
        "id": "MQ8yTGuu_Ird"
      },
      "source": [
        "!mkdir predictions_hate"
      ],
      "execution_count": 63,
      "outputs": []
    },
    {
      "cell_type": "code",
      "source": [
        "!fasttext predict emo_model.bin tweeteval/tweeteval/tweeteval/datasets/hate/test_text.txt | sed 's/__label__//g' > predictions_hate/hate.txt"
      ],
      "metadata": {
        "id": "GqOTbo7MIk2w"
      },
      "execution_count": 64,
      "outputs": []
    },
    {
      "cell_type": "code",
      "source": [
        "!python tweeteval/tweeteval/tweeteval/evaluation_script.py --tweeteval_path tweeteval/tweeteval/tweeteval/datasets --predictions_path predictions_hate --task hate"
      ],
      "metadata": {
        "colab": {
          "base_uri": "https://localhost:8080/"
        },
        "id": "wEZnJ0E0Iy7P",
        "outputId": "29e6723e-bc19-4d93-abd6-bde00f5781cf"
      },
      "execution_count": 65,
      "outputs": [
        {
          "output_type": "stream",
          "name": "stdout",
          "text": [
            "/usr/local/lib/python3.10/dist-packages/sklearn/metrics/_classification.py:1344: UndefinedMetricWarning: Recall and F-score are ill-defined and being set to 0.0 in labels with no true samples. Use `zero_division` parameter to control this behavior.\n",
            "  _warn_prf(average, modifier, msg_start, len(result))\n",
            "/usr/local/lib/python3.10/dist-packages/sklearn/metrics/_classification.py:1344: UndefinedMetricWarning: Recall and F-score are ill-defined and being set to 0.0 in labels with no true samples. Use `zero_division` parameter to control this behavior.\n",
            "  _warn_prf(average, modifier, msg_start, len(result))\n",
            "/usr/local/lib/python3.10/dist-packages/sklearn/metrics/_classification.py:1344: UndefinedMetricWarning: Recall and F-score are ill-defined and being set to 0.0 in labels with no true samples. Use `zero_division` parameter to control this behavior.\n",
            "  _warn_prf(average, modifier, msg_start, len(result))\n",
            "0 {'precision': 0.5676784249384742, 'recall': 0.8055878928987195, 'f1-score': 0.6660250240615978, 'support': 1718}\n",
            "1 {'precision': 0.29850746268656714, 'recall': 0.06389776357827476, 'f1-score': 0.10526315789473684, 'support': 1252}\n",
            "2 {'precision': 0.0, 'recall': 0.0, 'f1-score': 0.0, 'support': 0}\n",
            "3 {'precision': 0.0, 'recall': 0.0, 'f1-score': 0.0, 'support': 0}\n",
            "accuracy 0.49292929292929294\n",
            "macro avg {'precision': 0.21654647190626033, 'recall': 0.21737141411924854, 'f1-score': 0.19282204548908366, 'support': 2970}\n",
            "weighted avg {'precision': 0.4542097230060205, 'recall': 0.49292929292929294, 'f1-score': 0.42963652020943965, 'support': 2970}\n",
            "------------------------------\n",
            "TweetEval Score (hate): 0.19282204548908366\n"
          ]
        }
      ]
    },
    {
      "cell_type": "code",
      "source": [
        "hate_test_path = 'tweeteval/tweeteval/tweeteval/datasets/hate/test_text.txt'\n",
        "X_hate = pd.read_csv(hate_test_path, sep='\\t', header=None)\n",
        "X_hate, lengths_hate = get_values(X_hate, 0)\n",
        "\n",
        "hate_labels_path = 'tweeteval/tweeteval/tweeteval/datasets/hate/test_labels.txt'\n",
        "y_hate = pd.read_csv(hate_labels_path, sep='\\t', header=None)\n",
        "y_hate = torch.from_numpy(y_hate[0].to_numpy())"
      ],
      "metadata": {
        "id": "4AlDDwWXJIZW"
      },
      "execution_count": null,
      "outputs": []
    },
    {
      "cell_type": "code",
      "source": [
        "y_hate = y_hate[:2932]"
      ],
      "metadata": {
        "id": "oQDxQAu5CA11"
      },
      "execution_count": null,
      "outputs": []
    },
    {
      "cell_type": "code",
      "source": [
        "evaluate(X_hate, y_hate, lengths_hate, model_hate)"
      ],
      "metadata": {
        "colab": {
          "base_uri": "https://localhost:8080/"
        },
        "id": "Ve-Rxeo-BrSS",
        "outputId": "f2bd04cd-cad7-4f82-ae55-bc7e2d801b43"
      },
      "execution_count": 13,
      "outputs": [
        {
          "output_type": "stream",
          "name": "stdout",
          "text": [
            "Accuracy: 57.97%\n",
            "F1 Score: 0.3670\n"
          ]
        }
      ]
    }
  ]
}