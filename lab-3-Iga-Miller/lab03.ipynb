{
  "nbformat": 4,
  "nbformat_minor": 0,
  "metadata": {
    "colab": {
      "provenance": []
    },
    "kernelspec": {
      "name": "python3",
      "display_name": "Python 3"
    },
    "accelerator": "GPU",
    "gpuClass": "standard"
  },
  "cells": [
    {
      "cell_type": "markdown",
      "metadata": {
        "id": "l1koAEgYAJr-"
      },
      "source": [
        "# Wstęp\n",
        "\n",
        "Na poprzednich zajęciach nauczyłeś(aś) się jak skonstruować od zera podstawową komórkę sieci neuronowej - Perceptron. Na tych zajęciach przejdziemy już do wykorzystywania bardziej zaawansowanych funkcji PyTorcha, które przydają się na codzień do konstruowania sieci neuronowych.\n",
        "\n",
        "## Cel ćwiczenia\n",
        "\n",
        "Celem ćwiczenia jest zapoznanie z podstawowymi funkcjami biblioteki PyTorch do tworzenia i uczenia sieci neuronowych a w szczególności z:\n",
        "*   Automatycznym liczeniem gradientów i grafem obliczeniowym (autograd)\n",
        "*   Algorytmami off-line, on-line a także pojęciem mini-batch\n",
        "*   Algorytmami optymalizacji sieci neuronowych\n",
        "*   Liczeniem wartości fuknkcji straty\n",
        "*   Przekształceniami nieliniowymi\n",
        "*   Modułem `torch.nn`\n",
        "\n",
        "## Warunki zaliczenia\n",
        "\n",
        "W celu zaliczenia ćwiczeń należy uzupełnić wszystkie brakujące elementu kodu, wykonać wszystkie polecenia i wyuczyć model.\n"
      ]
    },
    {
      "cell_type": "code",
      "metadata": {
        "id": "kUJ1zQQXs7ip"
      },
      "source": [
        "import math\n",
        "import warnings\n",
        "from typing import Tuple\n",
        "\n",
        "import torch\n",
        "import torch.nn.functional as F\n",
        "from sklearn.model_selection import train_test_split\n",
        "from sklearn.datasets import load_iris\n",
        "from torch import nn\n",
        "from torch import optim\n",
        "from torch.utils.data import TensorDataset, DataLoader, random_split\n",
        "import matplotlib.pyplot as plt\n",
        "\n",
        "assert torch.cuda.is_available(), \"Uruchom środowisko wykonawcze na GPU\""
      ],
      "execution_count": 5,
      "outputs": []
    },
    {
      "cell_type": "markdown",
      "metadata": {
        "id": "er1hgYZsm5-6"
      },
      "source": [
        "# Autograd - automatyczne liczenie gradientów\n",
        "\n",
        "Na poprzednich laboratoriach implementowałeś(aś) funkcję wstecznej propagacji. W tym celu liczyłaś(eś) pochodne (gradienty). Przyjrzyjmy się najpierw funkcji\n",
        "$$f(x, y) = 3x^2 + y^3$$\n",
        "Możemy tę funkcję różniczkować po dwóch zmiennych: $x$ i $y$:\n",
        "$$\\frac{\\partial f}{\\partial x} = 6x$$\n",
        "\n",
        "$$\\frac{\\partial f}{\\partial y} = 3y^2$$\n",
        "\n",
        "Jeżeli funkcję $f(x,y)$ złożymy z funkcją $g(x) = x^2$ tworząc funkcję $h(x, y) = f(g(x), y)$ to z **reguły łańcuchowej** pochodna takiej funkcji wyniesie:\n",
        "\n",
        "$$\\frac{\\partial h}{\\partial x} = \\frac{\\partial f}{\\partial g} \\frac{\\partial g}{\\partial x} = (6 (x^2)) (2 x) = 12 x^3$$\n",
        "\n",
        "Tego typu obliczenia przy wielu warstwach sieci (a więc przy wielu złożeniach funkcji liniowych i nieliniowych) stają się mocno skomplikowane. Na szczęście PyToch dostarcza `torch.autograd` - silnik do zaumatyzowanego liczenia gradientów. Jak on działa? Najpierw zdefiniujmy wektory $\\mathbf x$ i $\\mathbf y$."
      ]
    },
    {
      "cell_type": "code",
      "metadata": {
        "id": "SRkbe7sPm5dL"
      },
      "source": [
        "x = torch.tensor([0., 1., 5.], requires_grad=True)\n",
        "y = torch.tensor([8., 2., 4.], requires_grad=True)"
      ],
      "execution_count": null,
      "outputs": []
    },
    {
      "cell_type": "markdown",
      "metadata": {
        "id": "Z6L2Lx63vTOn"
      },
      "source": [
        "Zauważ, że tworząc tensor przekazaliśmy parametr `requires_grad=True`. Sprawia on, że wszystkie operacje dokonane na tym tensorze są śledzone i tensor wynikowy będzie \"pamiętał\" przy użyciu jakiej operacji powstał. Policzmy naszą funkcję $f( \\mathbf x, \\mathbf y)$ dla tych tensorów."
      ]
    },
    {
      "cell_type": "code",
      "metadata": {
        "id": "_FE9yAWMvR4Q",
        "colab": {
          "base_uri": "https://localhost:8080/"
        },
        "outputId": "3e8a3dbf-48d4-4b60-de74-007a9bdcd147"
      },
      "source": [
        "z = 3*x**2 + y**3\n",
        "z"
      ],
      "execution_count": null,
      "outputs": [
        {
          "output_type": "execute_result",
          "data": {
            "text/plain": [
              "tensor([512.,  11., 139.], grad_fn=<AddBackward0>)"
            ]
          },
          "metadata": {},
          "execution_count": 3
        }
      ]
    },
    {
      "cell_type": "markdown",
      "metadata": {
        "id": "C4aNNpt8xqpk"
      },
      "source": [
        "Jak widać uzyskany tensor ma także zapisany parametr `grad_fn=<AddBackward0>`, czyli że powstał z dodania dwóch tensorów - dodawanie jest ostatnią operacją, która zostałą wykonana, żeby otrzymać ten tensor. Dokonajmy propagacji wstecznej w celu policzenia gradientów.\n"
      ]
    },
    {
      "cell_type": "code",
      "metadata": {
        "id": "b1_vOt2yxqHb",
        "colab": {
          "base_uri": "https://localhost:8080/"
        },
        "outputId": "75f781b1-4daa-4cfa-9557-2c064c87b4dd"
      },
      "source": [
        "grad_tensors = torch.tensor([1., 1., 1.])\n",
        "z.backward(grad_tensors)\n",
        "print(x.grad == 6*x)\n",
        "print(y.grad == 3*y**2)"
      ],
      "execution_count": null,
      "outputs": [
        {
          "output_type": "stream",
          "name": "stdout",
          "text": [
            "tensor([True, True, True])\n",
            "tensor([True, True, True])\n"
          ]
        }
      ]
    },
    {
      "cell_type": "markdown",
      "metadata": {
        "id": "kqqmScaJQoZ3"
      },
      "source": [
        "Na razie nie przejmuj się tym za co odpowiada `grad_tensors`. Policzmy wartość funkcji $h$.\n",
        "\n"
      ]
    },
    {
      "cell_type": "code",
      "metadata": {
        "id": "8OtdWj0Y7XGa",
        "colab": {
          "base_uri": "https://localhost:8080/"
        },
        "outputId": "58b1f59e-7c3b-4b58-b535-ecfd3d885aeb"
      },
      "source": [
        "a = 3*(x**2)**2 + y**3\n",
        "a.backward(grad_tensors)\n",
        "print(x.grad)\n",
        "print(12*(x**3))\n",
        "print(x.grad == 12*(x**3))"
      ],
      "execution_count": null,
      "outputs": [
        {
          "output_type": "stream",
          "name": "stdout",
          "text": [
            "tensor([   0.,   18., 1530.])\n",
            "tensor([   0.,   12., 1500.], grad_fn=<MulBackward0>)\n",
            "tensor([ True, False, False])\n"
          ]
        }
      ]
    },
    {
      "cell_type": "markdown",
      "metadata": {
        "id": "tgIDyhN4RanY"
      },
      "source": [
        "Nie zgadzają nam się wartości. Wynika to z kolejnej właśności pytorchowego autograda - gradienty w tensorach są **akumulowane**. Jak wykonasz powyższą komórkę wielekrotnie to zobaczysz że wartości `x.grad` rosną dokładnie o $12x_i^3$ po każdym wykonaniu. Akumulacja gradientów jest przydatna w niektórych architekturach sieci neuronowych. Dlatego też trzeba *explicite* wyzerować gradienty."
      ]
    },
    {
      "cell_type": "code",
      "metadata": {
        "id": "83kl2IWHO491",
        "colab": {
          "base_uri": "https://localhost:8080/"
        },
        "outputId": "1f6c1547-f350-4956-ed67-767c79cfd5a8"
      },
      "source": [
        "x.grad.data.zero_()\n",
        "a = 3*(x**2)**2 + y**3\n",
        "a.backward(grad_tensors)\n",
        "print(x.grad)\n",
        "print(12*(x**3))\n",
        "assert (x.grad == 12*(x**3)).all()"
      ],
      "execution_count": null,
      "outputs": [
        {
          "output_type": "stream",
          "name": "stdout",
          "text": [
            "tensor([   0.,   12., 1500.])\n",
            "tensor([   0.,   12., 1500.], grad_fn=<MulBackward0>)\n"
          ]
        }
      ]
    },
    {
      "cell_type": "markdown",
      "metadata": {
        "id": "nZ4DG0kmaTzl"
      },
      "source": [
        "Ok, powróćmy teraz do `grad_tensors` - co to jest? Otóż autograd jest silnikiem, który służy do wyliczania **macierzy Jacobiego**, tj. pochodnych pierwszego rzędu funkcji, których składowymi są funkcje rzeczywiste.\n",
        "\n",
        "$$f = (f_1, f_2, \\ldots, f_m)$$\n",
        "$$\\mathbf x = (x_1, x_2, \\ldots, x_n)$$\n",
        "\n",
        "$$\\mathbf J = \\begin{bmatrix}\n",
        " \\dfrac{\\partial f_1}{\\partial x_1} & \\cdots & \\dfrac{\\partial f_1}{\\partial x_n} \\\\\n",
        " \\vdots & \\ddots & \\vdots \\\\\n",
        " \\dfrac{\\partial f_m}{\\partial x_1} & \\cdots & \\dfrac{\\partial f_m}{\\partial x_n}\n",
        "\\end{bmatrix}$$\n",
        "\n",
        "Konkretnie patrząc na przykład z tensorem $a$ macierz Jacobiego wygląda tak:\n",
        "$$\\mathbf J_a = \\begin{bmatrix}\n",
        " \\dfrac{\\partial a_1}{\\partial x_1} & \\dfrac{\\partial a_1}{\\partial x_2} & \\dfrac{\\partial a_1}{\\partial x_3} \\\\\n",
        "  \\dfrac{\\partial a_2}{\\partial x_1} & \\dfrac{\\partial a_2}{\\partial x_2} & \\dfrac{\\partial a_2}{\\partial x_3} \\\\\n",
        "   \\dfrac{\\partial a_3}{\\partial x_1} & \\dfrac{\\partial a_3}{\\partial x_2} & \\dfrac{\\partial a_3}{\\partial x_3} \\\\\n",
        "\\end{bmatrix}$$\n",
        "\n",
        "Następnie `grad_tensors` ($\\mathbf z$) mnożymy przez transpozycję tej macierzy (ang. *Jacobian-vector product*).\n",
        "\n",
        "$$\\mathbf z \\mathbf{J}_a^T = \\begin{bmatrix} 1 & 1 & 1 \\end{bmatrix}\n",
        "\n",
        "\\begin{bmatrix}\n",
        " \\dfrac{\\partial a_1}{\\partial x_1} & \\dfrac{\\partial a_2}{\\partial x_1} & \\dfrac{\\partial a_3}{\\partial x_1} \\\\\n",
        "  \\dfrac{\\partial a_1}{\\partial x_2} & \\dfrac{\\partial a_2}{\\partial x_2} & \\dfrac{\\partial a_3}{\\partial x_2} \\\\\n",
        "   \\dfrac{\\partial a_1}{\\partial x_3} & \\dfrac{\\partial a_2}{\\partial x_3} & \\dfrac{\\partial a_3}{\\partial x_3} \\\\\n",
        "\\end{bmatrix}\n",
        "\n",
        "= \\begin{bmatrix} 1\\dfrac{\\partial a_1}{\\partial x_1} + 1\\dfrac{\\partial a_1}{\\partial x_2} + 1\\dfrac{\\partial a_1}{\\partial x_3} & 1\\dfrac{\\partial a_2}{\\partial x_1} + 1\\dfrac{\\partial a_2}{\\partial x_2} + 1\\dfrac{\\partial a_2}{\\partial x_3} & 1\\dfrac{\\partial a_3}{\\partial x_1} + 1\\dfrac{\\partial a_3}{\\partial x_2} + 1\\dfrac{\\partial a_3}{\\partial x_3} \\end{bmatrix}\n",
        "\n",
        "= \\begin{bmatrix} 12(0)^3 + 0 + 0 & 0 + 12(1)^3 + 0 & 0 + 0 + 12(5)^3 \\end{bmatrix} =  \\begin{bmatrix} 0 & 12 & 1500 \\end{bmatrix}$$\n",
        "\n",
        "Uzyskujemy te same gradienty co policzyliśmy dla wektora $\\mathbf x$. Zamiast przekazywać wektor jedynek do `backward()`, można najpierw policzyć sumę wektora $\\mathbf a$ a potem wykonać propagację wsteczną."
      ]
    },
    {
      "cell_type": "code",
      "metadata": {
        "id": "PVcNdrQKo0d0",
        "colab": {
          "base_uri": "https://localhost:8080/"
        },
        "outputId": "9b9f4c03-cda5-4348-da4b-cd7ab162000f"
      },
      "source": [
        "x.grad.data.zero_()\n",
        "a = 3*(x**2)**2 + y**3\n",
        "a.sum().backward()\n",
        "print(x.grad)\n",
        "print(12*(x**3))\n",
        "assert (x.grad == 12*(x**3)).all()"
      ],
      "execution_count": null,
      "outputs": [
        {
          "output_type": "stream",
          "name": "stdout",
          "text": [
            "tensor([   0.,   12., 1500.])\n",
            "tensor([   0.,   12., 1500.], grad_fn=<MulBackward0>)\n"
          ]
        }
      ]
    },
    {
      "cell_type": "markdown",
      "metadata": {
        "id": "ZpK5aW-CrKxP"
      },
      "source": [
        "Wtedy pamiętając o tym, że pochodna sumy to suma pochodnych ($(f(x) + g(x))' = f'(x) + g'(x)$):\n",
        "\n",
        "$$\\begin{bmatrix}\n",
        " \\dfrac{\\partial a}{\\partial x_1} & \\dfrac{\\partial a}{\\partial x_2} & \\dfrac{\\partial a}{\\partial x_3}\n",
        "\\end{bmatrix} = \\begin{bmatrix} \\dfrac{\\partial (a_1 + a_2 + a_3)}{\\partial x_1} & \\dfrac{\\partial (a_1 + a_2 + a_3)}{\\partial x_2} & \\dfrac{\\partial (a_1 + a_2 + a_3)}{\\partial x_3} \\end{bmatrix} = \\begin{bmatrix} \\dfrac{\\partial a_1}{\\partial x_1} + \\dfrac{\\partial a_2}{\\partial x_1} + \\dfrac{\\partial a_3}{\\partial x_1} & \\dfrac{\\partial a_1}{\\partial x_2} + \\dfrac{\\partial a_2}{\\partial x_2} + \\dfrac{\\partial a_3}{\\partial x_2} & \\dfrac{\\partial a_1}{\\partial x_3} + \\dfrac{\\partial a_2}{\\partial x_3} + \\dfrac{\\partial a_3}{\\partial x_3} \\end{bmatrix} = \\begin{bmatrix} \\dfrac{\\partial a_1}{\\partial x_1} & \\dfrac{\\partial a_2}{\\partial x_2} & \\dfrac{\\partial a_3}{\\partial x_3} \\end{bmatrix} =  \\begin{bmatrix} 0 & 12 & 1500 \\end{bmatrix} $$\n",
        "\n",
        "Zatem po co w ogóle ten wektor? Otóż służy on do przekazywania wektora gradientu funkcji straty ($\\dfrac{\\partial \\mathbf{loss}}{\\partial \\mathbf w}$). Dzięki temu możemy mieć wpływ na to jaką poprawkę trzeba wykonać na danym wektorze (np. z parametrami modelu) względem tego jak bardzo mocno model pomylił się na danych uczących."
      ]
    },
    {
      "cell_type": "code",
      "metadata": {
        "id": "jPnhVtQ2wIpy",
        "colab": {
          "base_uri": "https://localhost:8080/"
        },
        "outputId": "c14d31d7-dc3e-4a9a-d3f4-76fc2f401606"
      },
      "source": [
        "x.grad.data.zero_()\n",
        "a = 3*(x**2)**2 + y**3\n",
        "a.backward(torch.tensor([0., 0.3, -0.4]))\n",
        "print(x.grad)\n",
        "print(12*(x**3))"
      ],
      "execution_count": null,
      "outputs": [
        {
          "output_type": "stream",
          "name": "stdout",
          "text": [
            "tensor([   0.0000,    3.6000, -600.0001])\n",
            "tensor([   0.,   12., 1500.], grad_fn=<MulBackward0>)\n"
          ]
        }
      ]
    },
    {
      "cell_type": "markdown",
      "metadata": {
        "id": "2nRcH7fZx-m9"
      },
      "source": [
        "## Graf obliczeniowy\n",
        "\n",
        "To wszystko jest możliwe dzięki temu, że autograd tworzy **acykliczny skierowany graf obilczeniowy**. Gdzie go przechowuje? Spójrzmy jeszcze raz na nasz wektor $\\mathbf a$."
      ]
    },
    {
      "cell_type": "code",
      "metadata": {
        "id": "req-qWXFx-Po",
        "colab": {
          "base_uri": "https://localhost:8080/"
        },
        "outputId": "06fc263c-1a8a-4d2b-9391-0c05e04d1ef1"
      },
      "source": [
        "print(a)\n",
        "print(a.grad_fn.next_functions)"
      ],
      "execution_count": null,
      "outputs": [
        {
          "output_type": "stream",
          "name": "stdout",
          "text": [
            "tensor([ 512.,   11., 1939.], grad_fn=<AddBackward0>)\n",
            "((<MulBackward0 object at 0x7fc75c194820>, 0), (<PowBackward0 object at 0x7fc75c194520>, 0))\n"
          ]
        }
      ]
    },
    {
      "cell_type": "markdown",
      "metadata": {
        "id": "vWUeVJI4tC0y"
      },
      "source": [
        "Obiekt a ma pole `grad_fn` a ono ma pole `next_functions`. Widzimy, że $\\mathbf a$ powstało z przemnożenia dwóch tensorów, gdzie pierwszy tensor był wynikiem mnożenia a drugi - potęgowania. A więc na razie wiemy, że `a = (_*_) + (_**_)`. I kolejno przechodząc po tym grafie możemy dalej odkrywać jego strukturę i jaka droga skonstruowania $\\mathbf a$ się za nim kryje."
      ]
    },
    {
      "cell_type": "code",
      "metadata": {
        "id": "iG7ewXOpuBg9",
        "colab": {
          "base_uri": "https://localhost:8080/"
        },
        "outputId": "8246b557-52ac-4989-edc3-f9725dad1f71"
      },
      "source": [
        "print(a.grad_fn.next_functions[0][0].next_functions) # a = ((_**_))*_) + (_**_)\n",
        "print(a.grad_fn.next_functions[0][0].next_functions[0][0].next_functions) # a = (((_**_))**_))*_) + (_**_)\n",
        "print(a.grad_fn.next_functions[0][0].next_functions[0][0].next_functions[0][0].next_functions) # a = (((x**_))**_))*_) + (_**_)\n",
        "print()\n",
        "print(a.grad_fn.next_functions[1][0].next_functions) # a = (((x**_))**_))*_) + (y**_)"
      ],
      "execution_count": null,
      "outputs": [
        {
          "output_type": "stream",
          "name": "stdout",
          "text": [
            "((<PowBackward0 object at 0x7fc75c194400>, 0), (None, 0))\n",
            "((<PowBackward0 object at 0x7fc75c1940a0>, 0),)\n",
            "((<AccumulateGrad object at 0x7fc75c194400>, 0),)\n",
            "\n",
            "((<AccumulateGrad object at 0x7fc75c194400>, 0),)\n"
          ]
        }
      ]
    },
    {
      "cell_type": "markdown",
      "metadata": {
        "id": "O9AcjeSWwe2C"
      },
      "source": [
        "Po chwilii analizy można dostrzec że ta strutura odpowiada obliczeniu tensora $a$ ze wzoru $3(\\mathbf x^2)^2 + \\mathbf y^3$.\n",
        "\n",
        "Jeszcze warto wspomnieć o tym, że PyTorch śledzi to dla których tensorów trzeba tworzyć ten graf a dla których nie. Dlatego też jeżeli w operacjach użyjemy tensora, który \"wymaga gradientu\" (`requires_grad=True`) to uzyskamy tensor \"wymagający gradientu\":"
      ]
    },
    {
      "cell_type": "code",
      "metadata": {
        "id": "OsVXVIt0xgmH",
        "colab": {
          "base_uri": "https://localhost:8080/"
        },
        "outputId": "1872c12e-7e2a-474a-b07d-10917241eb95"
      },
      "source": [
        "x = torch.tensor([1., 2., 3.])\n",
        "y = torch.tensor([6., 7., 8.])\n",
        "z = torch.tensor([9., 7., 8.], requires_grad=True)\n",
        "print((2*x + 3**y).requires_grad)\n",
        "print((2*x + 3**y + z).requires_grad)"
      ],
      "execution_count": null,
      "outputs": [
        {
          "output_type": "stream",
          "name": "stdout",
          "text": [
            "False\n",
            "True\n"
          ]
        }
      ]
    },
    {
      "cell_type": "markdown",
      "metadata": {
        "id": "F31LTMdi2ZTe"
      },
      "source": [
        "# Refatoring kodu z laboratorium 2\n",
        "\n",
        "W tej części laboratorium dokonasz refaktoringu kodu z laboratorium drugiego z wykorzystaniem gotowych rozwiązań w bibliotece `torch` a w szczególności w `torch.nn`. Najpierw zacznijmy od załadowania zbioru danych i podzielenia go na zbiór uczący i testowy."
      ]
    },
    {
      "cell_type": "code",
      "metadata": {
        "id": "U9wlFq0z2y-R",
        "colab": {
          "base_uri": "https://localhost:8080/"
        },
        "outputId": "75c91c92-d1de-495d-a5f1-fa78d3d72128"
      },
      "source": [
        "X, y = load_iris(return_X_y=True)\n",
        "\n",
        "X_train, X_test, y_train, y_test = train_test_split(X, y, test_size=0.4, random_state=1, stratify=y)\n",
        "\n",
        "X_train = torch.tensor(X_train).float().cuda()\n",
        "X_test = torch.tensor(X_test).float().cuda()\n",
        "y_train = torch.tensor(y_train).cuda()\n",
        "y_test = torch.tensor(y_test).cuda()\n",
        "\n",
        "y_test"
      ],
      "execution_count": 2,
      "outputs": [
        {
          "output_type": "execute_result",
          "data": {
            "text/plain": [
              "tensor([0, 2, 0, 1, 2, 1, 1, 2, 2, 0, 2, 0, 2, 2, 1, 1, 2, 1, 2, 1, 0, 0, 2, 0,\n",
              "        1, 1, 2, 0, 2, 0, 0, 1, 1, 2, 2, 0, 0, 0, 0, 2, 1, 2, 0, 0, 2, 2, 1, 0,\n",
              "        0, 1, 2, 1, 1, 1, 2, 1, 0, 0, 1, 1], device='cuda:0')"
            ]
          },
          "metadata": {},
          "execution_count": 2
        }
      ]
    },
    {
      "cell_type": "markdown",
      "metadata": {
        "id": "I7l1l8oi5xIM"
      },
      "source": [
        "## `nn.Module` oraz `CrossEntropyLoss`\n",
        "\n",
        "Na poprzednich laboratoriach w tym miejscu implementowaliśmy funkcję sigmoid, inicjalizację parametrów oraz propagację w przód i wsteczną. Tym razem nie będzie trzeba tego robić, jednakże zdefiniujesz architekturę sieci przy użyciu modułu `torch.nn`.\n",
        "\n",
        "***Zaimplementuj*** klasę Perceptron - klasę dziedziczącą po `nn.Module` z jedną warstwą transformacji liniowej (Perceptrona, [`torch.nn.Linear`](https://pytorch.org/docs/stable/generated/torch.nn.Linear.html)). Na razie ***pomiń*** transformację nieliniową (np. sigmoid). \n",
        "\n"
      ]
    },
    {
      "cell_type": "code",
      "metadata": {
        "id": "x3puwuoU_pt_"
      },
      "source": [
        "class Perceptron(nn.Module):\n",
        "    def __init__(self, input_dim: int, output_dim: int):\n",
        "        super().__init__()\n",
        "        self.net = nn.Linear(input_dim, output_dim) # Użyj nn.Linear\n",
        "    \n",
        "    def forward(self, x: torch.Tensor):\n",
        "        return self.net(x)\n"
      ],
      "execution_count": 7,
      "outputs": []
    },
    {
      "cell_type": "markdown",
      "metadata": {
        "id": "rY0OAVWM8DF6"
      },
      "source": [
        "Wspominmy tylko, że można nadal używać `torch.nn` i nie wykorzystywać gotowych warstw sieci tylko samemu implementować operacje na tensorach:\n",
        "\n",
        "```\n",
        "class Perceptron(nn.Module):\n",
        "    def __init__(self, in_dim: int, out_dim: int):\n",
        "        super().__init__()\n",
        "        self.weights = nn.Parameter(\n",
        "          torch.randn(in_dim, out_dim) / math.sqrt(in_dim)\n",
        "        )\n",
        "        self.bias = nn.Parameter(torch.zeros(out_dim))\n",
        "\n",
        "    def forward(self, xb: torch.Tensor):\n",
        "        return xb @ self.weights + self.bias\n",
        "```\n",
        "***Przetestuj*** poprawność swojej implementacji."
      ]
    },
    {
      "cell_type": "code",
      "metadata": {
        "id": "g3OrIHg-82v5",
        "colab": {
          "base_uri": "https://localhost:8080/"
        },
        "outputId": "861943e5-5714-4acc-ba52-2a658932f999"
      },
      "source": [
        "model = Perceptron(4,3).cuda()\n",
        "y_pred_0 = model(X_train[0])\n",
        "print(y_pred_0)\n",
        "\n",
        "assert isinstance(y_pred_0, torch.cuda.FloatTensor)\n",
        "assert len(y_pred_0) == 3"
      ],
      "execution_count": null,
      "outputs": [
        {
          "output_type": "stream",
          "name": "stdout",
          "text": [
            "tensor([-3.6961, -1.2094,  0.3594], device='cuda:0', grad_fn=<AddBackward0>)\n"
          ]
        }
      ]
    },
    {
      "cell_type": "markdown",
      "metadata": {
        "id": "sdodFGsV_EMR"
      },
      "source": [
        "Wykorzystanie `nn.Linear` nie tylko odciążyło nas z implementacji operacji na tensorasch, ale także z inicjalizacji paprametrów modelu - inicjalizacja parametrów jest domyślnie implementowana przez daną wartstwę. Jeżeli uruchomisz powyższy kod wielokrotnie to zauważysz, że za każdym razem otrzymujesz inny tensor wyjściowy. Wynika to z tego, że początkowe parametry modelu są domyślnie **losowane**. Oznacza to, że proces uczenia będzie **niedeterministryczny** - każde uruchomienie da inny wynik parametrów, które model się nauczy.\n",
        "\n",
        "Pozostało jeszcze dodanie nieliniowej transformacji do sieci, ale nie będziemy tego robić. Dodatkowo zamiast tworzyć osobny klasifikator na klasę, zastosujemy jeden klasyfikator. W tym celu zmieniemy funkcję kosztu. Do klasyfikacji wieloklasowej wykorzystamy funkcję **straty krzyżowej entropii**.\n",
        "\n",
        "$\\text{loss} = -\\frac{1}{N}\\sum_{i}^{N}\\log(\\text{softmax}(x_{i}){y_{i}}) $, gdzie $N$ oznacza liczbę przypadków, $x_{i}$ wyjście z ostatniej warstwy $i$-tej instancji, $y_{i}$ klasę $i$-tej instancji.\n",
        "\n",
        "**Softmax** jest przekstałceniem nielinowym powszechnie używanym jako ostatnia warstwa sieci neuronowej służącej do klasyfikacji. Jej mocną stroną jest to, że suma wszystkich elementów tensora będących na jej wyjściu wynosi $1$. Dzięki temu możemy wyjście sieci interpretować jako przypisanie pseudoprawdopodbieństwa dla klasyfikacji dla danej próbki.\n",
        "\n",
        "Dla danego wektora $\\mathbf x = (x_1, x_2, \\ldots, x_i, \\ldots, x_C)$ funkcja Softmax jest zdefiniowana jako:\n",
        "$\\text{Softmax}(x_{i}) = \\frac{\\exp(x_{i})}{\\sum_{j}^{C} \\exp(x_{j})}$, gdzie $C$ oznacza liczbę klas.\n",
        "\n",
        "W tym zadaniu nie będziemy implementować tych funkcji samemu tylko wykorzystamy gotową implementację w bibliotece torch. Implementację znajdziemy w [`torch.nn.CrossEntropyLoss`](https://pytorch.org/docs/stable/generated/torch.nn.CrossEntropyLoss.html). Przyjmuje ona \"surowe\" wartości, dlatego że oblicza również funkcję **LogSoftmax**. Alternatywnie możemy nałożyć funkcję aktywacji LogSoftmax z modułu [`torch.nn.LogSoftmax`](https://pytorch.org/docs/stable/generated/torch.nn.LogSoftmax.html) i obliczyć negatywny logarytm funkcji wiarygodności (ang. *negative log likelihood*) [`torch.nn.NLLLoss`](https://pytorch.org/docs/stable/generated/torch.nn.NLLLoss.html#torch.nn.NLLLoss). `torch.nn.NLLLoss` nie wykonuje operacji logarytmowania tylko oczekuje zlogarytmowanego wejścia.\n",
        "\n",
        "**LogSoftmax** wykorzystany jest tutaj nieprzypadkowo. Funkcja softmax w oryginalnej postaci nie jest odparna na wystąpienie niestabilności numerycznych. W przypadku liczenia entropii krzyżowej możemy wykorzystać skalę logarytmiczną do przeprowadzenia operacji. Dzięki przenesieniu obliczania logarytmu do funkcji Softmax możemy zastąpić dzielenie na różnicę logarytmów. czyli zamiast powyższej definicji funkcja LogSoftmax przyjmuję następującą postać:\n",
        "\n",
        "$\\text{LogSoftmax}(x_{i}) = x_{i} - log \\bigg({\\sum_{j}^{C} \\exp(x_{j})}\\bigg)$\n",
        "\n",
        "Dodatkowo stosowany jest także trik polegający na zastąpieniu operacji $log \\bigg({\\sum_{j}^{C} \\exp(x_{j})}\\bigg)$ operacją **LogSumExp**, zdefiniowaną jako\n",
        "\n",
        "$\\text{LogSumExp}(\\mathbf x) = \\max(\\mathbf x) + log \\bigg({\\sum_{j}^{C} \\exp(x_{j} - \\max(\\mathbf x))}\\bigg)$.\n",
        "\n",
        "Pozwala to pozbyć się dużych wartości $x_{j}$ podczas obliczania $\\exp$.\n",
        "\n"
      ]
    },
    {
      "cell_type": "markdown",
      "metadata": {
        "id": "S5hwoYUOMCE7"
      },
      "source": [
        "## Algorytmy online i offline (`DataLoader`)\n",
        "\n",
        "Na poprzednich zajęciach zaimplementowałaś(eś) **algorytm offline** (alternatywnie batchowy lub deterministyczny, ang. *offline*, *batch*, *deterministic*) tzn. taki, który przetwarza od razu wszystkie dane. Jednakże implementując sieci neuronowe tworzymy często algorytmy **online** (alternatywnie stochastyczne, ang. *online*, *stochastic*), które przetwarzają dane w \"kawałkach\" lub wręcz mogą dostawać je \"na bieżąco\" bez konieczności posiadania wszystkcih danych przed uruchomieniem algorytmu. Są różne powody, dla których tak się robi, ale najczęstrzy jest taki, że przy głębszych architektrurach i bardziej złożonych obiektach (np. obrazach) byłoby fizycznie nie możliwe pomieścić te wszystkie dane w pamięci RAM lub VRAM (RAM na GPU) wraz z parametrami modelu.\n",
        "\n",
        "Liczbę próbek w algorytmach stochastycznych w sieciach neuronowych określa się jako **minibatch size** lub po prostu **batch size**. Przy czym określenie *batch size* nie odnosi się tutaj do algorytmów batchowych (operujących na całym zbiorze danych), tylko do algorytmów online/minibatch. Po prostu *batch size* jest określeniem krótszym (ale mniej poprawnym) niż *minibatch size*, stąd też powszechnie używa się tego pierwszego. Z tego też powodu czasami niektórzy używają określenia *batch* na *minibatch* - warto mieć to na uwadze przy komunikowaniu się z innymi osobami.\n",
        "\n",
        "Do zaimplementowania minibatchy wykorzystamy [`torch.utils.data.DataLoader`](https://pytorch.org/docs/stable/data.html#torch.utils.data.DataLoader). ***Zaimplementuj*** funkcję `to_dataloader`, która `X_train` i `y_train` oraz `X_test` i `y_test` umieści w dwóch osobnych instancjach klasy `DataLoader` z wielkością minibatacha równą `batch_size`"
      ]
    },
    {
      "cell_type": "code",
      "metadata": {
        "id": "ni_A2b6nQHTX"
      },
      "source": [
        "def to_dataloader(\n",
        "    X_train: torch.Tensor, \n",
        "    y_train: torch.Tensor, \n",
        "    X_test: torch.Tensor, \n",
        "    y_test: torch.Tensor, \n",
        "    batch_size: int = 32\n",
        ") -> Tuple[DataLoader, DataLoader]:\n",
        "    train_ds = TensorDataset(X_train, y_train)\n",
        "    train_dl = DataLoader(train_ds, batch_size=batch_size, shuffle=True)\n",
        "\n",
        "    test_ds = TensorDataset(X_test, y_test)\n",
        "    test_dl = DataLoader(test_ds, batch_size=batch_size)\n",
        "\n",
        "    return train_dl, test_dl"
      ],
      "execution_count": null,
      "outputs": []
    },
    {
      "cell_type": "markdown",
      "metadata": {
        "id": "LaPQq3iKXPJ-"
      },
      "source": [
        "***Przetestuj*** implementację"
      ]
    },
    {
      "cell_type": "code",
      "metadata": {
        "id": "m6LRNS6sWWA2",
        "colab": {
          "base_uri": "https://localhost:8080/"
        },
        "outputId": "70b699d0-598b-4fee-f15a-ead92465d582"
      },
      "source": [
        "train_loader, test_loader = to_dataloader(\n",
        "    X_train=X_train,  y_train=y_train, \n",
        "    X_test=X_test, y_test=y_test, \n",
        "    batch_size=32\n",
        ")\n",
        "\n",
        "for sample in test_loader:\n",
        "    print(sample)"
      ],
      "execution_count": null,
      "outputs": [
        {
          "output_type": "stream",
          "name": "stdout",
          "text": [
            "[tensor([[5.1000, 3.8000, 1.9000, 0.4000],\n",
            "        [7.4000, 2.8000, 6.1000, 1.9000],\n",
            "        [4.6000, 3.2000, 1.4000, 0.2000],\n",
            "        [6.4000, 2.9000, 4.3000, 1.3000],\n",
            "        [7.3000, 2.9000, 6.3000, 1.8000],\n",
            "        [7.0000, 3.2000, 4.7000, 1.4000],\n",
            "        [5.1000, 2.5000, 3.0000, 1.1000],\n",
            "        [7.2000, 3.2000, 6.0000, 1.8000],\n",
            "        [6.7000, 2.5000, 5.8000, 1.8000],\n",
            "        [5.0000, 3.4000, 1.5000, 0.2000],\n",
            "        [6.1000, 3.0000, 4.9000, 1.8000],\n",
            "        [5.1000, 3.5000, 1.4000, 0.2000],\n",
            "        [6.9000, 3.2000, 5.7000, 2.3000],\n",
            "        [6.2000, 3.4000, 5.4000, 2.3000],\n",
            "        [6.0000, 3.4000, 4.5000, 1.6000],\n",
            "        [6.1000, 3.0000, 4.6000, 1.4000],\n",
            "        [6.8000, 3.0000, 5.5000, 2.1000],\n",
            "        [6.8000, 2.8000, 4.8000, 1.4000],\n",
            "        [5.7000, 2.5000, 5.0000, 2.0000],\n",
            "        [6.2000, 2.2000, 4.5000, 1.5000],\n",
            "        [5.7000, 4.4000, 1.5000, 0.4000],\n",
            "        [5.0000, 3.5000, 1.6000, 0.6000],\n",
            "        [6.7000, 3.3000, 5.7000, 2.5000],\n",
            "        [4.4000, 2.9000, 1.4000, 0.2000],\n",
            "        [5.6000, 2.7000, 4.2000, 1.3000],\n",
            "        [6.6000, 3.0000, 4.4000, 1.4000],\n",
            "        [5.9000, 3.0000, 5.1000, 1.8000],\n",
            "        [5.4000, 3.9000, 1.7000, 0.4000],\n",
            "        [6.7000, 3.1000, 5.6000, 2.4000],\n",
            "        [4.9000, 3.0000, 1.4000, 0.2000],\n",
            "        [4.6000, 3.4000, 1.4000, 0.3000],\n",
            "        [5.7000, 2.8000, 4.1000, 1.3000]], device='cuda:0'), tensor([0, 2, 0, 1, 2, 1, 1, 2, 2, 0, 2, 0, 2, 2, 1, 1, 2, 1, 2, 1, 0, 0, 2, 0,\n",
            "        1, 1, 2, 0, 2, 0, 0, 1], device='cuda:0')]\n",
            "[tensor([[6.7000, 3.1000, 4.4000, 1.4000],\n",
            "        [6.5000, 3.0000, 5.5000, 1.8000],\n",
            "        [6.4000, 2.7000, 5.3000, 1.9000],\n",
            "        [4.8000, 3.4000, 1.6000, 0.2000],\n",
            "        [5.2000, 3.4000, 1.4000, 0.2000],\n",
            "        [5.4000, 3.4000, 1.7000, 0.2000],\n",
            "        [4.8000, 3.0000, 1.4000, 0.1000],\n",
            "        [6.5000, 3.0000, 5.2000, 2.0000],\n",
            "        [6.5000, 2.8000, 4.6000, 1.5000],\n",
            "        [7.1000, 3.0000, 5.9000, 2.1000],\n",
            "        [4.9000, 3.1000, 1.5000, 0.2000],\n",
            "        [5.4000, 3.9000, 1.3000, 0.4000],\n",
            "        [6.5000, 3.0000, 5.8000, 2.2000],\n",
            "        [4.9000, 2.5000, 4.5000, 1.7000],\n",
            "        [6.1000, 2.8000, 4.7000, 1.2000],\n",
            "        [4.9000, 3.1000, 1.5000, 0.1000],\n",
            "        [5.0000, 3.0000, 1.6000, 0.2000],\n",
            "        [4.9000, 2.4000, 3.3000, 1.0000],\n",
            "        [6.9000, 3.1000, 5.1000, 2.3000],\n",
            "        [5.5000, 2.3000, 4.0000, 1.3000],\n",
            "        [5.6000, 3.0000, 4.5000, 1.5000],\n",
            "        [6.3000, 3.3000, 4.7000, 1.6000],\n",
            "        [5.6000, 2.8000, 4.9000, 2.0000],\n",
            "        [5.4000, 3.0000, 4.5000, 1.5000],\n",
            "        [5.7000, 3.8000, 1.7000, 0.3000],\n",
            "        [4.9000, 3.6000, 1.4000, 0.1000],\n",
            "        [6.0000, 2.2000, 4.0000, 1.0000],\n",
            "        [6.1000, 2.8000, 4.0000, 1.3000]], device='cuda:0'), tensor([1, 2, 2, 0, 0, 0, 0, 2, 1, 2, 0, 0, 2, 2, 1, 0, 0, 1, 2, 1, 1, 1, 2, 1,\n",
            "        0, 0, 1, 1], device='cuda:0')]\n"
          ]
        }
      ]
    },
    {
      "cell_type": "markdown",
      "metadata": {
        "id": "B7yYkPUtxcaJ"
      },
      "source": [
        "## Ewaluacja modelu - metryki\n",
        "\n",
        "***Zaimplementuj*** funkcję `validate`, które dla danego modelu, funkcji straty i loadera zwróci średnią wartość funkcji straty oraz dokładność (ang. *accuracy*) dla danych z `dataloader`."
      ]
    },
    {
      "cell_type": "code",
      "metadata": {
        "id": "5iCngT3Ctn-e"
      },
      "source": [
        "def count_correct(\n",
        "    y_pred: torch.Tensor, y_true: torch.Tensor\n",
        ") -> torch.Tensor:\n",
        "    preds = torch.argmax(y_pred, dim=1)\n",
        "    return (preds == y_true).float().sum()\n",
        "\n",
        "def validate(\n",
        "    model: nn.Module, \n",
        "    loss_fn: torch.nn.CrossEntropyLoss, \n",
        "    dataloader: DataLoader\n",
        ") -> Tuple[torch.Tensor, torch.Tensor]:\n",
        "    loss = 0\n",
        "    correct = 0\n",
        "    all = 0\n",
        "    for X_batch, y_batch in dataloader:\n",
        "        y_pred = model(X_batch)\n",
        "        all += len(y_pred)\n",
        "        loss += loss_fn(y_pred, y_batch).sum()\n",
        "        correct += count_correct(y_pred, y_batch)\n",
        "    return loss / all, correct / all\n"
      ],
      "execution_count": 3,
      "outputs": []
    },
    {
      "cell_type": "markdown",
      "metadata": {
        "id": "sZgBH3lxF2l5"
      },
      "source": [
        "***Przetestuj*** swoją implementację"
      ]
    },
    {
      "cell_type": "code",
      "metadata": {
        "id": "X0W8GaaNvoFC",
        "colab": {
          "base_uri": "https://localhost:8080/"
        },
        "outputId": "50dbf15d-a8e2-4f3f-9462-728af49eddaa"
      },
      "source": [
        "loss_fn = torch.nn.CrossEntropyLoss()\n",
        "val_train, acc_train = validate(model, loss_fn, test_loader)\n",
        "print(val_train, acc_train)"
      ],
      "execution_count": null,
      "outputs": [
        {
          "output_type": "stream",
          "name": "stdout",
          "text": [
            "tensor(0.0455, device='cuda:0', grad_fn=<DivBackward0>) tensor(0.3333, device='cuda:0')\n"
          ]
        }
      ]
    },
    {
      "cell_type": "markdown",
      "metadata": {
        "id": "l6Me2ep7HFC-"
      },
      "source": [
        "## Uczenie\n",
        "\n",
        "Przed uzupełnieniem poniżej implementacji została nam jeszcze jedna istotna kwestia do poruszenia. Otóż dot tej pory aktualizację parametrów dokonywaliśmy wg prostej formuły - mnożyliśmy gradienty przez współczynnik uczenia (ang. *learning rate*) i odejmowalismy od parametrów. Jednakże do uczenia sieci neuronowych sotsujemy często optymalizatory (ang. *optimiser*), które mogą implementować różne podejścia do uakualiniania parameterów modelu. Wykorzystamy tutaj algorytm **Adam** (ang. *adaptive moment estimation*), który dostosowuje współczynnik uczenia do poszczególnych parametrów i jest często optimizatorem pierwszego wyboru.\n",
        "\n",
        "***Uzupełnij i przetestuj*** poniższą implementację uczenia modelu. Porównaj jej skuteczność z tą, którą zaimplementowałeś(aś) na laboratorium 2."
      ]
    },
    {
      "cell_type": "code",
      "source": [
        "import matplotlib.pyplot as plt\n",
        "from torch.utils.data import DataLoader, random_split\n",
        "\n",
        "\n",
        "def fit_new(\n",
        "    model: nn.Module, optimiser: optim.Optimizer, \n",
        "    loss_fn: torch.nn.CrossEntropyLoss, train_dl: DataLoader, \n",
        "    test_dl: DataLoader, val_dl: DataLoader, epochs: int, \n",
        "    print_metrics: str = True\n",
        "):\n",
        "    train_losses_list = []\n",
        "    train_acc_list = []\n",
        "    test_losses_list = []\n",
        "    test_acc_list = []\n",
        "    val_losses_list = []\n",
        "    val_acc_list = []\n",
        "\n",
        "    for epoch in range(epochs):\n",
        "        for X_batch, y_batch in train_dl:\n",
        "            y_pred = model(X_batch)\n",
        "            loss = loss_fn(y_pred, y_batch)\n",
        "\n",
        "            loss.backward()\n",
        "            optimiser.step()\n",
        "            optimiser.zero_grad()\n",
        "        \n",
        "        if print_metrics: \n",
        "            model.eval()\n",
        "            with torch.no_grad():\n",
        "                train_loss, train_acc = validate(model, loss_fn, train_dl)\n",
        "                test_loss, test_acc = validate(model, loss_fn, test_dl)\n",
        "                val_loss, val_acc = validate(model, loss_fn, val_dl)\n",
        "                print(\n",
        "                    f\"Epoch {epoch}: \"\n",
        "                    f\"train loss = {train_loss:.3f} (acc: {train_acc:.3f}), \"\n",
        "                    f\"validation loss = {val_loss:.3f} (acc: {val_acc:.3f}),\"\n",
        "                    f\"test loss = {test_loss:.3f} (acc: {test_acc:.3f}),\"\n",
        "                ) \n",
        "\n",
        "            train_losses_list.append(float(train_loss))\n",
        "            train_acc_list.append(float(train_acc))\n",
        "            test_losses_list.append(float(test_loss))\n",
        "            test_acc_list.append(float(test_acc))\n",
        "            val_losses_list.append(float(val_loss))\n",
        "            val_acc_list.append(float(val_acc))\n",
        "\n",
        "    model.eval() # Przełączenie na tryb ewaluacji modelu - istotne dla takich warstw jak Dropuot czy BatchNorm\n",
        "    if print_metrics:\n",
        "      # Plotting loss and accuracy graphs\n",
        "      fig, ax = plt.subplots(1, 2, figsize=(12, 5))\n",
        "      ax[0].plot(train_losses_list, label=\"Training\")\n",
        "      ax[0].plot(val_losses_list, label=\"Validation\")\n",
        "      ax[0].plot(test_losses_list, label=\"Test\")\n",
        "      ax[0].set_xlabel(\"Epoch\")\n",
        "      ax[0].set_ylabel(\"Loss\")\n",
        "      ax[0].set_title(\"Loss per Epoch\")\n",
        "      ax[0].legend()\n",
        "      \n",
        "      ax[1].plot(train_acc_list, label=\"Training\")\n",
        "      ax[1].plot(val_acc_list, label=\"Validation\")\n",
        "      ax[1].plot(test_acc_list, label=\"Test\")\n",
        "      ax[1].set_xlabel(\"Epoch\")\n",
        "      ax[1].set_ylabel(\"Accuracy\")\n",
        "      ax[1].set_title(\"Accuracy per Epoch\")\n",
        "      ax[1].legend()\n",
        "      \n",
        "      plt.show()\n",
        "  \n",
        "\n",
        "train_data = [(X_train[i], y_train[i]) for i in range(X_train.shape[0])]\n",
        "test_data = [(X_test[i], y_test[i]) for i in range(X_test.shape[0])]\n",
        "val_data, test_data = random_split(test_data, [len(test_data) // 2, len(test_data) - len(test_data) // 2], generator=torch.Generator().manual_seed(1))\n",
        "\n",
        "train_dl = DataLoader(train_data, batch_size=32)\n",
        "val_dl = DataLoader(val_data, batch_size=32)\n",
        "test_dl = DataLoader(test_data, batch_size=32)\n",
        "\n",
        "current_lr = 0\n",
        "cutrrent_epoch = 0\n",
        "current_acc = 0\n",
        "\n",
        "learning_rates = [0.001, 0.008, 0.015, 0.05]\n",
        "epochs = [100, 500, 1000]\n",
        "\n",
        "for lr in learning_rates:\n",
        "    for epoch in epochs:\n",
        "        perceptron = Perceptron(X_train.shape[1],3).cuda()\n",
        "        optimiser = optim.Adam(perceptron.parameters(), lr=lr)\n",
        "        loss_fn = torch.nn.CrossEntropyLoss()\n",
        "\n",
        "        fit_new(\n",
        "            model=perceptron, optimiser=optimiser, loss_fn=loss_fn, \n",
        "            train_dl=train_dl, test_dl=val_dl, val_dl=val_dl, epochs=epoch, \n",
        "            print_metrics=False\n",
        "        )\n",
        "\n",
        "        with torch.no_grad():\n",
        "          val_loss, val_acc = validate(perceptron, loss_fn, val_dl)\n",
        "\n",
        "        if val_acc > current_acc:\n",
        "            current_acc = val_acc\n",
        "            current_lr = lr\n",
        "            current_epoch = epoch\n",
        "\n",
        "\n",
        "perceptron = Perceptron(X_train.shape[1],3).cuda()\n",
        "optimiser = optim.Adam(perceptron.parameters(), lr=current_lr)\n",
        "loss_fn = torch.nn.CrossEntropyLoss()\n",
        "\n",
        "fit_new(\n",
        "    model=perceptron, optimiser=optimiser, loss_fn=loss_fn, \n",
        "    train_dl=train_dl, test_dl=test_dl, val_dl=val_dl, epochs=current_epoch, \n",
        "    print_metrics=True\n",
        ")\n",
        "\n",
        "print(f\"Best hyperparameters: lr={current_lr}, epochs={current_epoch}\")\n"
      ],
      "metadata": {
        "colab": {
          "base_uri": "https://localhost:8080/",
          "height": 1000
        },
        "id": "A8X3pLSzFva6",
        "outputId": "a14c1f9d-4d22-42d0-a951-9a46adc242db"
      },
      "execution_count": 42,
      "outputs": [
        {
          "output_type": "stream",
          "name": "stdout",
          "text": [
            "Epoch 0: train loss = 0.041 (acc: 0.667), validation loss = 0.047 (acc: 0.600),test loss = 0.036 (acc: 0.733),\n",
            "Epoch 1: train loss = 0.040 (acc: 0.667), validation loss = 0.045 (acc: 0.600),test loss = 0.035 (acc: 0.733),\n",
            "Epoch 2: train loss = 0.039 (acc: 0.667), validation loss = 0.044 (acc: 0.600),test loss = 0.034 (acc: 0.733),\n",
            "Epoch 3: train loss = 0.038 (acc: 0.667), validation loss = 0.043 (acc: 0.600),test loss = 0.033 (acc: 0.733),\n",
            "Epoch 4: train loss = 0.037 (acc: 0.667), validation loss = 0.042 (acc: 0.600),test loss = 0.032 (acc: 0.733),\n",
            "Epoch 5: train loss = 0.036 (acc: 0.667), validation loss = 0.041 (acc: 0.600),test loss = 0.032 (acc: 0.733),\n",
            "Epoch 6: train loss = 0.036 (acc: 0.667), validation loss = 0.040 (acc: 0.600),test loss = 0.031 (acc: 0.733),\n",
            "Epoch 7: train loss = 0.035 (acc: 0.667), validation loss = 0.039 (acc: 0.600),test loss = 0.030 (acc: 0.733),\n",
            "Epoch 8: train loss = 0.034 (acc: 0.667), validation loss = 0.038 (acc: 0.600),test loss = 0.030 (acc: 0.733),\n",
            "Epoch 9: train loss = 0.033 (acc: 0.667), validation loss = 0.037 (acc: 0.600),test loss = 0.029 (acc: 0.733),\n",
            "Epoch 10: train loss = 0.032 (acc: 0.667), validation loss = 0.036 (acc: 0.600),test loss = 0.028 (acc: 0.733),\n",
            "Epoch 11: train loss = 0.032 (acc: 0.667), validation loss = 0.035 (acc: 0.600),test loss = 0.028 (acc: 0.733),\n",
            "Epoch 12: train loss = 0.031 (acc: 0.667), validation loss = 0.034 (acc: 0.600),test loss = 0.027 (acc: 0.733),\n",
            "Epoch 13: train loss = 0.030 (acc: 0.667), validation loss = 0.033 (acc: 0.600),test loss = 0.027 (acc: 0.733),\n",
            "Epoch 14: train loss = 0.030 (acc: 0.667), validation loss = 0.032 (acc: 0.600),test loss = 0.026 (acc: 0.733),\n",
            "Epoch 15: train loss = 0.029 (acc: 0.667), validation loss = 0.032 (acc: 0.600),test loss = 0.026 (acc: 0.733),\n",
            "Epoch 16: train loss = 0.028 (acc: 0.667), validation loss = 0.031 (acc: 0.600),test loss = 0.025 (acc: 0.733),\n",
            "Epoch 17: train loss = 0.028 (acc: 0.667), validation loss = 0.030 (acc: 0.600),test loss = 0.025 (acc: 0.733),\n",
            "Epoch 18: train loss = 0.027 (acc: 0.667), validation loss = 0.030 (acc: 0.600),test loss = 0.025 (acc: 0.733),\n",
            "Epoch 19: train loss = 0.027 (acc: 0.667), validation loss = 0.029 (acc: 0.600),test loss = 0.024 (acc: 0.733),\n",
            "Epoch 20: train loss = 0.026 (acc: 0.667), validation loss = 0.028 (acc: 0.600),test loss = 0.024 (acc: 0.733),\n",
            "Epoch 21: train loss = 0.026 (acc: 0.667), validation loss = 0.028 (acc: 0.600),test loss = 0.024 (acc: 0.733),\n",
            "Epoch 22: train loss = 0.026 (acc: 0.667), validation loss = 0.027 (acc: 0.600),test loss = 0.024 (acc: 0.733),\n",
            "Epoch 23: train loss = 0.025 (acc: 0.667), validation loss = 0.027 (acc: 0.600),test loss = 0.023 (acc: 0.733),\n",
            "Epoch 24: train loss = 0.025 (acc: 0.667), validation loss = 0.027 (acc: 0.600),test loss = 0.023 (acc: 0.733),\n",
            "Epoch 25: train loss = 0.025 (acc: 0.667), validation loss = 0.026 (acc: 0.600),test loss = 0.023 (acc: 0.733),\n",
            "Epoch 26: train loss = 0.024 (acc: 0.667), validation loss = 0.026 (acc: 0.600),test loss = 0.023 (acc: 0.733),\n",
            "Epoch 27: train loss = 0.024 (acc: 0.667), validation loss = 0.025 (acc: 0.600),test loss = 0.023 (acc: 0.733),\n",
            "Epoch 28: train loss = 0.024 (acc: 0.667), validation loss = 0.025 (acc: 0.600),test loss = 0.022 (acc: 0.733),\n",
            "Epoch 29: train loss = 0.024 (acc: 0.667), validation loss = 0.025 (acc: 0.600),test loss = 0.022 (acc: 0.733),\n",
            "Epoch 30: train loss = 0.024 (acc: 0.678), validation loss = 0.025 (acc: 0.600),test loss = 0.022 (acc: 0.733),\n",
            "Epoch 31: train loss = 0.023 (acc: 0.678), validation loss = 0.024 (acc: 0.633),test loss = 0.022 (acc: 0.733),\n",
            "Epoch 32: train loss = 0.023 (acc: 0.689), validation loss = 0.024 (acc: 0.633),test loss = 0.022 (acc: 0.733),\n",
            "Epoch 33: train loss = 0.023 (acc: 0.711), validation loss = 0.024 (acc: 0.667),test loss = 0.022 (acc: 0.733),\n",
            "Epoch 34: train loss = 0.023 (acc: 0.711), validation loss = 0.024 (acc: 0.667),test loss = 0.022 (acc: 0.767),\n",
            "Epoch 35: train loss = 0.023 (acc: 0.711), validation loss = 0.024 (acc: 0.700),test loss = 0.022 (acc: 0.767),\n",
            "Epoch 36: train loss = 0.023 (acc: 0.700), validation loss = 0.024 (acc: 0.700),test loss = 0.022 (acc: 0.767),\n",
            "Epoch 37: train loss = 0.023 (acc: 0.722), validation loss = 0.023 (acc: 0.700),test loss = 0.022 (acc: 0.733),\n",
            "Epoch 38: train loss = 0.023 (acc: 0.711), validation loss = 0.023 (acc: 0.733),test loss = 0.022 (acc: 0.767),\n",
            "Epoch 39: train loss = 0.022 (acc: 0.722), validation loss = 0.023 (acc: 0.767),test loss = 0.022 (acc: 0.767),\n",
            "Epoch 40: train loss = 0.022 (acc: 0.756), validation loss = 0.023 (acc: 0.800),test loss = 0.022 (acc: 0.733),\n",
            "Epoch 41: train loss = 0.022 (acc: 0.778), validation loss = 0.023 (acc: 0.833),test loss = 0.022 (acc: 0.733),\n",
            "Epoch 42: train loss = 0.022 (acc: 0.778), validation loss = 0.023 (acc: 0.833),test loss = 0.022 (acc: 0.733),\n",
            "Epoch 43: train loss = 0.022 (acc: 0.778), validation loss = 0.023 (acc: 0.833),test loss = 0.021 (acc: 0.733),\n",
            "Epoch 44: train loss = 0.022 (acc: 0.767), validation loss = 0.023 (acc: 0.833),test loss = 0.021 (acc: 0.700),\n",
            "Epoch 45: train loss = 0.022 (acc: 0.767), validation loss = 0.023 (acc: 0.833),test loss = 0.021 (acc: 0.700),\n",
            "Epoch 46: train loss = 0.022 (acc: 0.744), validation loss = 0.023 (acc: 0.833),test loss = 0.021 (acc: 0.700),\n",
            "Epoch 47: train loss = 0.022 (acc: 0.744), validation loss = 0.022 (acc: 0.800),test loss = 0.021 (acc: 0.667),\n",
            "Epoch 48: train loss = 0.022 (acc: 0.756), validation loss = 0.022 (acc: 0.833),test loss = 0.021 (acc: 0.667),\n",
            "Epoch 49: train loss = 0.022 (acc: 0.744), validation loss = 0.022 (acc: 0.833),test loss = 0.021 (acc: 0.667),\n",
            "Epoch 50: train loss = 0.022 (acc: 0.733), validation loss = 0.022 (acc: 0.800),test loss = 0.021 (acc: 0.667),\n",
            "Epoch 51: train loss = 0.022 (acc: 0.733), validation loss = 0.022 (acc: 0.767),test loss = 0.021 (acc: 0.667),\n",
            "Epoch 52: train loss = 0.022 (acc: 0.744), validation loss = 0.022 (acc: 0.767),test loss = 0.021 (acc: 0.733),\n",
            "Epoch 53: train loss = 0.022 (acc: 0.744), validation loss = 0.022 (acc: 0.733),test loss = 0.021 (acc: 0.733),\n",
            "Epoch 54: train loss = 0.022 (acc: 0.744), validation loss = 0.022 (acc: 0.733),test loss = 0.021 (acc: 0.733),\n",
            "Epoch 55: train loss = 0.022 (acc: 0.733), validation loss = 0.022 (acc: 0.700),test loss = 0.021 (acc: 0.733),\n",
            "Epoch 56: train loss = 0.021 (acc: 0.733), validation loss = 0.022 (acc: 0.700),test loss = 0.021 (acc: 0.733),\n",
            "Epoch 57: train loss = 0.021 (acc: 0.722), validation loss = 0.022 (acc: 0.700),test loss = 0.021 (acc: 0.733),\n",
            "Epoch 58: train loss = 0.021 (acc: 0.700), validation loss = 0.022 (acc: 0.700),test loss = 0.021 (acc: 0.733),\n",
            "Epoch 59: train loss = 0.021 (acc: 0.689), validation loss = 0.022 (acc: 0.667),test loss = 0.021 (acc: 0.733),\n",
            "Epoch 60: train loss = 0.021 (acc: 0.689), validation loss = 0.022 (acc: 0.667),test loss = 0.021 (acc: 0.733),\n",
            "Epoch 61: train loss = 0.021 (acc: 0.689), validation loss = 0.022 (acc: 0.667),test loss = 0.021 (acc: 0.733),\n",
            "Epoch 62: train loss = 0.021 (acc: 0.689), validation loss = 0.022 (acc: 0.667),test loss = 0.021 (acc: 0.733),\n",
            "Epoch 63: train loss = 0.021 (acc: 0.689), validation loss = 0.022 (acc: 0.667),test loss = 0.021 (acc: 0.733),\n",
            "Epoch 64: train loss = 0.021 (acc: 0.689), validation loss = 0.022 (acc: 0.667),test loss = 0.021 (acc: 0.733),\n",
            "Epoch 65: train loss = 0.021 (acc: 0.689), validation loss = 0.022 (acc: 0.667),test loss = 0.021 (acc: 0.733),\n",
            "Epoch 66: train loss = 0.021 (acc: 0.689), validation loss = 0.022 (acc: 0.667),test loss = 0.021 (acc: 0.733),\n",
            "Epoch 67: train loss = 0.021 (acc: 0.689), validation loss = 0.022 (acc: 0.667),test loss = 0.021 (acc: 0.733),\n",
            "Epoch 68: train loss = 0.021 (acc: 0.689), validation loss = 0.021 (acc: 0.667),test loss = 0.020 (acc: 0.733),\n",
            "Epoch 69: train loss = 0.021 (acc: 0.689), validation loss = 0.021 (acc: 0.667),test loss = 0.020 (acc: 0.733),\n",
            "Epoch 70: train loss = 0.021 (acc: 0.689), validation loss = 0.021 (acc: 0.667),test loss = 0.020 (acc: 0.733),\n",
            "Epoch 71: train loss = 0.021 (acc: 0.689), validation loss = 0.021 (acc: 0.667),test loss = 0.020 (acc: 0.733),\n",
            "Epoch 72: train loss = 0.021 (acc: 0.689), validation loss = 0.021 (acc: 0.667),test loss = 0.020 (acc: 0.733),\n",
            "Epoch 73: train loss = 0.021 (acc: 0.689), validation loss = 0.021 (acc: 0.667),test loss = 0.020 (acc: 0.733),\n",
            "Epoch 74: train loss = 0.021 (acc: 0.689), validation loss = 0.021 (acc: 0.667),test loss = 0.020 (acc: 0.733),\n",
            "Epoch 75: train loss = 0.021 (acc: 0.700), validation loss = 0.021 (acc: 0.667),test loss = 0.020 (acc: 0.733),\n",
            "Epoch 76: train loss = 0.021 (acc: 0.700), validation loss = 0.021 (acc: 0.667),test loss = 0.020 (acc: 0.733),\n",
            "Epoch 77: train loss = 0.021 (acc: 0.700), validation loss = 0.021 (acc: 0.667),test loss = 0.020 (acc: 0.733),\n",
            "Epoch 78: train loss = 0.021 (acc: 0.700), validation loss = 0.021 (acc: 0.667),test loss = 0.020 (acc: 0.733),\n",
            "Epoch 79: train loss = 0.021 (acc: 0.700), validation loss = 0.021 (acc: 0.667),test loss = 0.020 (acc: 0.733),\n",
            "Epoch 80: train loss = 0.020 (acc: 0.700), validation loss = 0.021 (acc: 0.667),test loss = 0.020 (acc: 0.733),\n",
            "Epoch 81: train loss = 0.020 (acc: 0.700), validation loss = 0.021 (acc: 0.667),test loss = 0.020 (acc: 0.733),\n",
            "Epoch 82: train loss = 0.020 (acc: 0.711), validation loss = 0.021 (acc: 0.667),test loss = 0.020 (acc: 0.733),\n",
            "Epoch 83: train loss = 0.020 (acc: 0.711), validation loss = 0.021 (acc: 0.667),test loss = 0.020 (acc: 0.733),\n",
            "Epoch 84: train loss = 0.020 (acc: 0.711), validation loss = 0.021 (acc: 0.667),test loss = 0.020 (acc: 0.733),\n",
            "Epoch 85: train loss = 0.020 (acc: 0.711), validation loss = 0.021 (acc: 0.667),test loss = 0.020 (acc: 0.733),\n",
            "Epoch 86: train loss = 0.020 (acc: 0.711), validation loss = 0.021 (acc: 0.667),test loss = 0.020 (acc: 0.733),\n",
            "Epoch 87: train loss = 0.020 (acc: 0.711), validation loss = 0.021 (acc: 0.667),test loss = 0.020 (acc: 0.733),\n",
            "Epoch 88: train loss = 0.020 (acc: 0.711), validation loss = 0.021 (acc: 0.667),test loss = 0.020 (acc: 0.733),\n",
            "Epoch 89: train loss = 0.020 (acc: 0.711), validation loss = 0.021 (acc: 0.667),test loss = 0.020 (acc: 0.733),\n",
            "Epoch 90: train loss = 0.020 (acc: 0.711), validation loss = 0.021 (acc: 0.667),test loss = 0.020 (acc: 0.733),\n",
            "Epoch 91: train loss = 0.020 (acc: 0.711), validation loss = 0.021 (acc: 0.667),test loss = 0.020 (acc: 0.733),\n",
            "Epoch 92: train loss = 0.020 (acc: 0.711), validation loss = 0.021 (acc: 0.667),test loss = 0.020 (acc: 0.733),\n",
            "Epoch 93: train loss = 0.020 (acc: 0.711), validation loss = 0.021 (acc: 0.667),test loss = 0.020 (acc: 0.733),\n",
            "Epoch 94: train loss = 0.020 (acc: 0.711), validation loss = 0.021 (acc: 0.667),test loss = 0.019 (acc: 0.733),\n",
            "Epoch 95: train loss = 0.020 (acc: 0.711), validation loss = 0.020 (acc: 0.667),test loss = 0.019 (acc: 0.733),\n",
            "Epoch 96: train loss = 0.020 (acc: 0.711), validation loss = 0.020 (acc: 0.667),test loss = 0.019 (acc: 0.733),\n",
            "Epoch 97: train loss = 0.020 (acc: 0.711), validation loss = 0.020 (acc: 0.667),test loss = 0.019 (acc: 0.733),\n",
            "Epoch 98: train loss = 0.020 (acc: 0.711), validation loss = 0.020 (acc: 0.667),test loss = 0.019 (acc: 0.733),\n",
            "Epoch 99: train loss = 0.020 (acc: 0.711), validation loss = 0.020 (acc: 0.667),test loss = 0.019 (acc: 0.733),\n",
            "Epoch 100: train loss = 0.020 (acc: 0.711), validation loss = 0.020 (acc: 0.667),test loss = 0.019 (acc: 0.733),\n",
            "Epoch 101: train loss = 0.020 (acc: 0.711), validation loss = 0.020 (acc: 0.667),test loss = 0.019 (acc: 0.733),\n",
            "Epoch 102: train loss = 0.020 (acc: 0.711), validation loss = 0.020 (acc: 0.667),test loss = 0.019 (acc: 0.733),\n",
            "Epoch 103: train loss = 0.020 (acc: 0.711), validation loss = 0.020 (acc: 0.667),test loss = 0.019 (acc: 0.733),\n",
            "Epoch 104: train loss = 0.020 (acc: 0.711), validation loss = 0.020 (acc: 0.667),test loss = 0.019 (acc: 0.733),\n",
            "Epoch 105: train loss = 0.020 (acc: 0.711), validation loss = 0.020 (acc: 0.667),test loss = 0.019 (acc: 0.733),\n",
            "Epoch 106: train loss = 0.020 (acc: 0.711), validation loss = 0.020 (acc: 0.667),test loss = 0.019 (acc: 0.733),\n",
            "Epoch 107: train loss = 0.020 (acc: 0.711), validation loss = 0.020 (acc: 0.667),test loss = 0.019 (acc: 0.733),\n",
            "Epoch 108: train loss = 0.020 (acc: 0.711), validation loss = 0.020 (acc: 0.667),test loss = 0.019 (acc: 0.733),\n",
            "Epoch 109: train loss = 0.019 (acc: 0.711), validation loss = 0.020 (acc: 0.667),test loss = 0.019 (acc: 0.733),\n",
            "Epoch 110: train loss = 0.019 (acc: 0.711), validation loss = 0.020 (acc: 0.667),test loss = 0.019 (acc: 0.733),\n",
            "Epoch 111: train loss = 0.019 (acc: 0.722), validation loss = 0.020 (acc: 0.667),test loss = 0.019 (acc: 0.733),\n",
            "Epoch 112: train loss = 0.019 (acc: 0.722), validation loss = 0.020 (acc: 0.667),test loss = 0.019 (acc: 0.733),\n",
            "Epoch 113: train loss = 0.019 (acc: 0.722), validation loss = 0.020 (acc: 0.667),test loss = 0.019 (acc: 0.733),\n",
            "Epoch 114: train loss = 0.019 (acc: 0.722), validation loss = 0.020 (acc: 0.667),test loss = 0.019 (acc: 0.733),\n",
            "Epoch 115: train loss = 0.019 (acc: 0.722), validation loss = 0.020 (acc: 0.667),test loss = 0.019 (acc: 0.733),\n",
            "Epoch 116: train loss = 0.019 (acc: 0.722), validation loss = 0.020 (acc: 0.667),test loss = 0.019 (acc: 0.733),\n",
            "Epoch 117: train loss = 0.019 (acc: 0.722), validation loss = 0.020 (acc: 0.667),test loss = 0.019 (acc: 0.733),\n",
            "Epoch 118: train loss = 0.019 (acc: 0.722), validation loss = 0.020 (acc: 0.667),test loss = 0.019 (acc: 0.733),\n",
            "Epoch 119: train loss = 0.019 (acc: 0.722), validation loss = 0.020 (acc: 0.667),test loss = 0.019 (acc: 0.733),\n",
            "Epoch 120: train loss = 0.019 (acc: 0.722), validation loss = 0.020 (acc: 0.667),test loss = 0.019 (acc: 0.733),\n",
            "Epoch 121: train loss = 0.019 (acc: 0.722), validation loss = 0.020 (acc: 0.667),test loss = 0.019 (acc: 0.733),\n",
            "Epoch 122: train loss = 0.019 (acc: 0.722), validation loss = 0.020 (acc: 0.667),test loss = 0.019 (acc: 0.733),\n",
            "Epoch 123: train loss = 0.019 (acc: 0.722), validation loss = 0.020 (acc: 0.667),test loss = 0.019 (acc: 0.733),\n",
            "Epoch 124: train loss = 0.019 (acc: 0.722), validation loss = 0.020 (acc: 0.667),test loss = 0.018 (acc: 0.733),\n",
            "Epoch 125: train loss = 0.019 (acc: 0.722), validation loss = 0.020 (acc: 0.667),test loss = 0.018 (acc: 0.733),\n",
            "Epoch 126: train loss = 0.019 (acc: 0.722), validation loss = 0.020 (acc: 0.667),test loss = 0.018 (acc: 0.733),\n",
            "Epoch 127: train loss = 0.019 (acc: 0.722), validation loss = 0.020 (acc: 0.667),test loss = 0.018 (acc: 0.733),\n",
            "Epoch 128: train loss = 0.019 (acc: 0.722), validation loss = 0.019 (acc: 0.667),test loss = 0.018 (acc: 0.733),\n",
            "Epoch 129: train loss = 0.019 (acc: 0.722), validation loss = 0.019 (acc: 0.667),test loss = 0.018 (acc: 0.733),\n",
            "Epoch 130: train loss = 0.019 (acc: 0.722), validation loss = 0.019 (acc: 0.667),test loss = 0.018 (acc: 0.733),\n",
            "Epoch 131: train loss = 0.019 (acc: 0.722), validation loss = 0.019 (acc: 0.667),test loss = 0.018 (acc: 0.733),\n",
            "Epoch 132: train loss = 0.019 (acc: 0.722), validation loss = 0.019 (acc: 0.667),test loss = 0.018 (acc: 0.733),\n",
            "Epoch 133: train loss = 0.019 (acc: 0.733), validation loss = 0.019 (acc: 0.667),test loss = 0.018 (acc: 0.733),\n",
            "Epoch 134: train loss = 0.019 (acc: 0.733), validation loss = 0.019 (acc: 0.667),test loss = 0.018 (acc: 0.733),\n",
            "Epoch 135: train loss = 0.019 (acc: 0.733), validation loss = 0.019 (acc: 0.667),test loss = 0.018 (acc: 0.733),\n",
            "Epoch 136: train loss = 0.019 (acc: 0.733), validation loss = 0.019 (acc: 0.667),test loss = 0.018 (acc: 0.733),\n",
            "Epoch 137: train loss = 0.019 (acc: 0.733), validation loss = 0.019 (acc: 0.667),test loss = 0.018 (acc: 0.733),\n",
            "Epoch 138: train loss = 0.019 (acc: 0.733), validation loss = 0.019 (acc: 0.667),test loss = 0.018 (acc: 0.733),\n",
            "Epoch 139: train loss = 0.019 (acc: 0.733), validation loss = 0.019 (acc: 0.667),test loss = 0.018 (acc: 0.733),\n",
            "Epoch 140: train loss = 0.019 (acc: 0.733), validation loss = 0.019 (acc: 0.700),test loss = 0.018 (acc: 0.733),\n",
            "Epoch 141: train loss = 0.019 (acc: 0.733), validation loss = 0.019 (acc: 0.700),test loss = 0.018 (acc: 0.733),\n",
            "Epoch 142: train loss = 0.019 (acc: 0.733), validation loss = 0.019 (acc: 0.700),test loss = 0.018 (acc: 0.733),\n",
            "Epoch 143: train loss = 0.018 (acc: 0.733), validation loss = 0.019 (acc: 0.733),test loss = 0.018 (acc: 0.733),\n",
            "Epoch 144: train loss = 0.018 (acc: 0.733), validation loss = 0.019 (acc: 0.733),test loss = 0.018 (acc: 0.733),\n",
            "Epoch 145: train loss = 0.018 (acc: 0.733), validation loss = 0.019 (acc: 0.733),test loss = 0.018 (acc: 0.733),\n",
            "Epoch 146: train loss = 0.018 (acc: 0.733), validation loss = 0.019 (acc: 0.733),test loss = 0.018 (acc: 0.733),\n",
            "Epoch 147: train loss = 0.018 (acc: 0.733), validation loss = 0.019 (acc: 0.733),test loss = 0.018 (acc: 0.733),\n",
            "Epoch 148: train loss = 0.018 (acc: 0.733), validation loss = 0.019 (acc: 0.733),test loss = 0.018 (acc: 0.733),\n",
            "Epoch 149: train loss = 0.018 (acc: 0.733), validation loss = 0.019 (acc: 0.733),test loss = 0.018 (acc: 0.733),\n",
            "Epoch 150: train loss = 0.018 (acc: 0.733), validation loss = 0.019 (acc: 0.733),test loss = 0.018 (acc: 0.733),\n",
            "Epoch 151: train loss = 0.018 (acc: 0.733), validation loss = 0.019 (acc: 0.733),test loss = 0.018 (acc: 0.733),\n",
            "Epoch 152: train loss = 0.018 (acc: 0.733), validation loss = 0.019 (acc: 0.733),test loss = 0.018 (acc: 0.733),\n",
            "Epoch 153: train loss = 0.018 (acc: 0.733), validation loss = 0.019 (acc: 0.733),test loss = 0.018 (acc: 0.733),\n",
            "Epoch 154: train loss = 0.018 (acc: 0.733), validation loss = 0.019 (acc: 0.733),test loss = 0.018 (acc: 0.733),\n",
            "Epoch 155: train loss = 0.018 (acc: 0.733), validation loss = 0.019 (acc: 0.733),test loss = 0.018 (acc: 0.733),\n",
            "Epoch 156: train loss = 0.018 (acc: 0.733), validation loss = 0.019 (acc: 0.733),test loss = 0.018 (acc: 0.733),\n",
            "Epoch 157: train loss = 0.018 (acc: 0.733), validation loss = 0.019 (acc: 0.733),test loss = 0.018 (acc: 0.733),\n",
            "Epoch 158: train loss = 0.018 (acc: 0.744), validation loss = 0.019 (acc: 0.733),test loss = 0.018 (acc: 0.733),\n",
            "Epoch 159: train loss = 0.018 (acc: 0.744), validation loss = 0.019 (acc: 0.733),test loss = 0.018 (acc: 0.733),\n",
            "Epoch 160: train loss = 0.018 (acc: 0.744), validation loss = 0.019 (acc: 0.733),test loss = 0.017 (acc: 0.733),\n",
            "Epoch 161: train loss = 0.018 (acc: 0.744), validation loss = 0.019 (acc: 0.733),test loss = 0.017 (acc: 0.733),\n",
            "Epoch 162: train loss = 0.018 (acc: 0.744), validation loss = 0.019 (acc: 0.733),test loss = 0.017 (acc: 0.733),\n",
            "Epoch 163: train loss = 0.018 (acc: 0.756), validation loss = 0.019 (acc: 0.733),test loss = 0.017 (acc: 0.733),\n",
            "Epoch 164: train loss = 0.018 (acc: 0.756), validation loss = 0.019 (acc: 0.733),test loss = 0.017 (acc: 0.733),\n",
            "Epoch 165: train loss = 0.018 (acc: 0.767), validation loss = 0.019 (acc: 0.733),test loss = 0.017 (acc: 0.733),\n",
            "Epoch 166: train loss = 0.018 (acc: 0.767), validation loss = 0.019 (acc: 0.733),test loss = 0.017 (acc: 0.733),\n",
            "Epoch 167: train loss = 0.018 (acc: 0.767), validation loss = 0.018 (acc: 0.733),test loss = 0.017 (acc: 0.733),\n",
            "Epoch 168: train loss = 0.018 (acc: 0.767), validation loss = 0.018 (acc: 0.733),test loss = 0.017 (acc: 0.733),\n",
            "Epoch 169: train loss = 0.018 (acc: 0.767), validation loss = 0.018 (acc: 0.733),test loss = 0.017 (acc: 0.733),\n",
            "Epoch 170: train loss = 0.018 (acc: 0.767), validation loss = 0.018 (acc: 0.733),test loss = 0.017 (acc: 0.733),\n",
            "Epoch 171: train loss = 0.018 (acc: 0.767), validation loss = 0.018 (acc: 0.733),test loss = 0.017 (acc: 0.733),\n",
            "Epoch 172: train loss = 0.018 (acc: 0.767), validation loss = 0.018 (acc: 0.733),test loss = 0.017 (acc: 0.733),\n",
            "Epoch 173: train loss = 0.018 (acc: 0.767), validation loss = 0.018 (acc: 0.733),test loss = 0.017 (acc: 0.733),\n",
            "Epoch 174: train loss = 0.018 (acc: 0.778), validation loss = 0.018 (acc: 0.733),test loss = 0.017 (acc: 0.733),\n",
            "Epoch 175: train loss = 0.018 (acc: 0.778), validation loss = 0.018 (acc: 0.733),test loss = 0.017 (acc: 0.733),\n",
            "Epoch 176: train loss = 0.018 (acc: 0.778), validation loss = 0.018 (acc: 0.733),test loss = 0.017 (acc: 0.733),\n",
            "Epoch 177: train loss = 0.018 (acc: 0.778), validation loss = 0.018 (acc: 0.733),test loss = 0.017 (acc: 0.733),\n",
            "Epoch 178: train loss = 0.018 (acc: 0.778), validation loss = 0.018 (acc: 0.733),test loss = 0.017 (acc: 0.733),\n",
            "Epoch 179: train loss = 0.018 (acc: 0.778), validation loss = 0.018 (acc: 0.733),test loss = 0.017 (acc: 0.733),\n",
            "Epoch 180: train loss = 0.018 (acc: 0.778), validation loss = 0.018 (acc: 0.733),test loss = 0.017 (acc: 0.733),\n",
            "Epoch 181: train loss = 0.018 (acc: 0.778), validation loss = 0.018 (acc: 0.733),test loss = 0.017 (acc: 0.733),\n",
            "Epoch 182: train loss = 0.018 (acc: 0.778), validation loss = 0.018 (acc: 0.733),test loss = 0.017 (acc: 0.733),\n",
            "Epoch 183: train loss = 0.018 (acc: 0.778), validation loss = 0.018 (acc: 0.733),test loss = 0.017 (acc: 0.733),\n",
            "Epoch 184: train loss = 0.017 (acc: 0.778), validation loss = 0.018 (acc: 0.733),test loss = 0.017 (acc: 0.733),\n",
            "Epoch 185: train loss = 0.017 (acc: 0.778), validation loss = 0.018 (acc: 0.733),test loss = 0.017 (acc: 0.733),\n",
            "Epoch 186: train loss = 0.017 (acc: 0.778), validation loss = 0.018 (acc: 0.733),test loss = 0.017 (acc: 0.733),\n",
            "Epoch 187: train loss = 0.017 (acc: 0.778), validation loss = 0.018 (acc: 0.733),test loss = 0.017 (acc: 0.733),\n",
            "Epoch 188: train loss = 0.017 (acc: 0.778), validation loss = 0.018 (acc: 0.733),test loss = 0.017 (acc: 0.733),\n",
            "Epoch 189: train loss = 0.017 (acc: 0.778), validation loss = 0.018 (acc: 0.733),test loss = 0.017 (acc: 0.733),\n",
            "Epoch 190: train loss = 0.017 (acc: 0.789), validation loss = 0.018 (acc: 0.767),test loss = 0.017 (acc: 0.733),\n",
            "Epoch 191: train loss = 0.017 (acc: 0.789), validation loss = 0.018 (acc: 0.767),test loss = 0.017 (acc: 0.733),\n",
            "Epoch 192: train loss = 0.017 (acc: 0.789), validation loss = 0.018 (acc: 0.800),test loss = 0.017 (acc: 0.733),\n",
            "Epoch 193: train loss = 0.017 (acc: 0.789), validation loss = 0.018 (acc: 0.800),test loss = 0.017 (acc: 0.733),\n",
            "Epoch 194: train loss = 0.017 (acc: 0.789), validation loss = 0.018 (acc: 0.800),test loss = 0.017 (acc: 0.733),\n",
            "Epoch 195: train loss = 0.017 (acc: 0.789), validation loss = 0.018 (acc: 0.800),test loss = 0.017 (acc: 0.733),\n",
            "Epoch 196: train loss = 0.017 (acc: 0.789), validation loss = 0.018 (acc: 0.800),test loss = 0.017 (acc: 0.733),\n",
            "Epoch 197: train loss = 0.017 (acc: 0.789), validation loss = 0.018 (acc: 0.800),test loss = 0.017 (acc: 0.733),\n",
            "Epoch 198: train loss = 0.017 (acc: 0.800), validation loss = 0.018 (acc: 0.800),test loss = 0.017 (acc: 0.733),\n",
            "Epoch 199: train loss = 0.017 (acc: 0.800), validation loss = 0.018 (acc: 0.800),test loss = 0.017 (acc: 0.733),\n",
            "Epoch 200: train loss = 0.017 (acc: 0.800), validation loss = 0.018 (acc: 0.833),test loss = 0.017 (acc: 0.733),\n",
            "Epoch 201: train loss = 0.017 (acc: 0.800), validation loss = 0.018 (acc: 0.833),test loss = 0.017 (acc: 0.733),\n",
            "Epoch 202: train loss = 0.017 (acc: 0.811), validation loss = 0.018 (acc: 0.833),test loss = 0.017 (acc: 0.733),\n",
            "Epoch 203: train loss = 0.017 (acc: 0.811), validation loss = 0.018 (acc: 0.833),test loss = 0.017 (acc: 0.733),\n",
            "Epoch 204: train loss = 0.017 (acc: 0.811), validation loss = 0.018 (acc: 0.833),test loss = 0.017 (acc: 0.733),\n",
            "Epoch 205: train loss = 0.017 (acc: 0.811), validation loss = 0.018 (acc: 0.833),test loss = 0.016 (acc: 0.733),\n",
            "Epoch 206: train loss = 0.017 (acc: 0.811), validation loss = 0.018 (acc: 0.833),test loss = 0.016 (acc: 0.733),\n",
            "Epoch 207: train loss = 0.017 (acc: 0.811), validation loss = 0.018 (acc: 0.833),test loss = 0.016 (acc: 0.733),\n",
            "Epoch 208: train loss = 0.017 (acc: 0.811), validation loss = 0.018 (acc: 0.833),test loss = 0.016 (acc: 0.733),\n",
            "Epoch 209: train loss = 0.017 (acc: 0.811), validation loss = 0.018 (acc: 0.833),test loss = 0.016 (acc: 0.767),\n",
            "Epoch 210: train loss = 0.017 (acc: 0.811), validation loss = 0.018 (acc: 0.833),test loss = 0.016 (acc: 0.767),\n",
            "Epoch 211: train loss = 0.017 (acc: 0.811), validation loss = 0.018 (acc: 0.833),test loss = 0.016 (acc: 0.767),\n",
            "Epoch 212: train loss = 0.017 (acc: 0.811), validation loss = 0.018 (acc: 0.833),test loss = 0.016 (acc: 0.767),\n",
            "Epoch 213: train loss = 0.017 (acc: 0.811), validation loss = 0.018 (acc: 0.833),test loss = 0.016 (acc: 0.767),\n",
            "Epoch 214: train loss = 0.017 (acc: 0.811), validation loss = 0.017 (acc: 0.833),test loss = 0.016 (acc: 0.767),\n",
            "Epoch 215: train loss = 0.017 (acc: 0.811), validation loss = 0.017 (acc: 0.833),test loss = 0.016 (acc: 0.767),\n",
            "Epoch 216: train loss = 0.017 (acc: 0.811), validation loss = 0.017 (acc: 0.833),test loss = 0.016 (acc: 0.767),\n",
            "Epoch 217: train loss = 0.017 (acc: 0.811), validation loss = 0.017 (acc: 0.833),test loss = 0.016 (acc: 0.767),\n",
            "Epoch 218: train loss = 0.017 (acc: 0.811), validation loss = 0.017 (acc: 0.833),test loss = 0.016 (acc: 0.767),\n",
            "Epoch 219: train loss = 0.017 (acc: 0.822), validation loss = 0.017 (acc: 0.833),test loss = 0.016 (acc: 0.767),\n",
            "Epoch 220: train loss = 0.017 (acc: 0.822), validation loss = 0.017 (acc: 0.833),test loss = 0.016 (acc: 0.767),\n",
            "Epoch 221: train loss = 0.017 (acc: 0.822), validation loss = 0.017 (acc: 0.833),test loss = 0.016 (acc: 0.767),\n",
            "Epoch 222: train loss = 0.017 (acc: 0.822), validation loss = 0.017 (acc: 0.833),test loss = 0.016 (acc: 0.800),\n",
            "Epoch 223: train loss = 0.017 (acc: 0.822), validation loss = 0.017 (acc: 0.833),test loss = 0.016 (acc: 0.800),\n",
            "Epoch 224: train loss = 0.017 (acc: 0.822), validation loss = 0.017 (acc: 0.833),test loss = 0.016 (acc: 0.800),\n",
            "Epoch 225: train loss = 0.017 (acc: 0.822), validation loss = 0.017 (acc: 0.833),test loss = 0.016 (acc: 0.800),\n",
            "Epoch 226: train loss = 0.017 (acc: 0.822), validation loss = 0.017 (acc: 0.833),test loss = 0.016 (acc: 0.800),\n",
            "Epoch 227: train loss = 0.017 (acc: 0.822), validation loss = 0.017 (acc: 0.833),test loss = 0.016 (acc: 0.800),\n",
            "Epoch 228: train loss = 0.017 (acc: 0.822), validation loss = 0.017 (acc: 0.833),test loss = 0.016 (acc: 0.800),\n",
            "Epoch 229: train loss = 0.017 (acc: 0.822), validation loss = 0.017 (acc: 0.833),test loss = 0.016 (acc: 0.800),\n",
            "Epoch 230: train loss = 0.017 (acc: 0.822), validation loss = 0.017 (acc: 0.833),test loss = 0.016 (acc: 0.800),\n",
            "Epoch 231: train loss = 0.017 (acc: 0.822), validation loss = 0.017 (acc: 0.833),test loss = 0.016 (acc: 0.800),\n",
            "Epoch 232: train loss = 0.017 (acc: 0.822), validation loss = 0.017 (acc: 0.833),test loss = 0.016 (acc: 0.800),\n",
            "Epoch 233: train loss = 0.017 (acc: 0.822), validation loss = 0.017 (acc: 0.833),test loss = 0.016 (acc: 0.800),\n",
            "Epoch 234: train loss = 0.017 (acc: 0.822), validation loss = 0.017 (acc: 0.833),test loss = 0.016 (acc: 0.800),\n",
            "Epoch 235: train loss = 0.016 (acc: 0.822), validation loss = 0.017 (acc: 0.833),test loss = 0.016 (acc: 0.800),\n",
            "Epoch 236: train loss = 0.016 (acc: 0.822), validation loss = 0.017 (acc: 0.833),test loss = 0.016 (acc: 0.800),\n",
            "Epoch 237: train loss = 0.016 (acc: 0.822), validation loss = 0.017 (acc: 0.833),test loss = 0.016 (acc: 0.800),\n",
            "Epoch 238: train loss = 0.016 (acc: 0.822), validation loss = 0.017 (acc: 0.833),test loss = 0.016 (acc: 0.800),\n",
            "Epoch 239: train loss = 0.016 (acc: 0.822), validation loss = 0.017 (acc: 0.833),test loss = 0.016 (acc: 0.800),\n",
            "Epoch 240: train loss = 0.016 (acc: 0.822), validation loss = 0.017 (acc: 0.833),test loss = 0.016 (acc: 0.800),\n",
            "Epoch 241: train loss = 0.016 (acc: 0.822), validation loss = 0.017 (acc: 0.833),test loss = 0.016 (acc: 0.800),\n",
            "Epoch 242: train loss = 0.016 (acc: 0.822), validation loss = 0.017 (acc: 0.833),test loss = 0.016 (acc: 0.800),\n",
            "Epoch 243: train loss = 0.016 (acc: 0.822), validation loss = 0.017 (acc: 0.833),test loss = 0.016 (acc: 0.800),\n",
            "Epoch 244: train loss = 0.016 (acc: 0.822), validation loss = 0.017 (acc: 0.833),test loss = 0.016 (acc: 0.800),\n",
            "Epoch 245: train loss = 0.016 (acc: 0.822), validation loss = 0.017 (acc: 0.833),test loss = 0.016 (acc: 0.800),\n",
            "Epoch 246: train loss = 0.016 (acc: 0.822), validation loss = 0.017 (acc: 0.833),test loss = 0.016 (acc: 0.800),\n",
            "Epoch 247: train loss = 0.016 (acc: 0.822), validation loss = 0.017 (acc: 0.833),test loss = 0.016 (acc: 0.800),\n",
            "Epoch 248: train loss = 0.016 (acc: 0.822), validation loss = 0.017 (acc: 0.833),test loss = 0.016 (acc: 0.800),\n",
            "Epoch 249: train loss = 0.016 (acc: 0.822), validation loss = 0.017 (acc: 0.833),test loss = 0.016 (acc: 0.800),\n",
            "Epoch 250: train loss = 0.016 (acc: 0.822), validation loss = 0.017 (acc: 0.833),test loss = 0.016 (acc: 0.800),\n",
            "Epoch 251: train loss = 0.016 (acc: 0.822), validation loss = 0.017 (acc: 0.833),test loss = 0.016 (acc: 0.800),\n",
            "Epoch 252: train loss = 0.016 (acc: 0.822), validation loss = 0.017 (acc: 0.833),test loss = 0.016 (acc: 0.800),\n",
            "Epoch 253: train loss = 0.016 (acc: 0.822), validation loss = 0.017 (acc: 0.833),test loss = 0.016 (acc: 0.800),\n",
            "Epoch 254: train loss = 0.016 (acc: 0.822), validation loss = 0.017 (acc: 0.867),test loss = 0.016 (acc: 0.800),\n",
            "Epoch 255: train loss = 0.016 (acc: 0.822), validation loss = 0.017 (acc: 0.867),test loss = 0.016 (acc: 0.800),\n",
            "Epoch 256: train loss = 0.016 (acc: 0.822), validation loss = 0.017 (acc: 0.867),test loss = 0.016 (acc: 0.800),\n",
            "Epoch 257: train loss = 0.016 (acc: 0.822), validation loss = 0.017 (acc: 0.867),test loss = 0.016 (acc: 0.800),\n",
            "Epoch 258: train loss = 0.016 (acc: 0.822), validation loss = 0.017 (acc: 0.867),test loss = 0.016 (acc: 0.800),\n",
            "Epoch 259: train loss = 0.016 (acc: 0.822), validation loss = 0.017 (acc: 0.900),test loss = 0.016 (acc: 0.800),\n",
            "Epoch 260: train loss = 0.016 (acc: 0.822), validation loss = 0.017 (acc: 0.900),test loss = 0.015 (acc: 0.800),\n",
            "Epoch 261: train loss = 0.016 (acc: 0.822), validation loss = 0.017 (acc: 0.900),test loss = 0.015 (acc: 0.800),\n",
            "Epoch 262: train loss = 0.016 (acc: 0.822), validation loss = 0.017 (acc: 0.900),test loss = 0.015 (acc: 0.800),\n",
            "Epoch 263: train loss = 0.016 (acc: 0.822), validation loss = 0.017 (acc: 0.900),test loss = 0.015 (acc: 0.800),\n",
            "Epoch 264: train loss = 0.016 (acc: 0.822), validation loss = 0.017 (acc: 0.900),test loss = 0.015 (acc: 0.800),\n",
            "Epoch 265: train loss = 0.016 (acc: 0.822), validation loss = 0.017 (acc: 0.900),test loss = 0.015 (acc: 0.800),\n",
            "Epoch 266: train loss = 0.016 (acc: 0.822), validation loss = 0.017 (acc: 0.900),test loss = 0.015 (acc: 0.800),\n",
            "Epoch 267: train loss = 0.016 (acc: 0.822), validation loss = 0.017 (acc: 0.900),test loss = 0.015 (acc: 0.800),\n",
            "Epoch 268: train loss = 0.016 (acc: 0.822), validation loss = 0.017 (acc: 0.933),test loss = 0.015 (acc: 0.800),\n",
            "Epoch 269: train loss = 0.016 (acc: 0.822), validation loss = 0.017 (acc: 0.933),test loss = 0.015 (acc: 0.800),\n",
            "Epoch 270: train loss = 0.016 (acc: 0.822), validation loss = 0.017 (acc: 0.933),test loss = 0.015 (acc: 0.800),\n",
            "Epoch 271: train loss = 0.016 (acc: 0.822), validation loss = 0.016 (acc: 0.933),test loss = 0.015 (acc: 0.800),\n",
            "Epoch 272: train loss = 0.016 (acc: 0.822), validation loss = 0.016 (acc: 0.933),test loss = 0.015 (acc: 0.800),\n",
            "Epoch 273: train loss = 0.016 (acc: 0.822), validation loss = 0.016 (acc: 0.933),test loss = 0.015 (acc: 0.800),\n",
            "Epoch 274: train loss = 0.016 (acc: 0.822), validation loss = 0.016 (acc: 0.933),test loss = 0.015 (acc: 0.800),\n",
            "Epoch 275: train loss = 0.016 (acc: 0.822), validation loss = 0.016 (acc: 0.933),test loss = 0.015 (acc: 0.800),\n",
            "Epoch 276: train loss = 0.016 (acc: 0.822), validation loss = 0.016 (acc: 0.933),test loss = 0.015 (acc: 0.800),\n",
            "Epoch 277: train loss = 0.016 (acc: 0.822), validation loss = 0.016 (acc: 0.933),test loss = 0.015 (acc: 0.867),\n",
            "Epoch 278: train loss = 0.016 (acc: 0.822), validation loss = 0.016 (acc: 0.933),test loss = 0.015 (acc: 0.867),\n",
            "Epoch 279: train loss = 0.016 (acc: 0.822), validation loss = 0.016 (acc: 0.933),test loss = 0.015 (acc: 0.867),\n",
            "Epoch 280: train loss = 0.016 (acc: 0.822), validation loss = 0.016 (acc: 0.933),test loss = 0.015 (acc: 0.867),\n",
            "Epoch 281: train loss = 0.016 (acc: 0.822), validation loss = 0.016 (acc: 0.933),test loss = 0.015 (acc: 0.867),\n",
            "Epoch 282: train loss = 0.016 (acc: 0.833), validation loss = 0.016 (acc: 0.933),test loss = 0.015 (acc: 0.867),\n",
            "Epoch 283: train loss = 0.016 (acc: 0.844), validation loss = 0.016 (acc: 0.933),test loss = 0.015 (acc: 0.867),\n",
            "Epoch 284: train loss = 0.016 (acc: 0.844), validation loss = 0.016 (acc: 0.933),test loss = 0.015 (acc: 0.900),\n",
            "Epoch 285: train loss = 0.016 (acc: 0.844), validation loss = 0.016 (acc: 0.933),test loss = 0.015 (acc: 0.900),\n",
            "Epoch 286: train loss = 0.016 (acc: 0.844), validation loss = 0.016 (acc: 0.933),test loss = 0.015 (acc: 0.900),\n",
            "Epoch 287: train loss = 0.016 (acc: 0.844), validation loss = 0.016 (acc: 0.933),test loss = 0.015 (acc: 0.900),\n",
            "Epoch 288: train loss = 0.016 (acc: 0.844), validation loss = 0.016 (acc: 0.933),test loss = 0.015 (acc: 0.900),\n",
            "Epoch 289: train loss = 0.016 (acc: 0.844), validation loss = 0.016 (acc: 0.933),test loss = 0.015 (acc: 0.900),\n",
            "Epoch 290: train loss = 0.016 (acc: 0.844), validation loss = 0.016 (acc: 0.933),test loss = 0.015 (acc: 0.900),\n",
            "Epoch 291: train loss = 0.016 (acc: 0.844), validation loss = 0.016 (acc: 0.933),test loss = 0.015 (acc: 0.900),\n",
            "Epoch 292: train loss = 0.016 (acc: 0.844), validation loss = 0.016 (acc: 0.933),test loss = 0.015 (acc: 0.900),\n",
            "Epoch 293: train loss = 0.016 (acc: 0.844), validation loss = 0.016 (acc: 0.933),test loss = 0.015 (acc: 0.900),\n",
            "Epoch 294: train loss = 0.016 (acc: 0.844), validation loss = 0.016 (acc: 0.933),test loss = 0.015 (acc: 0.900),\n",
            "Epoch 295: train loss = 0.016 (acc: 0.844), validation loss = 0.016 (acc: 0.933),test loss = 0.015 (acc: 0.900),\n",
            "Epoch 296: train loss = 0.016 (acc: 0.844), validation loss = 0.016 (acc: 0.933),test loss = 0.015 (acc: 0.900),\n",
            "Epoch 297: train loss = 0.016 (acc: 0.844), validation loss = 0.016 (acc: 0.933),test loss = 0.015 (acc: 0.900),\n",
            "Epoch 298: train loss = 0.015 (acc: 0.844), validation loss = 0.016 (acc: 0.933),test loss = 0.015 (acc: 0.900),\n",
            "Epoch 299: train loss = 0.015 (acc: 0.844), validation loss = 0.016 (acc: 0.933),test loss = 0.015 (acc: 0.900),\n",
            "Epoch 300: train loss = 0.015 (acc: 0.844), validation loss = 0.016 (acc: 0.933),test loss = 0.015 (acc: 0.900),\n",
            "Epoch 301: train loss = 0.015 (acc: 0.844), validation loss = 0.016 (acc: 0.933),test loss = 0.015 (acc: 0.900),\n",
            "Epoch 302: train loss = 0.015 (acc: 0.844), validation loss = 0.016 (acc: 0.933),test loss = 0.015 (acc: 0.900),\n",
            "Epoch 303: train loss = 0.015 (acc: 0.844), validation loss = 0.016 (acc: 0.933),test loss = 0.015 (acc: 0.900),\n",
            "Epoch 304: train loss = 0.015 (acc: 0.844), validation loss = 0.016 (acc: 0.933),test loss = 0.015 (acc: 0.900),\n",
            "Epoch 305: train loss = 0.015 (acc: 0.844), validation loss = 0.016 (acc: 0.933),test loss = 0.015 (acc: 0.900),\n",
            "Epoch 306: train loss = 0.015 (acc: 0.844), validation loss = 0.016 (acc: 0.933),test loss = 0.015 (acc: 0.900),\n",
            "Epoch 307: train loss = 0.015 (acc: 0.844), validation loss = 0.016 (acc: 0.933),test loss = 0.015 (acc: 0.900),\n",
            "Epoch 308: train loss = 0.015 (acc: 0.856), validation loss = 0.016 (acc: 0.933),test loss = 0.015 (acc: 0.900),\n",
            "Epoch 309: train loss = 0.015 (acc: 0.856), validation loss = 0.016 (acc: 0.933),test loss = 0.015 (acc: 0.900),\n",
            "Epoch 310: train loss = 0.015 (acc: 0.856), validation loss = 0.016 (acc: 0.933),test loss = 0.015 (acc: 0.900),\n",
            "Epoch 311: train loss = 0.015 (acc: 0.856), validation loss = 0.016 (acc: 0.933),test loss = 0.015 (acc: 0.900),\n",
            "Epoch 312: train loss = 0.015 (acc: 0.856), validation loss = 0.016 (acc: 0.933),test loss = 0.015 (acc: 0.900),\n",
            "Epoch 313: train loss = 0.015 (acc: 0.856), validation loss = 0.016 (acc: 0.933),test loss = 0.015 (acc: 0.900),\n",
            "Epoch 314: train loss = 0.015 (acc: 0.856), validation loss = 0.016 (acc: 0.933),test loss = 0.015 (acc: 0.900),\n",
            "Epoch 315: train loss = 0.015 (acc: 0.856), validation loss = 0.016 (acc: 0.933),test loss = 0.015 (acc: 0.900),\n",
            "Epoch 316: train loss = 0.015 (acc: 0.856), validation loss = 0.016 (acc: 0.933),test loss = 0.015 (acc: 0.900),\n",
            "Epoch 317: train loss = 0.015 (acc: 0.856), validation loss = 0.016 (acc: 0.933),test loss = 0.015 (acc: 0.900),\n",
            "Epoch 318: train loss = 0.015 (acc: 0.856), validation loss = 0.016 (acc: 0.933),test loss = 0.015 (acc: 0.900),\n",
            "Epoch 319: train loss = 0.015 (acc: 0.856), validation loss = 0.016 (acc: 0.933),test loss = 0.015 (acc: 0.900),\n",
            "Epoch 320: train loss = 0.015 (acc: 0.856), validation loss = 0.016 (acc: 0.933),test loss = 0.015 (acc: 0.900),\n",
            "Epoch 321: train loss = 0.015 (acc: 0.856), validation loss = 0.016 (acc: 0.933),test loss = 0.015 (acc: 0.900),\n",
            "Epoch 322: train loss = 0.015 (acc: 0.856), validation loss = 0.016 (acc: 0.933),test loss = 0.015 (acc: 0.900),\n",
            "Epoch 323: train loss = 0.015 (acc: 0.856), validation loss = 0.016 (acc: 0.933),test loss = 0.015 (acc: 0.900),\n",
            "Epoch 324: train loss = 0.015 (acc: 0.856), validation loss = 0.016 (acc: 0.933),test loss = 0.015 (acc: 0.900),\n",
            "Epoch 325: train loss = 0.015 (acc: 0.856), validation loss = 0.016 (acc: 0.933),test loss = 0.015 (acc: 0.900),\n",
            "Epoch 326: train loss = 0.015 (acc: 0.856), validation loss = 0.016 (acc: 0.933),test loss = 0.015 (acc: 0.900),\n",
            "Epoch 327: train loss = 0.015 (acc: 0.878), validation loss = 0.016 (acc: 0.933),test loss = 0.015 (acc: 0.900),\n",
            "Epoch 328: train loss = 0.015 (acc: 0.878), validation loss = 0.016 (acc: 0.933),test loss = 0.014 (acc: 0.900),\n",
            "Epoch 329: train loss = 0.015 (acc: 0.878), validation loss = 0.016 (acc: 0.933),test loss = 0.014 (acc: 0.900),\n",
            "Epoch 330: train loss = 0.015 (acc: 0.878), validation loss = 0.016 (acc: 0.933),test loss = 0.014 (acc: 0.900),\n",
            "Epoch 331: train loss = 0.015 (acc: 0.878), validation loss = 0.016 (acc: 0.933),test loss = 0.014 (acc: 0.900),\n",
            "Epoch 332: train loss = 0.015 (acc: 0.889), validation loss = 0.016 (acc: 0.933),test loss = 0.014 (acc: 0.900),\n",
            "Epoch 333: train loss = 0.015 (acc: 0.889), validation loss = 0.016 (acc: 0.933),test loss = 0.014 (acc: 0.900),\n",
            "Epoch 334: train loss = 0.015 (acc: 0.889), validation loss = 0.016 (acc: 0.933),test loss = 0.014 (acc: 0.900),\n",
            "Epoch 335: train loss = 0.015 (acc: 0.889), validation loss = 0.016 (acc: 0.933),test loss = 0.014 (acc: 0.900),\n",
            "Epoch 336: train loss = 0.015 (acc: 0.889), validation loss = 0.016 (acc: 0.933),test loss = 0.014 (acc: 0.900),\n",
            "Epoch 337: train loss = 0.015 (acc: 0.900), validation loss = 0.016 (acc: 0.933),test loss = 0.014 (acc: 0.900),\n",
            "Epoch 338: train loss = 0.015 (acc: 0.900), validation loss = 0.015 (acc: 0.933),test loss = 0.014 (acc: 0.900),\n",
            "Epoch 339: train loss = 0.015 (acc: 0.900), validation loss = 0.015 (acc: 0.933),test loss = 0.014 (acc: 0.900),\n",
            "Epoch 340: train loss = 0.015 (acc: 0.900), validation loss = 0.015 (acc: 0.933),test loss = 0.014 (acc: 0.900),\n",
            "Epoch 341: train loss = 0.015 (acc: 0.900), validation loss = 0.015 (acc: 0.933),test loss = 0.014 (acc: 0.900),\n",
            "Epoch 342: train loss = 0.015 (acc: 0.900), validation loss = 0.015 (acc: 0.933),test loss = 0.014 (acc: 0.900),\n",
            "Epoch 343: train loss = 0.015 (acc: 0.900), validation loss = 0.015 (acc: 0.933),test loss = 0.014 (acc: 0.900),\n",
            "Epoch 344: train loss = 0.015 (acc: 0.900), validation loss = 0.015 (acc: 0.933),test loss = 0.014 (acc: 0.900),\n",
            "Epoch 345: train loss = 0.015 (acc: 0.900), validation loss = 0.015 (acc: 0.933),test loss = 0.014 (acc: 0.900),\n",
            "Epoch 346: train loss = 0.015 (acc: 0.900), validation loss = 0.015 (acc: 0.933),test loss = 0.014 (acc: 0.900),\n",
            "Epoch 347: train loss = 0.015 (acc: 0.900), validation loss = 0.015 (acc: 0.933),test loss = 0.014 (acc: 0.900),\n",
            "Epoch 348: train loss = 0.015 (acc: 0.900), validation loss = 0.015 (acc: 0.933),test loss = 0.014 (acc: 0.900),\n",
            "Epoch 349: train loss = 0.015 (acc: 0.900), validation loss = 0.015 (acc: 0.933),test loss = 0.014 (acc: 0.900),\n",
            "Epoch 350: train loss = 0.015 (acc: 0.900), validation loss = 0.015 (acc: 0.933),test loss = 0.014 (acc: 0.900),\n",
            "Epoch 351: train loss = 0.015 (acc: 0.900), validation loss = 0.015 (acc: 0.933),test loss = 0.014 (acc: 0.900),\n",
            "Epoch 352: train loss = 0.015 (acc: 0.900), validation loss = 0.015 (acc: 0.933),test loss = 0.014 (acc: 0.900),\n",
            "Epoch 353: train loss = 0.015 (acc: 0.900), validation loss = 0.015 (acc: 0.933),test loss = 0.014 (acc: 0.900),\n",
            "Epoch 354: train loss = 0.015 (acc: 0.900), validation loss = 0.015 (acc: 0.933),test loss = 0.014 (acc: 0.900),\n",
            "Epoch 355: train loss = 0.015 (acc: 0.900), validation loss = 0.015 (acc: 0.933),test loss = 0.014 (acc: 0.900),\n",
            "Epoch 356: train loss = 0.015 (acc: 0.900), validation loss = 0.015 (acc: 0.933),test loss = 0.014 (acc: 0.900),\n",
            "Epoch 357: train loss = 0.015 (acc: 0.900), validation loss = 0.015 (acc: 0.933),test loss = 0.014 (acc: 0.900),\n",
            "Epoch 358: train loss = 0.015 (acc: 0.900), validation loss = 0.015 (acc: 0.933),test loss = 0.014 (acc: 0.900),\n",
            "Epoch 359: train loss = 0.015 (acc: 0.900), validation loss = 0.015 (acc: 0.933),test loss = 0.014 (acc: 0.900),\n",
            "Epoch 360: train loss = 0.015 (acc: 0.900), validation loss = 0.015 (acc: 0.933),test loss = 0.014 (acc: 0.900),\n",
            "Epoch 361: train loss = 0.015 (acc: 0.900), validation loss = 0.015 (acc: 0.967),test loss = 0.014 (acc: 0.900),\n",
            "Epoch 362: train loss = 0.015 (acc: 0.900), validation loss = 0.015 (acc: 0.967),test loss = 0.014 (acc: 0.900),\n",
            "Epoch 363: train loss = 0.015 (acc: 0.900), validation loss = 0.015 (acc: 0.967),test loss = 0.014 (acc: 0.900),\n",
            "Epoch 364: train loss = 0.015 (acc: 0.900), validation loss = 0.015 (acc: 0.967),test loss = 0.014 (acc: 0.900),\n",
            "Epoch 365: train loss = 0.015 (acc: 0.900), validation loss = 0.015 (acc: 0.967),test loss = 0.014 (acc: 0.900),\n",
            "Epoch 366: train loss = 0.015 (acc: 0.900), validation loss = 0.015 (acc: 0.967),test loss = 0.014 (acc: 0.900),\n",
            "Epoch 367: train loss = 0.015 (acc: 0.900), validation loss = 0.015 (acc: 0.967),test loss = 0.014 (acc: 0.900),\n",
            "Epoch 368: train loss = 0.015 (acc: 0.900), validation loss = 0.015 (acc: 0.967),test loss = 0.014 (acc: 0.900),\n",
            "Epoch 369: train loss = 0.015 (acc: 0.900), validation loss = 0.015 (acc: 0.967),test loss = 0.014 (acc: 0.900),\n",
            "Epoch 370: train loss = 0.015 (acc: 0.900), validation loss = 0.015 (acc: 0.967),test loss = 0.014 (acc: 0.900),\n",
            "Epoch 371: train loss = 0.015 (acc: 0.900), validation loss = 0.015 (acc: 0.967),test loss = 0.014 (acc: 0.900),\n",
            "Epoch 372: train loss = 0.015 (acc: 0.900), validation loss = 0.015 (acc: 0.967),test loss = 0.014 (acc: 0.900),\n",
            "Epoch 373: train loss = 0.015 (acc: 0.900), validation loss = 0.015 (acc: 0.967),test loss = 0.014 (acc: 0.900),\n",
            "Epoch 374: train loss = 0.014 (acc: 0.900), validation loss = 0.015 (acc: 0.967),test loss = 0.014 (acc: 0.900),\n",
            "Epoch 375: train loss = 0.014 (acc: 0.900), validation loss = 0.015 (acc: 0.967),test loss = 0.014 (acc: 0.900),\n",
            "Epoch 376: train loss = 0.014 (acc: 0.900), validation loss = 0.015 (acc: 0.967),test loss = 0.014 (acc: 0.900),\n",
            "Epoch 377: train loss = 0.014 (acc: 0.900), validation loss = 0.015 (acc: 0.967),test loss = 0.014 (acc: 0.900),\n",
            "Epoch 378: train loss = 0.014 (acc: 0.900), validation loss = 0.015 (acc: 0.967),test loss = 0.014 (acc: 0.900),\n",
            "Epoch 379: train loss = 0.014 (acc: 0.900), validation loss = 0.015 (acc: 0.967),test loss = 0.014 (acc: 0.900),\n",
            "Epoch 380: train loss = 0.014 (acc: 0.900), validation loss = 0.015 (acc: 0.967),test loss = 0.014 (acc: 0.900),\n",
            "Epoch 381: train loss = 0.014 (acc: 0.900), validation loss = 0.015 (acc: 0.967),test loss = 0.014 (acc: 0.900),\n",
            "Epoch 382: train loss = 0.014 (acc: 0.900), validation loss = 0.015 (acc: 0.967),test loss = 0.014 (acc: 0.900),\n",
            "Epoch 383: train loss = 0.014 (acc: 0.900), validation loss = 0.015 (acc: 0.967),test loss = 0.014 (acc: 0.900),\n",
            "Epoch 384: train loss = 0.014 (acc: 0.900), validation loss = 0.015 (acc: 0.967),test loss = 0.014 (acc: 0.900),\n",
            "Epoch 385: train loss = 0.014 (acc: 0.900), validation loss = 0.015 (acc: 0.967),test loss = 0.014 (acc: 0.900),\n",
            "Epoch 386: train loss = 0.014 (acc: 0.900), validation loss = 0.015 (acc: 0.967),test loss = 0.014 (acc: 0.900),\n",
            "Epoch 387: train loss = 0.014 (acc: 0.900), validation loss = 0.015 (acc: 0.967),test loss = 0.014 (acc: 0.900),\n",
            "Epoch 388: train loss = 0.014 (acc: 0.900), validation loss = 0.015 (acc: 0.967),test loss = 0.014 (acc: 0.900),\n",
            "Epoch 389: train loss = 0.014 (acc: 0.900), validation loss = 0.015 (acc: 0.967),test loss = 0.014 (acc: 0.900),\n",
            "Epoch 390: train loss = 0.014 (acc: 0.900), validation loss = 0.015 (acc: 0.967),test loss = 0.014 (acc: 0.900),\n",
            "Epoch 391: train loss = 0.014 (acc: 0.900), validation loss = 0.015 (acc: 0.967),test loss = 0.014 (acc: 0.900),\n",
            "Epoch 392: train loss = 0.014 (acc: 0.900), validation loss = 0.015 (acc: 0.967),test loss = 0.014 (acc: 0.900),\n",
            "Epoch 393: train loss = 0.014 (acc: 0.900), validation loss = 0.015 (acc: 0.967),test loss = 0.014 (acc: 0.900),\n",
            "Epoch 394: train loss = 0.014 (acc: 0.900), validation loss = 0.015 (acc: 0.967),test loss = 0.014 (acc: 0.900),\n",
            "Epoch 395: train loss = 0.014 (acc: 0.900), validation loss = 0.015 (acc: 0.967),test loss = 0.014 (acc: 0.900),\n",
            "Epoch 396: train loss = 0.014 (acc: 0.900), validation loss = 0.015 (acc: 0.967),test loss = 0.014 (acc: 0.900),\n",
            "Epoch 397: train loss = 0.014 (acc: 0.900), validation loss = 0.015 (acc: 0.967),test loss = 0.014 (acc: 0.900),\n",
            "Epoch 398: train loss = 0.014 (acc: 0.900), validation loss = 0.015 (acc: 0.967),test loss = 0.014 (acc: 0.900),\n",
            "Epoch 399: train loss = 0.014 (acc: 0.900), validation loss = 0.015 (acc: 0.967),test loss = 0.014 (acc: 0.900),\n",
            "Epoch 400: train loss = 0.014 (acc: 0.900), validation loss = 0.015 (acc: 0.967),test loss = 0.014 (acc: 0.900),\n",
            "Epoch 401: train loss = 0.014 (acc: 0.900), validation loss = 0.015 (acc: 0.967),test loss = 0.014 (acc: 0.900),\n",
            "Epoch 402: train loss = 0.014 (acc: 0.900), validation loss = 0.015 (acc: 0.967),test loss = 0.014 (acc: 0.900),\n",
            "Epoch 403: train loss = 0.014 (acc: 0.900), validation loss = 0.015 (acc: 0.967),test loss = 0.014 (acc: 0.900),\n",
            "Epoch 404: train loss = 0.014 (acc: 0.900), validation loss = 0.015 (acc: 0.967),test loss = 0.014 (acc: 0.900),\n",
            "Epoch 405: train loss = 0.014 (acc: 0.900), validation loss = 0.015 (acc: 0.967),test loss = 0.014 (acc: 0.900),\n",
            "Epoch 406: train loss = 0.014 (acc: 0.900), validation loss = 0.015 (acc: 0.967),test loss = 0.014 (acc: 0.900),\n",
            "Epoch 407: train loss = 0.014 (acc: 0.900), validation loss = 0.015 (acc: 0.967),test loss = 0.014 (acc: 0.900),\n",
            "Epoch 408: train loss = 0.014 (acc: 0.900), validation loss = 0.015 (acc: 0.967),test loss = 0.014 (acc: 0.900),\n",
            "Epoch 409: train loss = 0.014 (acc: 0.900), validation loss = 0.015 (acc: 0.967),test loss = 0.014 (acc: 0.900),\n",
            "Epoch 410: train loss = 0.014 (acc: 0.900), validation loss = 0.015 (acc: 0.967),test loss = 0.014 (acc: 0.900),\n",
            "Epoch 411: train loss = 0.014 (acc: 0.900), validation loss = 0.015 (acc: 0.967),test loss = 0.014 (acc: 0.900),\n",
            "Epoch 412: train loss = 0.014 (acc: 0.900), validation loss = 0.015 (acc: 0.967),test loss = 0.013 (acc: 0.900),\n",
            "Epoch 413: train loss = 0.014 (acc: 0.900), validation loss = 0.015 (acc: 0.967),test loss = 0.013 (acc: 0.900),\n",
            "Epoch 414: train loss = 0.014 (acc: 0.900), validation loss = 0.015 (acc: 0.967),test loss = 0.013 (acc: 0.900),\n",
            "Epoch 415: train loss = 0.014 (acc: 0.900), validation loss = 0.015 (acc: 0.967),test loss = 0.013 (acc: 0.900),\n",
            "Epoch 416: train loss = 0.014 (acc: 0.900), validation loss = 0.015 (acc: 0.967),test loss = 0.013 (acc: 0.900),\n",
            "Epoch 417: train loss = 0.014 (acc: 0.900), validation loss = 0.015 (acc: 0.967),test loss = 0.013 (acc: 0.900),\n",
            "Epoch 418: train loss = 0.014 (acc: 0.900), validation loss = 0.014 (acc: 0.967),test loss = 0.013 (acc: 0.900),\n",
            "Epoch 419: train loss = 0.014 (acc: 0.900), validation loss = 0.014 (acc: 0.967),test loss = 0.013 (acc: 0.900),\n",
            "Epoch 420: train loss = 0.014 (acc: 0.900), validation loss = 0.014 (acc: 0.967),test loss = 0.013 (acc: 0.900),\n",
            "Epoch 421: train loss = 0.014 (acc: 0.900), validation loss = 0.014 (acc: 0.967),test loss = 0.013 (acc: 0.900),\n",
            "Epoch 422: train loss = 0.014 (acc: 0.900), validation loss = 0.014 (acc: 0.967),test loss = 0.013 (acc: 0.900),\n",
            "Epoch 423: train loss = 0.014 (acc: 0.900), validation loss = 0.014 (acc: 0.967),test loss = 0.013 (acc: 0.900),\n",
            "Epoch 424: train loss = 0.014 (acc: 0.900), validation loss = 0.014 (acc: 0.967),test loss = 0.013 (acc: 0.900),\n",
            "Epoch 425: train loss = 0.014 (acc: 0.900), validation loss = 0.014 (acc: 0.967),test loss = 0.013 (acc: 0.900),\n",
            "Epoch 426: train loss = 0.014 (acc: 0.900), validation loss = 0.014 (acc: 0.967),test loss = 0.013 (acc: 0.900),\n",
            "Epoch 427: train loss = 0.014 (acc: 0.900), validation loss = 0.014 (acc: 0.967),test loss = 0.013 (acc: 0.900),\n",
            "Epoch 428: train loss = 0.014 (acc: 0.900), validation loss = 0.014 (acc: 0.967),test loss = 0.013 (acc: 0.900),\n",
            "Epoch 429: train loss = 0.014 (acc: 0.900), validation loss = 0.014 (acc: 0.967),test loss = 0.013 (acc: 0.900),\n",
            "Epoch 430: train loss = 0.014 (acc: 0.900), validation loss = 0.014 (acc: 0.967),test loss = 0.013 (acc: 0.900),\n",
            "Epoch 431: train loss = 0.014 (acc: 0.900), validation loss = 0.014 (acc: 0.967),test loss = 0.013 (acc: 0.900),\n",
            "Epoch 432: train loss = 0.014 (acc: 0.900), validation loss = 0.014 (acc: 0.967),test loss = 0.013 (acc: 0.900),\n",
            "Epoch 433: train loss = 0.014 (acc: 0.900), validation loss = 0.014 (acc: 0.967),test loss = 0.013 (acc: 0.900),\n",
            "Epoch 434: train loss = 0.014 (acc: 0.900), validation loss = 0.014 (acc: 0.967),test loss = 0.013 (acc: 0.900),\n",
            "Epoch 435: train loss = 0.014 (acc: 0.900), validation loss = 0.014 (acc: 0.967),test loss = 0.013 (acc: 0.900),\n",
            "Epoch 436: train loss = 0.014 (acc: 0.900), validation loss = 0.014 (acc: 0.967),test loss = 0.013 (acc: 0.900),\n",
            "Epoch 437: train loss = 0.014 (acc: 0.900), validation loss = 0.014 (acc: 0.967),test loss = 0.013 (acc: 0.900),\n",
            "Epoch 438: train loss = 0.014 (acc: 0.900), validation loss = 0.014 (acc: 0.967),test loss = 0.013 (acc: 0.900),\n",
            "Epoch 439: train loss = 0.014 (acc: 0.900), validation loss = 0.014 (acc: 0.967),test loss = 0.013 (acc: 0.900),\n",
            "Epoch 440: train loss = 0.014 (acc: 0.900), validation loss = 0.014 (acc: 0.967),test loss = 0.013 (acc: 0.900),\n",
            "Epoch 441: train loss = 0.014 (acc: 0.900), validation loss = 0.014 (acc: 0.967),test loss = 0.013 (acc: 0.900),\n",
            "Epoch 442: train loss = 0.014 (acc: 0.900), validation loss = 0.014 (acc: 0.967),test loss = 0.013 (acc: 0.900),\n",
            "Epoch 443: train loss = 0.014 (acc: 0.900), validation loss = 0.014 (acc: 0.967),test loss = 0.013 (acc: 0.900),\n",
            "Epoch 444: train loss = 0.014 (acc: 0.900), validation loss = 0.014 (acc: 0.967),test loss = 0.013 (acc: 0.900),\n",
            "Epoch 445: train loss = 0.014 (acc: 0.900), validation loss = 0.014 (acc: 0.967),test loss = 0.013 (acc: 0.900),\n",
            "Epoch 446: train loss = 0.014 (acc: 0.900), validation loss = 0.014 (acc: 0.967),test loss = 0.013 (acc: 0.900),\n",
            "Epoch 447: train loss = 0.014 (acc: 0.900), validation loss = 0.014 (acc: 0.967),test loss = 0.013 (acc: 0.900),\n",
            "Epoch 448: train loss = 0.014 (acc: 0.900), validation loss = 0.014 (acc: 0.967),test loss = 0.013 (acc: 0.900),\n",
            "Epoch 449: train loss = 0.014 (acc: 0.900), validation loss = 0.014 (acc: 0.967),test loss = 0.013 (acc: 0.900),\n",
            "Epoch 450: train loss = 0.014 (acc: 0.900), validation loss = 0.014 (acc: 0.967),test loss = 0.013 (acc: 0.900),\n",
            "Epoch 451: train loss = 0.014 (acc: 0.900), validation loss = 0.014 (acc: 0.967),test loss = 0.013 (acc: 0.900),\n",
            "Epoch 452: train loss = 0.014 (acc: 0.900), validation loss = 0.014 (acc: 0.967),test loss = 0.013 (acc: 0.900),\n",
            "Epoch 453: train loss = 0.014 (acc: 0.900), validation loss = 0.014 (acc: 0.967),test loss = 0.013 (acc: 0.900),\n",
            "Epoch 454: train loss = 0.014 (acc: 0.900), validation loss = 0.014 (acc: 0.967),test loss = 0.013 (acc: 0.900),\n",
            "Epoch 455: train loss = 0.014 (acc: 0.900), validation loss = 0.014 (acc: 0.967),test loss = 0.013 (acc: 0.900),\n",
            "Epoch 456: train loss = 0.014 (acc: 0.900), validation loss = 0.014 (acc: 0.967),test loss = 0.013 (acc: 0.900),\n",
            "Epoch 457: train loss = 0.014 (acc: 0.900), validation loss = 0.014 (acc: 0.967),test loss = 0.013 (acc: 0.900),\n",
            "Epoch 458: train loss = 0.014 (acc: 0.900), validation loss = 0.014 (acc: 0.967),test loss = 0.013 (acc: 0.900),\n",
            "Epoch 459: train loss = 0.014 (acc: 0.900), validation loss = 0.014 (acc: 0.967),test loss = 0.013 (acc: 0.900),\n",
            "Epoch 460: train loss = 0.014 (acc: 0.900), validation loss = 0.014 (acc: 0.967),test loss = 0.013 (acc: 0.900),\n",
            "Epoch 461: train loss = 0.014 (acc: 0.900), validation loss = 0.014 (acc: 0.967),test loss = 0.013 (acc: 0.900),\n",
            "Epoch 462: train loss = 0.014 (acc: 0.900), validation loss = 0.014 (acc: 0.967),test loss = 0.013 (acc: 0.900),\n",
            "Epoch 463: train loss = 0.014 (acc: 0.900), validation loss = 0.014 (acc: 0.967),test loss = 0.013 (acc: 0.900),\n",
            "Epoch 464: train loss = 0.014 (acc: 0.900), validation loss = 0.014 (acc: 0.967),test loss = 0.013 (acc: 0.900),\n",
            "Epoch 465: train loss = 0.013 (acc: 0.900), validation loss = 0.014 (acc: 0.967),test loss = 0.013 (acc: 0.900),\n",
            "Epoch 466: train loss = 0.013 (acc: 0.900), validation loss = 0.014 (acc: 0.967),test loss = 0.013 (acc: 0.900),\n",
            "Epoch 467: train loss = 0.013 (acc: 0.900), validation loss = 0.014 (acc: 0.967),test loss = 0.013 (acc: 0.900),\n",
            "Epoch 468: train loss = 0.013 (acc: 0.900), validation loss = 0.014 (acc: 0.967),test loss = 0.013 (acc: 0.900),\n",
            "Epoch 469: train loss = 0.013 (acc: 0.900), validation loss = 0.014 (acc: 0.967),test loss = 0.013 (acc: 0.900),\n",
            "Epoch 470: train loss = 0.013 (acc: 0.900), validation loss = 0.014 (acc: 0.967),test loss = 0.013 (acc: 0.900),\n",
            "Epoch 471: train loss = 0.013 (acc: 0.900), validation loss = 0.014 (acc: 0.967),test loss = 0.013 (acc: 0.900),\n",
            "Epoch 472: train loss = 0.013 (acc: 0.900), validation loss = 0.014 (acc: 0.967),test loss = 0.013 (acc: 0.900),\n",
            "Epoch 473: train loss = 0.013 (acc: 0.900), validation loss = 0.014 (acc: 0.967),test loss = 0.013 (acc: 0.900),\n",
            "Epoch 474: train loss = 0.013 (acc: 0.900), validation loss = 0.014 (acc: 0.967),test loss = 0.013 (acc: 0.900),\n",
            "Epoch 475: train loss = 0.013 (acc: 0.900), validation loss = 0.014 (acc: 0.967),test loss = 0.013 (acc: 0.900),\n",
            "Epoch 476: train loss = 0.013 (acc: 0.900), validation loss = 0.014 (acc: 0.967),test loss = 0.013 (acc: 0.900),\n",
            "Epoch 477: train loss = 0.013 (acc: 0.900), validation loss = 0.014 (acc: 0.967),test loss = 0.013 (acc: 0.900),\n",
            "Epoch 478: train loss = 0.013 (acc: 0.900), validation loss = 0.014 (acc: 0.967),test loss = 0.013 (acc: 0.900),\n",
            "Epoch 479: train loss = 0.013 (acc: 0.900), validation loss = 0.014 (acc: 0.967),test loss = 0.013 (acc: 0.900),\n",
            "Epoch 480: train loss = 0.013 (acc: 0.900), validation loss = 0.014 (acc: 0.967),test loss = 0.013 (acc: 0.900),\n",
            "Epoch 481: train loss = 0.013 (acc: 0.900), validation loss = 0.014 (acc: 0.967),test loss = 0.013 (acc: 0.900),\n",
            "Epoch 482: train loss = 0.013 (acc: 0.900), validation loss = 0.014 (acc: 0.967),test loss = 0.013 (acc: 0.900),\n",
            "Epoch 483: train loss = 0.013 (acc: 0.900), validation loss = 0.014 (acc: 0.967),test loss = 0.013 (acc: 0.900),\n",
            "Epoch 484: train loss = 0.013 (acc: 0.911), validation loss = 0.014 (acc: 0.967),test loss = 0.013 (acc: 0.900),\n",
            "Epoch 485: train loss = 0.013 (acc: 0.911), validation loss = 0.014 (acc: 0.967),test loss = 0.013 (acc: 0.900),\n",
            "Epoch 486: train loss = 0.013 (acc: 0.911), validation loss = 0.014 (acc: 0.967),test loss = 0.013 (acc: 0.900),\n",
            "Epoch 487: train loss = 0.013 (acc: 0.911), validation loss = 0.014 (acc: 0.967),test loss = 0.013 (acc: 0.900),\n",
            "Epoch 488: train loss = 0.013 (acc: 0.911), validation loss = 0.014 (acc: 0.967),test loss = 0.013 (acc: 0.900),\n",
            "Epoch 489: train loss = 0.013 (acc: 0.911), validation loss = 0.014 (acc: 0.967),test loss = 0.013 (acc: 0.900),\n",
            "Epoch 490: train loss = 0.013 (acc: 0.911), validation loss = 0.014 (acc: 0.967),test loss = 0.013 (acc: 0.900),\n",
            "Epoch 491: train loss = 0.013 (acc: 0.911), validation loss = 0.014 (acc: 0.967),test loss = 0.013 (acc: 0.900),\n",
            "Epoch 492: train loss = 0.013 (acc: 0.911), validation loss = 0.014 (acc: 0.967),test loss = 0.013 (acc: 0.900),\n",
            "Epoch 493: train loss = 0.013 (acc: 0.911), validation loss = 0.014 (acc: 0.967),test loss = 0.013 (acc: 0.900),\n",
            "Epoch 494: train loss = 0.013 (acc: 0.911), validation loss = 0.014 (acc: 0.967),test loss = 0.013 (acc: 0.900),\n",
            "Epoch 495: train loss = 0.013 (acc: 0.911), validation loss = 0.014 (acc: 0.967),test loss = 0.013 (acc: 0.900),\n",
            "Epoch 496: train loss = 0.013 (acc: 0.922), validation loss = 0.014 (acc: 0.967),test loss = 0.013 (acc: 0.900),\n",
            "Epoch 497: train loss = 0.013 (acc: 0.922), validation loss = 0.014 (acc: 0.967),test loss = 0.013 (acc: 0.900),\n",
            "Epoch 498: train loss = 0.013 (acc: 0.922), validation loss = 0.014 (acc: 0.967),test loss = 0.013 (acc: 0.900),\n",
            "Epoch 499: train loss = 0.013 (acc: 0.922), validation loss = 0.014 (acc: 0.967),test loss = 0.013 (acc: 0.900),\n"
          ]
        },
        {
          "output_type": "display_data",
          "data": {
            "text/plain": [
              "<Figure size 864x360 with 2 Axes>"
            ],
            "image/png": "[encoded data removed]"
          },
          "metadata": {
            "needs_background": "light"
          }
        },
        {
          "output_type": "stream",
          "name": "stdout",
          "text": [
            "Best hyperparameters: lr=0.001, epochs=500\n"
          ]
        }
      ]
    },
    {
      "cell_type": "markdown",
      "metadata": {
        "id": "hVkTsruIBaBa"
      },
      "source": [
        "***Uzupełnij*** funkcję `fit`, aby ta mogła logować metryki (*loss*, *accuracy*) per epokę. Po zebraniu historii uczenia ***przedstaw*** następujące wykresy:\n",
        "- Wykres wartości funkcji kosztu w zależności od epoki uczenia dla zbioru uczącego i testowego\n",
        "- Wykres wartości metryki *accuracy* w zależności od epoki uczenia dla zbioru uczącego i testowego \n",
        "\n",
        "Metryki dla obu zbiorów przedstaw na jednym wykresie jako serie. ***Uzupełnij*** etykiety osi i tytuły wykresów."
      ]
    },
    {
      "cell_type": "markdown",
      "metadata": {
        "id": "E_eBwlwF6siY"
      },
      "source": [
        "***Popraw*** model, tak aby otrzymać dokładność na zbiorze testowym wynoszącą co najmniej 90%. W tym celu dobierz odpowiedni współczynnik uczenia i liczbę epok. \n",
        "Do porównania badanych hiperparametrów użyj zbioru walidacyjnego. Podziel zbiór testowy na dwie równe części, jeden który będzie służyć do walidacji hiperparametrów, a drugi, który będzie służył do ewaluacji znalezionej najlepszej pary hiperparametrów. W tym celu możesz wykorzystać funkcję `torch.utils.data.random_split` z ustawionym parametrem `generator=torch.Generator().manual_seed(1)`. Przedstaw równiez wykresy o których mowa punkcie powyżej tym razem z uwzględniem trzech zbiorów (uczącego, walidacyjnego i testowego)"
      ]
    }
  ]
}